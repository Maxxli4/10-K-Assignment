{
  "nbformat": 4,
  "nbformat_minor": 0,
  "metadata": {
    "colab": {
      "provenance": []
    },
    "kernelspec": {
      "name": "python3",
      "display_name": "Python 3"
    },
    "language_info": {
      "name": "python"
    },
    "widgets": {
      "application/vnd.jupyter.widget-state+json": {
        "edd5c34e3a40473b98b505c2585b770e": {
          "model_module": "@jupyter-widgets/controls",
          "model_name": "HBoxModel",
          "model_module_version": "1.5.0",
          "state": {
            "_dom_classes": [],
            "_model_module": "@jupyter-widgets/controls",
            "_model_module_version": "1.5.0",
            "_model_name": "HBoxModel",
            "_view_count": null,
            "_view_module": "@jupyter-widgets/controls",
            "_view_module_version": "1.5.0",
            "_view_name": "HBoxView",
            "box_style": "",
            "children": [
              "IPY_MODEL_4139ac096ad34ea786b286580a5b1cc8",
              "IPY_MODEL_e27a254a5f5045b392a7d7f9c4fb7212",
              "IPY_MODEL_bb2a67dc14f34f66950362c6a61d60a2"
            ],
            "layout": "IPY_MODEL_de69c8fa48da4ece838e7c6b1cc1b738"
          }
        },
        "4139ac096ad34ea786b286580a5b1cc8": {
          "model_module": "@jupyter-widgets/controls",
          "model_name": "HTMLModel",
          "model_module_version": "1.5.0",
          "state": {
            "_dom_classes": [],
            "_model_module": "@jupyter-widgets/controls",
            "_model_module_version": "1.5.0",
            "_model_name": "HTMLModel",
            "_view_count": null,
            "_view_module": "@jupyter-widgets/controls",
            "_view_module_version": "1.5.0",
            "_view_name": "HTMLView",
            "description": "",
            "description_tooltip": null,
            "layout": "IPY_MODEL_1315f7f5ca724529be02b8e5f86ad67f",
            "placeholder": "​",
            "style": "IPY_MODEL_1fcd191ccd964efd95b9848088276149",
            "value": "config.json: 100%"
          }
        },
        "e27a254a5f5045b392a7d7f9c4fb7212": {
          "model_module": "@jupyter-widgets/controls",
          "model_name": "FloatProgressModel",
          "model_module_version": "1.5.0",
          "state": {
            "_dom_classes": [],
            "_model_module": "@jupyter-widgets/controls",
            "_model_module_version": "1.5.0",
            "_model_name": "FloatProgressModel",
            "_view_count": null,
            "_view_module": "@jupyter-widgets/controls",
            "_view_module_version": "1.5.0",
            "_view_name": "ProgressView",
            "bar_style": "success",
            "description": "",
            "description_tooltip": null,
            "layout": "IPY_MODEL_5c122f3f41e54cc1b7c0ff9f9cd2adb9",
            "max": 1208,
            "min": 0,
            "orientation": "horizontal",
            "style": "IPY_MODEL_c54a88dd9278468297e414ffb8f99d80",
            "value": 1208
          }
        },
        "bb2a67dc14f34f66950362c6a61d60a2": {
          "model_module": "@jupyter-widgets/controls",
          "model_name": "HTMLModel",
          "model_module_version": "1.5.0",
          "state": {
            "_dom_classes": [],
            "_model_module": "@jupyter-widgets/controls",
            "_model_module_version": "1.5.0",
            "_model_name": "HTMLModel",
            "_view_count": null,
            "_view_module": "@jupyter-widgets/controls",
            "_view_module_version": "1.5.0",
            "_view_name": "HTMLView",
            "description": "",
            "description_tooltip": null,
            "layout": "IPY_MODEL_d88f20965c0143b7a07cc4f6ceae1fbe",
            "placeholder": "​",
            "style": "IPY_MODEL_aee88d205cde4b9684fe16e20b3d868a",
            "value": " 1.21k/1.21k [00:00&lt;00:00, 63.7kB/s]"
          }
        },
        "de69c8fa48da4ece838e7c6b1cc1b738": {
          "model_module": "@jupyter-widgets/base",
          "model_name": "LayoutModel",
          "model_module_version": "1.2.0",
          "state": {
            "_model_module": "@jupyter-widgets/base",
            "_model_module_version": "1.2.0",
            "_model_name": "LayoutModel",
            "_view_count": null,
            "_view_module": "@jupyter-widgets/base",
            "_view_module_version": "1.2.0",
            "_view_name": "LayoutView",
            "align_content": null,
            "align_items": null,
            "align_self": null,
            "border": null,
            "bottom": null,
            "display": null,
            "flex": null,
            "flex_flow": null,
            "grid_area": null,
            "grid_auto_columns": null,
            "grid_auto_flow": null,
            "grid_auto_rows": null,
            "grid_column": null,
            "grid_gap": null,
            "grid_row": null,
            "grid_template_areas": null,
            "grid_template_columns": null,
            "grid_template_rows": null,
            "height": null,
            "justify_content": null,
            "justify_items": null,
            "left": null,
            "margin": null,
            "max_height": null,
            "max_width": null,
            "min_height": null,
            "min_width": null,
            "object_fit": null,
            "object_position": null,
            "order": null,
            "overflow": null,
            "overflow_x": null,
            "overflow_y": null,
            "padding": null,
            "right": null,
            "top": null,
            "visibility": null,
            "width": null
          }
        },
        "1315f7f5ca724529be02b8e5f86ad67f": {
          "model_module": "@jupyter-widgets/base",
          "model_name": "LayoutModel",
          "model_module_version": "1.2.0",
          "state": {
            "_model_module": "@jupyter-widgets/base",
            "_model_module_version": "1.2.0",
            "_model_name": "LayoutModel",
            "_view_count": null,
            "_view_module": "@jupyter-widgets/base",
            "_view_module_version": "1.2.0",
            "_view_name": "LayoutView",
            "align_content": null,
            "align_items": null,
            "align_self": null,
            "border": null,
            "bottom": null,
            "display": null,
            "flex": null,
            "flex_flow": null,
            "grid_area": null,
            "grid_auto_columns": null,
            "grid_auto_flow": null,
            "grid_auto_rows": null,
            "grid_column": null,
            "grid_gap": null,
            "grid_row": null,
            "grid_template_areas": null,
            "grid_template_columns": null,
            "grid_template_rows": null,
            "height": null,
            "justify_content": null,
            "justify_items": null,
            "left": null,
            "margin": null,
            "max_height": null,
            "max_width": null,
            "min_height": null,
            "min_width": null,
            "object_fit": null,
            "object_position": null,
            "order": null,
            "overflow": null,
            "overflow_x": null,
            "overflow_y": null,
            "padding": null,
            "right": null,
            "top": null,
            "visibility": null,
            "width": null
          }
        },
        "1fcd191ccd964efd95b9848088276149": {
          "model_module": "@jupyter-widgets/controls",
          "model_name": "DescriptionStyleModel",
          "model_module_version": "1.5.0",
          "state": {
            "_model_module": "@jupyter-widgets/controls",
            "_model_module_version": "1.5.0",
            "_model_name": "DescriptionStyleModel",
            "_view_count": null,
            "_view_module": "@jupyter-widgets/base",
            "_view_module_version": "1.2.0",
            "_view_name": "StyleView",
            "description_width": ""
          }
        },
        "5c122f3f41e54cc1b7c0ff9f9cd2adb9": {
          "model_module": "@jupyter-widgets/base",
          "model_name": "LayoutModel",
          "model_module_version": "1.2.0",
          "state": {
            "_model_module": "@jupyter-widgets/base",
            "_model_module_version": "1.2.0",
            "_model_name": "LayoutModel",
            "_view_count": null,
            "_view_module": "@jupyter-widgets/base",
            "_view_module_version": "1.2.0",
            "_view_name": "LayoutView",
            "align_content": null,
            "align_items": null,
            "align_self": null,
            "border": null,
            "bottom": null,
            "display": null,
            "flex": null,
            "flex_flow": null,
            "grid_area": null,
            "grid_auto_columns": null,
            "grid_auto_flow": null,
            "grid_auto_rows": null,
            "grid_column": null,
            "grid_gap": null,
            "grid_row": null,
            "grid_template_areas": null,
            "grid_template_columns": null,
            "grid_template_rows": null,
            "height": null,
            "justify_content": null,
            "justify_items": null,
            "left": null,
            "margin": null,
            "max_height": null,
            "max_width": null,
            "min_height": null,
            "min_width": null,
            "object_fit": null,
            "object_position": null,
            "order": null,
            "overflow": null,
            "overflow_x": null,
            "overflow_y": null,
            "padding": null,
            "right": null,
            "top": null,
            "visibility": null,
            "width": null
          }
        },
        "c54a88dd9278468297e414ffb8f99d80": {
          "model_module": "@jupyter-widgets/controls",
          "model_name": "ProgressStyleModel",
          "model_module_version": "1.5.0",
          "state": {
            "_model_module": "@jupyter-widgets/controls",
            "_model_module_version": "1.5.0",
            "_model_name": "ProgressStyleModel",
            "_view_count": null,
            "_view_module": "@jupyter-widgets/base",
            "_view_module_version": "1.2.0",
            "_view_name": "StyleView",
            "bar_color": null,
            "description_width": ""
          }
        },
        "d88f20965c0143b7a07cc4f6ceae1fbe": {
          "model_module": "@jupyter-widgets/base",
          "model_name": "LayoutModel",
          "model_module_version": "1.2.0",
          "state": {
            "_model_module": "@jupyter-widgets/base",
            "_model_module_version": "1.2.0",
            "_model_name": "LayoutModel",
            "_view_count": null,
            "_view_module": "@jupyter-widgets/base",
            "_view_module_version": "1.2.0",
            "_view_name": "LayoutView",
            "align_content": null,
            "align_items": null,
            "align_self": null,
            "border": null,
            "bottom": null,
            "display": null,
            "flex": null,
            "flex_flow": null,
            "grid_area": null,
            "grid_auto_columns": null,
            "grid_auto_flow": null,
            "grid_auto_rows": null,
            "grid_column": null,
            "grid_gap": null,
            "grid_row": null,
            "grid_template_areas": null,
            "grid_template_columns": null,
            "grid_template_rows": null,
            "height": null,
            "justify_content": null,
            "justify_items": null,
            "left": null,
            "margin": null,
            "max_height": null,
            "max_width": null,
            "min_height": null,
            "min_width": null,
            "object_fit": null,
            "object_position": null,
            "order": null,
            "overflow": null,
            "overflow_x": null,
            "overflow_y": null,
            "padding": null,
            "right": null,
            "top": null,
            "visibility": null,
            "width": null
          }
        },
        "aee88d205cde4b9684fe16e20b3d868a": {
          "model_module": "@jupyter-widgets/controls",
          "model_name": "DescriptionStyleModel",
          "model_module_version": "1.5.0",
          "state": {
            "_model_module": "@jupyter-widgets/controls",
            "_model_module_version": "1.5.0",
            "_model_name": "DescriptionStyleModel",
            "_view_count": null,
            "_view_module": "@jupyter-widgets/base",
            "_view_module_version": "1.2.0",
            "_view_name": "StyleView",
            "description_width": ""
          }
        },
        "90932bf478c840f891260b0bb2e3910b": {
          "model_module": "@jupyter-widgets/controls",
          "model_name": "HBoxModel",
          "model_module_version": "1.5.0",
          "state": {
            "_dom_classes": [],
            "_model_module": "@jupyter-widgets/controls",
            "_model_module_version": "1.5.0",
            "_model_name": "HBoxModel",
            "_view_count": null,
            "_view_module": "@jupyter-widgets/controls",
            "_view_module_version": "1.5.0",
            "_view_name": "HBoxView",
            "box_style": "",
            "children": [
              "IPY_MODEL_92d4c658b6934f2883ffa17bd47be0ea",
              "IPY_MODEL_76bbfdce5b3e4c06bb168f0429334a54",
              "IPY_MODEL_61e3a8c165af4c77a2c2523e7f7ca5b0"
            ],
            "layout": "IPY_MODEL_a1d948346d514ac4bd4aac90d4399d11"
          }
        },
        "92d4c658b6934f2883ffa17bd47be0ea": {
          "model_module": "@jupyter-widgets/controls",
          "model_name": "HTMLModel",
          "model_module_version": "1.5.0",
          "state": {
            "_dom_classes": [],
            "_model_module": "@jupyter-widgets/controls",
            "_model_module_version": "1.5.0",
            "_model_name": "HTMLModel",
            "_view_count": null,
            "_view_module": "@jupyter-widgets/controls",
            "_view_module_version": "1.5.0",
            "_view_name": "HTMLView",
            "description": "",
            "description_tooltip": null,
            "layout": "IPY_MODEL_e0e00e414fbc4e02aede47328d04d275",
            "placeholder": "​",
            "style": "IPY_MODEL_2d3d081daa13421fb13e601bcbdada39",
            "value": "model.safetensors: 100%"
          }
        },
        "76bbfdce5b3e4c06bb168f0429334a54": {
          "model_module": "@jupyter-widgets/controls",
          "model_name": "FloatProgressModel",
          "model_module_version": "1.5.0",
          "state": {
            "_dom_classes": [],
            "_model_module": "@jupyter-widgets/controls",
            "_model_module_version": "1.5.0",
            "_model_name": "FloatProgressModel",
            "_view_count": null,
            "_view_module": "@jupyter-widgets/controls",
            "_view_module_version": "1.5.0",
            "_view_name": "ProgressView",
            "bar_style": "success",
            "description": "",
            "description_tooltip": null,
            "layout": "IPY_MODEL_110aa14228f7427284e5f0be7f926ff5",
            "max": 891646390,
            "min": 0,
            "orientation": "horizontal",
            "style": "IPY_MODEL_fcc5f4f678864cd2a680023a6e662581",
            "value": 891646390
          }
        },
        "61e3a8c165af4c77a2c2523e7f7ca5b0": {
          "model_module": "@jupyter-widgets/controls",
          "model_name": "HTMLModel",
          "model_module_version": "1.5.0",
          "state": {
            "_dom_classes": [],
            "_model_module": "@jupyter-widgets/controls",
            "_model_module_version": "1.5.0",
            "_model_name": "HTMLModel",
            "_view_count": null,
            "_view_module": "@jupyter-widgets/controls",
            "_view_module_version": "1.5.0",
            "_view_name": "HTMLView",
            "description": "",
            "description_tooltip": null,
            "layout": "IPY_MODEL_6f21e5f0cfd94fcf8f2592ce6f1e8fb7",
            "placeholder": "​",
            "style": "IPY_MODEL_2b731c8440a54ccfa27d0859b9651454",
            "value": " 892M/892M [00:11&lt;00:00, 60.0MB/s]"
          }
        },
        "a1d948346d514ac4bd4aac90d4399d11": {
          "model_module": "@jupyter-widgets/base",
          "model_name": "LayoutModel",
          "model_module_version": "1.2.0",
          "state": {
            "_model_module": "@jupyter-widgets/base",
            "_model_module_version": "1.2.0",
            "_model_name": "LayoutModel",
            "_view_count": null,
            "_view_module": "@jupyter-widgets/base",
            "_view_module_version": "1.2.0",
            "_view_name": "LayoutView",
            "align_content": null,
            "align_items": null,
            "align_self": null,
            "border": null,
            "bottom": null,
            "display": null,
            "flex": null,
            "flex_flow": null,
            "grid_area": null,
            "grid_auto_columns": null,
            "grid_auto_flow": null,
            "grid_auto_rows": null,
            "grid_column": null,
            "grid_gap": null,
            "grid_row": null,
            "grid_template_areas": null,
            "grid_template_columns": null,
            "grid_template_rows": null,
            "height": null,
            "justify_content": null,
            "justify_items": null,
            "left": null,
            "margin": null,
            "max_height": null,
            "max_width": null,
            "min_height": null,
            "min_width": null,
            "object_fit": null,
            "object_position": null,
            "order": null,
            "overflow": null,
            "overflow_x": null,
            "overflow_y": null,
            "padding": null,
            "right": null,
            "top": null,
            "visibility": null,
            "width": null
          }
        },
        "e0e00e414fbc4e02aede47328d04d275": {
          "model_module": "@jupyter-widgets/base",
          "model_name": "LayoutModel",
          "model_module_version": "1.2.0",
          "state": {
            "_model_module": "@jupyter-widgets/base",
            "_model_module_version": "1.2.0",
            "_model_name": "LayoutModel",
            "_view_count": null,
            "_view_module": "@jupyter-widgets/base",
            "_view_module_version": "1.2.0",
            "_view_name": "LayoutView",
            "align_content": null,
            "align_items": null,
            "align_self": null,
            "border": null,
            "bottom": null,
            "display": null,
            "flex": null,
            "flex_flow": null,
            "grid_area": null,
            "grid_auto_columns": null,
            "grid_auto_flow": null,
            "grid_auto_rows": null,
            "grid_column": null,
            "grid_gap": null,
            "grid_row": null,
            "grid_template_areas": null,
            "grid_template_columns": null,
            "grid_template_rows": null,
            "height": null,
            "justify_content": null,
            "justify_items": null,
            "left": null,
            "margin": null,
            "max_height": null,
            "max_width": null,
            "min_height": null,
            "min_width": null,
            "object_fit": null,
            "object_position": null,
            "order": null,
            "overflow": null,
            "overflow_x": null,
            "overflow_y": null,
            "padding": null,
            "right": null,
            "top": null,
            "visibility": null,
            "width": null
          }
        },
        "2d3d081daa13421fb13e601bcbdada39": {
          "model_module": "@jupyter-widgets/controls",
          "model_name": "DescriptionStyleModel",
          "model_module_version": "1.5.0",
          "state": {
            "_model_module": "@jupyter-widgets/controls",
            "_model_module_version": "1.5.0",
            "_model_name": "DescriptionStyleModel",
            "_view_count": null,
            "_view_module": "@jupyter-widgets/base",
            "_view_module_version": "1.2.0",
            "_view_name": "StyleView",
            "description_width": ""
          }
        },
        "110aa14228f7427284e5f0be7f926ff5": {
          "model_module": "@jupyter-widgets/base",
          "model_name": "LayoutModel",
          "model_module_version": "1.2.0",
          "state": {
            "_model_module": "@jupyter-widgets/base",
            "_model_module_version": "1.2.0",
            "_model_name": "LayoutModel",
            "_view_count": null,
            "_view_module": "@jupyter-widgets/base",
            "_view_module_version": "1.2.0",
            "_view_name": "LayoutView",
            "align_content": null,
            "align_items": null,
            "align_self": null,
            "border": null,
            "bottom": null,
            "display": null,
            "flex": null,
            "flex_flow": null,
            "grid_area": null,
            "grid_auto_columns": null,
            "grid_auto_flow": null,
            "grid_auto_rows": null,
            "grid_column": null,
            "grid_gap": null,
            "grid_row": null,
            "grid_template_areas": null,
            "grid_template_columns": null,
            "grid_template_rows": null,
            "height": null,
            "justify_content": null,
            "justify_items": null,
            "left": null,
            "margin": null,
            "max_height": null,
            "max_width": null,
            "min_height": null,
            "min_width": null,
            "object_fit": null,
            "object_position": null,
            "order": null,
            "overflow": null,
            "overflow_x": null,
            "overflow_y": null,
            "padding": null,
            "right": null,
            "top": null,
            "visibility": null,
            "width": null
          }
        },
        "fcc5f4f678864cd2a680023a6e662581": {
          "model_module": "@jupyter-widgets/controls",
          "model_name": "ProgressStyleModel",
          "model_module_version": "1.5.0",
          "state": {
            "_model_module": "@jupyter-widgets/controls",
            "_model_module_version": "1.5.0",
            "_model_name": "ProgressStyleModel",
            "_view_count": null,
            "_view_module": "@jupyter-widgets/base",
            "_view_module_version": "1.2.0",
            "_view_name": "StyleView",
            "bar_color": null,
            "description_width": ""
          }
        },
        "6f21e5f0cfd94fcf8f2592ce6f1e8fb7": {
          "model_module": "@jupyter-widgets/base",
          "model_name": "LayoutModel",
          "model_module_version": "1.2.0",
          "state": {
            "_model_module": "@jupyter-widgets/base",
            "_model_module_version": "1.2.0",
            "_model_name": "LayoutModel",
            "_view_count": null,
            "_view_module": "@jupyter-widgets/base",
            "_view_module_version": "1.2.0",
            "_view_name": "LayoutView",
            "align_content": null,
            "align_items": null,
            "align_self": null,
            "border": null,
            "bottom": null,
            "display": null,
            "flex": null,
            "flex_flow": null,
            "grid_area": null,
            "grid_auto_columns": null,
            "grid_auto_flow": null,
            "grid_auto_rows": null,
            "grid_column": null,
            "grid_gap": null,
            "grid_row": null,
            "grid_template_areas": null,
            "grid_template_columns": null,
            "grid_template_rows": null,
            "height": null,
            "justify_content": null,
            "justify_items": null,
            "left": null,
            "margin": null,
            "max_height": null,
            "max_width": null,
            "min_height": null,
            "min_width": null,
            "object_fit": null,
            "object_position": null,
            "order": null,
            "overflow": null,
            "overflow_x": null,
            "overflow_y": null,
            "padding": null,
            "right": null,
            "top": null,
            "visibility": null,
            "width": null
          }
        },
        "2b731c8440a54ccfa27d0859b9651454": {
          "model_module": "@jupyter-widgets/controls",
          "model_name": "DescriptionStyleModel",
          "model_module_version": "1.5.0",
          "state": {
            "_model_module": "@jupyter-widgets/controls",
            "_model_module_version": "1.5.0",
            "_model_name": "DescriptionStyleModel",
            "_view_count": null,
            "_view_module": "@jupyter-widgets/base",
            "_view_module_version": "1.2.0",
            "_view_name": "StyleView",
            "description_width": ""
          }
        },
        "d12ef7826ff34db1aafef397f5d4eed6": {
          "model_module": "@jupyter-widgets/controls",
          "model_name": "HBoxModel",
          "model_module_version": "1.5.0",
          "state": {
            "_dom_classes": [],
            "_model_module": "@jupyter-widgets/controls",
            "_model_module_version": "1.5.0",
            "_model_name": "HBoxModel",
            "_view_count": null,
            "_view_module": "@jupyter-widgets/controls",
            "_view_module_version": "1.5.0",
            "_view_name": "HBoxView",
            "box_style": "",
            "children": [
              "IPY_MODEL_4226377ab61e4151bc3bacaa7d92caf9",
              "IPY_MODEL_1753131c912c4560a3a4ccd08c65e8bb",
              "IPY_MODEL_4abb51dde41c464d8bfede2b57a1ec68"
            ],
            "layout": "IPY_MODEL_b0c6d957609e43bdb218026f6691df3e"
          }
        },
        "4226377ab61e4151bc3bacaa7d92caf9": {
          "model_module": "@jupyter-widgets/controls",
          "model_name": "HTMLModel",
          "model_module_version": "1.5.0",
          "state": {
            "_dom_classes": [],
            "_model_module": "@jupyter-widgets/controls",
            "_model_module_version": "1.5.0",
            "_model_name": "HTMLModel",
            "_view_count": null,
            "_view_module": "@jupyter-widgets/controls",
            "_view_module_version": "1.5.0",
            "_view_name": "HTMLView",
            "description": "",
            "description_tooltip": null,
            "layout": "IPY_MODEL_547b71ba5fc34e94b3d473bb447dcf4f",
            "placeholder": "​",
            "style": "IPY_MODEL_a5128731ca3f4a7b9e2640857856967e",
            "value": "generation_config.json: 100%"
          }
        },
        "1753131c912c4560a3a4ccd08c65e8bb": {
          "model_module": "@jupyter-widgets/controls",
          "model_name": "FloatProgressModel",
          "model_module_version": "1.5.0",
          "state": {
            "_dom_classes": [],
            "_model_module": "@jupyter-widgets/controls",
            "_model_module_version": "1.5.0",
            "_model_name": "FloatProgressModel",
            "_view_count": null,
            "_view_module": "@jupyter-widgets/controls",
            "_view_module_version": "1.5.0",
            "_view_name": "ProgressView",
            "bar_style": "success",
            "description": "",
            "description_tooltip": null,
            "layout": "IPY_MODEL_0f24d57ba8dc4d22beca944248df9bf8",
            "max": 147,
            "min": 0,
            "orientation": "horizontal",
            "style": "IPY_MODEL_4d216aeb9e134e91871dc987677aed34",
            "value": 147
          }
        },
        "4abb51dde41c464d8bfede2b57a1ec68": {
          "model_module": "@jupyter-widgets/controls",
          "model_name": "HTMLModel",
          "model_module_version": "1.5.0",
          "state": {
            "_dom_classes": [],
            "_model_module": "@jupyter-widgets/controls",
            "_model_module_version": "1.5.0",
            "_model_name": "HTMLModel",
            "_view_count": null,
            "_view_module": "@jupyter-widgets/controls",
            "_view_module_version": "1.5.0",
            "_view_name": "HTMLView",
            "description": "",
            "description_tooltip": null,
            "layout": "IPY_MODEL_f40ebaa358ef45a99369200079a50a4d",
            "placeholder": "​",
            "style": "IPY_MODEL_090e7133f8f048f995f63c19c71e4fbd",
            "value": " 147/147 [00:00&lt;00:00, 3.59kB/s]"
          }
        },
        "b0c6d957609e43bdb218026f6691df3e": {
          "model_module": "@jupyter-widgets/base",
          "model_name": "LayoutModel",
          "model_module_version": "1.2.0",
          "state": {
            "_model_module": "@jupyter-widgets/base",
            "_model_module_version": "1.2.0",
            "_model_name": "LayoutModel",
            "_view_count": null,
            "_view_module": "@jupyter-widgets/base",
            "_view_module_version": "1.2.0",
            "_view_name": "LayoutView",
            "align_content": null,
            "align_items": null,
            "align_self": null,
            "border": null,
            "bottom": null,
            "display": null,
            "flex": null,
            "flex_flow": null,
            "grid_area": null,
            "grid_auto_columns": null,
            "grid_auto_flow": null,
            "grid_auto_rows": null,
            "grid_column": null,
            "grid_gap": null,
            "grid_row": null,
            "grid_template_areas": null,
            "grid_template_columns": null,
            "grid_template_rows": null,
            "height": null,
            "justify_content": null,
            "justify_items": null,
            "left": null,
            "margin": null,
            "max_height": null,
            "max_width": null,
            "min_height": null,
            "min_width": null,
            "object_fit": null,
            "object_position": null,
            "order": null,
            "overflow": null,
            "overflow_x": null,
            "overflow_y": null,
            "padding": null,
            "right": null,
            "top": null,
            "visibility": null,
            "width": null
          }
        },
        "547b71ba5fc34e94b3d473bb447dcf4f": {
          "model_module": "@jupyter-widgets/base",
          "model_name": "LayoutModel",
          "model_module_version": "1.2.0",
          "state": {
            "_model_module": "@jupyter-widgets/base",
            "_model_module_version": "1.2.0",
            "_model_name": "LayoutModel",
            "_view_count": null,
            "_view_module": "@jupyter-widgets/base",
            "_view_module_version": "1.2.0",
            "_view_name": "LayoutView",
            "align_content": null,
            "align_items": null,
            "align_self": null,
            "border": null,
            "bottom": null,
            "display": null,
            "flex": null,
            "flex_flow": null,
            "grid_area": null,
            "grid_auto_columns": null,
            "grid_auto_flow": null,
            "grid_auto_rows": null,
            "grid_column": null,
            "grid_gap": null,
            "grid_row": null,
            "grid_template_areas": null,
            "grid_template_columns": null,
            "grid_template_rows": null,
            "height": null,
            "justify_content": null,
            "justify_items": null,
            "left": null,
            "margin": null,
            "max_height": null,
            "max_width": null,
            "min_height": null,
            "min_width": null,
            "object_fit": null,
            "object_position": null,
            "order": null,
            "overflow": null,
            "overflow_x": null,
            "overflow_y": null,
            "padding": null,
            "right": null,
            "top": null,
            "visibility": null,
            "width": null
          }
        },
        "a5128731ca3f4a7b9e2640857856967e": {
          "model_module": "@jupyter-widgets/controls",
          "model_name": "DescriptionStyleModel",
          "model_module_version": "1.5.0",
          "state": {
            "_model_module": "@jupyter-widgets/controls",
            "_model_module_version": "1.5.0",
            "_model_name": "DescriptionStyleModel",
            "_view_count": null,
            "_view_module": "@jupyter-widgets/base",
            "_view_module_version": "1.2.0",
            "_view_name": "StyleView",
            "description_width": ""
          }
        },
        "0f24d57ba8dc4d22beca944248df9bf8": {
          "model_module": "@jupyter-widgets/base",
          "model_name": "LayoutModel",
          "model_module_version": "1.2.0",
          "state": {
            "_model_module": "@jupyter-widgets/base",
            "_model_module_version": "1.2.0",
            "_model_name": "LayoutModel",
            "_view_count": null,
            "_view_module": "@jupyter-widgets/base",
            "_view_module_version": "1.2.0",
            "_view_name": "LayoutView",
            "align_content": null,
            "align_items": null,
            "align_self": null,
            "border": null,
            "bottom": null,
            "display": null,
            "flex": null,
            "flex_flow": null,
            "grid_area": null,
            "grid_auto_columns": null,
            "grid_auto_flow": null,
            "grid_auto_rows": null,
            "grid_column": null,
            "grid_gap": null,
            "grid_row": null,
            "grid_template_areas": null,
            "grid_template_columns": null,
            "grid_template_rows": null,
            "height": null,
            "justify_content": null,
            "justify_items": null,
            "left": null,
            "margin": null,
            "max_height": null,
            "max_width": null,
            "min_height": null,
            "min_width": null,
            "object_fit": null,
            "object_position": null,
            "order": null,
            "overflow": null,
            "overflow_x": null,
            "overflow_y": null,
            "padding": null,
            "right": null,
            "top": null,
            "visibility": null,
            "width": null
          }
        },
        "4d216aeb9e134e91871dc987677aed34": {
          "model_module": "@jupyter-widgets/controls",
          "model_name": "ProgressStyleModel",
          "model_module_version": "1.5.0",
          "state": {
            "_model_module": "@jupyter-widgets/controls",
            "_model_module_version": "1.5.0",
            "_model_name": "ProgressStyleModel",
            "_view_count": null,
            "_view_module": "@jupyter-widgets/base",
            "_view_module_version": "1.2.0",
            "_view_name": "StyleView",
            "bar_color": null,
            "description_width": ""
          }
        },
        "f40ebaa358ef45a99369200079a50a4d": {
          "model_module": "@jupyter-widgets/base",
          "model_name": "LayoutModel",
          "model_module_version": "1.2.0",
          "state": {
            "_model_module": "@jupyter-widgets/base",
            "_model_module_version": "1.2.0",
            "_model_name": "LayoutModel",
            "_view_count": null,
            "_view_module": "@jupyter-widgets/base",
            "_view_module_version": "1.2.0",
            "_view_name": "LayoutView",
            "align_content": null,
            "align_items": null,
            "align_self": null,
            "border": null,
            "bottom": null,
            "display": null,
            "flex": null,
            "flex_flow": null,
            "grid_area": null,
            "grid_auto_columns": null,
            "grid_auto_flow": null,
            "grid_auto_rows": null,
            "grid_column": null,
            "grid_gap": null,
            "grid_row": null,
            "grid_template_areas": null,
            "grid_template_columns": null,
            "grid_template_rows": null,
            "height": null,
            "justify_content": null,
            "justify_items": null,
            "left": null,
            "margin": null,
            "max_height": null,
            "max_width": null,
            "min_height": null,
            "min_width": null,
            "object_fit": null,
            "object_position": null,
            "order": null,
            "overflow": null,
            "overflow_x": null,
            "overflow_y": null,
            "padding": null,
            "right": null,
            "top": null,
            "visibility": null,
            "width": null
          }
        },
        "090e7133f8f048f995f63c19c71e4fbd": {
          "model_module": "@jupyter-widgets/controls",
          "model_name": "DescriptionStyleModel",
          "model_module_version": "1.5.0",
          "state": {
            "_model_module": "@jupyter-widgets/controls",
            "_model_module_version": "1.5.0",
            "_model_name": "DescriptionStyleModel",
            "_view_count": null,
            "_view_module": "@jupyter-widgets/base",
            "_view_module_version": "1.2.0",
            "_view_name": "StyleView",
            "description_width": ""
          }
        },
        "d6254196764048f4a5c0edd0c9ca3c60": {
          "model_module": "@jupyter-widgets/controls",
          "model_name": "HBoxModel",
          "model_module_version": "1.5.0",
          "state": {
            "_dom_classes": [],
            "_model_module": "@jupyter-widgets/controls",
            "_model_module_version": "1.5.0",
            "_model_name": "HBoxModel",
            "_view_count": null,
            "_view_module": "@jupyter-widgets/controls",
            "_view_module_version": "1.5.0",
            "_view_name": "HBoxView",
            "box_style": "",
            "children": [
              "IPY_MODEL_6e56d74f16124d4ebb22d7c646c70cb8",
              "IPY_MODEL_2cdd56b974dc443eb54f606112e553b7",
              "IPY_MODEL_1c0f0539637b4a9aa7d626071650c45e"
            ],
            "layout": "IPY_MODEL_523d62239451413bb98b17bf763d92f8"
          }
        },
        "6e56d74f16124d4ebb22d7c646c70cb8": {
          "model_module": "@jupyter-widgets/controls",
          "model_name": "HTMLModel",
          "model_module_version": "1.5.0",
          "state": {
            "_dom_classes": [],
            "_model_module": "@jupyter-widgets/controls",
            "_model_module_version": "1.5.0",
            "_model_name": "HTMLModel",
            "_view_count": null,
            "_view_module": "@jupyter-widgets/controls",
            "_view_module_version": "1.5.0",
            "_view_name": "HTMLView",
            "description": "",
            "description_tooltip": null,
            "layout": "IPY_MODEL_138786966ea647bdb12830b9055f775c",
            "placeholder": "​",
            "style": "IPY_MODEL_4c23f1c7b93e49409bf57d5079bc8796",
            "value": "spiece.model: 100%"
          }
        },
        "2cdd56b974dc443eb54f606112e553b7": {
          "model_module": "@jupyter-widgets/controls",
          "model_name": "FloatProgressModel",
          "model_module_version": "1.5.0",
          "state": {
            "_dom_classes": [],
            "_model_module": "@jupyter-widgets/controls",
            "_model_module_version": "1.5.0",
            "_model_name": "FloatProgressModel",
            "_view_count": null,
            "_view_module": "@jupyter-widgets/controls",
            "_view_module_version": "1.5.0",
            "_view_name": "ProgressView",
            "bar_style": "success",
            "description": "",
            "description_tooltip": null,
            "layout": "IPY_MODEL_553ca3e8665446aca1cef84803a3b748",
            "max": 791656,
            "min": 0,
            "orientation": "horizontal",
            "style": "IPY_MODEL_5a74eac422444d53ba2e36e4cdb8e058",
            "value": 791656
          }
        },
        "1c0f0539637b4a9aa7d626071650c45e": {
          "model_module": "@jupyter-widgets/controls",
          "model_name": "HTMLModel",
          "model_module_version": "1.5.0",
          "state": {
            "_dom_classes": [],
            "_model_module": "@jupyter-widgets/controls",
            "_model_module_version": "1.5.0",
            "_model_name": "HTMLModel",
            "_view_count": null,
            "_view_module": "@jupyter-widgets/controls",
            "_view_module_version": "1.5.0",
            "_view_name": "HTMLView",
            "description": "",
            "description_tooltip": null,
            "layout": "IPY_MODEL_79f1889b71e44b4497ec543d4f471b18",
            "placeholder": "​",
            "style": "IPY_MODEL_6ac204f30e3346249eff7be2e68cc727",
            "value": " 792k/792k [00:00&lt;00:00, 11.3MB/s]"
          }
        },
        "523d62239451413bb98b17bf763d92f8": {
          "model_module": "@jupyter-widgets/base",
          "model_name": "LayoutModel",
          "model_module_version": "1.2.0",
          "state": {
            "_model_module": "@jupyter-widgets/base",
            "_model_module_version": "1.2.0",
            "_model_name": "LayoutModel",
            "_view_count": null,
            "_view_module": "@jupyter-widgets/base",
            "_view_module_version": "1.2.0",
            "_view_name": "LayoutView",
            "align_content": null,
            "align_items": null,
            "align_self": null,
            "border": null,
            "bottom": null,
            "display": null,
            "flex": null,
            "flex_flow": null,
            "grid_area": null,
            "grid_auto_columns": null,
            "grid_auto_flow": null,
            "grid_auto_rows": null,
            "grid_column": null,
            "grid_gap": null,
            "grid_row": null,
            "grid_template_areas": null,
            "grid_template_columns": null,
            "grid_template_rows": null,
            "height": null,
            "justify_content": null,
            "justify_items": null,
            "left": null,
            "margin": null,
            "max_height": null,
            "max_width": null,
            "min_height": null,
            "min_width": null,
            "object_fit": null,
            "object_position": null,
            "order": null,
            "overflow": null,
            "overflow_x": null,
            "overflow_y": null,
            "padding": null,
            "right": null,
            "top": null,
            "visibility": null,
            "width": null
          }
        },
        "138786966ea647bdb12830b9055f775c": {
          "model_module": "@jupyter-widgets/base",
          "model_name": "LayoutModel",
          "model_module_version": "1.2.0",
          "state": {
            "_model_module": "@jupyter-widgets/base",
            "_model_module_version": "1.2.0",
            "_model_name": "LayoutModel",
            "_view_count": null,
            "_view_module": "@jupyter-widgets/base",
            "_view_module_version": "1.2.0",
            "_view_name": "LayoutView",
            "align_content": null,
            "align_items": null,
            "align_self": null,
            "border": null,
            "bottom": null,
            "display": null,
            "flex": null,
            "flex_flow": null,
            "grid_area": null,
            "grid_auto_columns": null,
            "grid_auto_flow": null,
            "grid_auto_rows": null,
            "grid_column": null,
            "grid_gap": null,
            "grid_row": null,
            "grid_template_areas": null,
            "grid_template_columns": null,
            "grid_template_rows": null,
            "height": null,
            "justify_content": null,
            "justify_items": null,
            "left": null,
            "margin": null,
            "max_height": null,
            "max_width": null,
            "min_height": null,
            "min_width": null,
            "object_fit": null,
            "object_position": null,
            "order": null,
            "overflow": null,
            "overflow_x": null,
            "overflow_y": null,
            "padding": null,
            "right": null,
            "top": null,
            "visibility": null,
            "width": null
          }
        },
        "4c23f1c7b93e49409bf57d5079bc8796": {
          "model_module": "@jupyter-widgets/controls",
          "model_name": "DescriptionStyleModel",
          "model_module_version": "1.5.0",
          "state": {
            "_model_module": "@jupyter-widgets/controls",
            "_model_module_version": "1.5.0",
            "_model_name": "DescriptionStyleModel",
            "_view_count": null,
            "_view_module": "@jupyter-widgets/base",
            "_view_module_version": "1.2.0",
            "_view_name": "StyleView",
            "description_width": ""
          }
        },
        "553ca3e8665446aca1cef84803a3b748": {
          "model_module": "@jupyter-widgets/base",
          "model_name": "LayoutModel",
          "model_module_version": "1.2.0",
          "state": {
            "_model_module": "@jupyter-widgets/base",
            "_model_module_version": "1.2.0",
            "_model_name": "LayoutModel",
            "_view_count": null,
            "_view_module": "@jupyter-widgets/base",
            "_view_module_version": "1.2.0",
            "_view_name": "LayoutView",
            "align_content": null,
            "align_items": null,
            "align_self": null,
            "border": null,
            "bottom": null,
            "display": null,
            "flex": null,
            "flex_flow": null,
            "grid_area": null,
            "grid_auto_columns": null,
            "grid_auto_flow": null,
            "grid_auto_rows": null,
            "grid_column": null,
            "grid_gap": null,
            "grid_row": null,
            "grid_template_areas": null,
            "grid_template_columns": null,
            "grid_template_rows": null,
            "height": null,
            "justify_content": null,
            "justify_items": null,
            "left": null,
            "margin": null,
            "max_height": null,
            "max_width": null,
            "min_height": null,
            "min_width": null,
            "object_fit": null,
            "object_position": null,
            "order": null,
            "overflow": null,
            "overflow_x": null,
            "overflow_y": null,
            "padding": null,
            "right": null,
            "top": null,
            "visibility": null,
            "width": null
          }
        },
        "5a74eac422444d53ba2e36e4cdb8e058": {
          "model_module": "@jupyter-widgets/controls",
          "model_name": "ProgressStyleModel",
          "model_module_version": "1.5.0",
          "state": {
            "_model_module": "@jupyter-widgets/controls",
            "_model_module_version": "1.5.0",
            "_model_name": "ProgressStyleModel",
            "_view_count": null,
            "_view_module": "@jupyter-widgets/base",
            "_view_module_version": "1.2.0",
            "_view_name": "StyleView",
            "bar_color": null,
            "description_width": ""
          }
        },
        "79f1889b71e44b4497ec543d4f471b18": {
          "model_module": "@jupyter-widgets/base",
          "model_name": "LayoutModel",
          "model_module_version": "1.2.0",
          "state": {
            "_model_module": "@jupyter-widgets/base",
            "_model_module_version": "1.2.0",
            "_model_name": "LayoutModel",
            "_view_count": null,
            "_view_module": "@jupyter-widgets/base",
            "_view_module_version": "1.2.0",
            "_view_name": "LayoutView",
            "align_content": null,
            "align_items": null,
            "align_self": null,
            "border": null,
            "bottom": null,
            "display": null,
            "flex": null,
            "flex_flow": null,
            "grid_area": null,
            "grid_auto_columns": null,
            "grid_auto_flow": null,
            "grid_auto_rows": null,
            "grid_column": null,
            "grid_gap": null,
            "grid_row": null,
            "grid_template_areas": null,
            "grid_template_columns": null,
            "grid_template_rows": null,
            "height": null,
            "justify_content": null,
            "justify_items": null,
            "left": null,
            "margin": null,
            "max_height": null,
            "max_width": null,
            "min_height": null,
            "min_width": null,
            "object_fit": null,
            "object_position": null,
            "order": null,
            "overflow": null,
            "overflow_x": null,
            "overflow_y": null,
            "padding": null,
            "right": null,
            "top": null,
            "visibility": null,
            "width": null
          }
        },
        "6ac204f30e3346249eff7be2e68cc727": {
          "model_module": "@jupyter-widgets/controls",
          "model_name": "DescriptionStyleModel",
          "model_module_version": "1.5.0",
          "state": {
            "_model_module": "@jupyter-widgets/controls",
            "_model_module_version": "1.5.0",
            "_model_name": "DescriptionStyleModel",
            "_view_count": null,
            "_view_module": "@jupyter-widgets/base",
            "_view_module_version": "1.2.0",
            "_view_name": "StyleView",
            "description_width": ""
          }
        },
        "6d597b4edbbb4bc580d519819d162121": {
          "model_module": "@jupyter-widgets/controls",
          "model_name": "HBoxModel",
          "model_module_version": "1.5.0",
          "state": {
            "_dom_classes": [],
            "_model_module": "@jupyter-widgets/controls",
            "_model_module_version": "1.5.0",
            "_model_name": "HBoxModel",
            "_view_count": null,
            "_view_module": "@jupyter-widgets/controls",
            "_view_module_version": "1.5.0",
            "_view_name": "HBoxView",
            "box_style": "",
            "children": [
              "IPY_MODEL_e9f9fa2d9f7a4fadad3b9993dec35d79",
              "IPY_MODEL_402334cb0c6a42fa87cda7a32542e0b2",
              "IPY_MODEL_44e15f617a674872b263f8534e116ef1"
            ],
            "layout": "IPY_MODEL_6756bb81d28a4e078b0526d10ff99d88"
          }
        },
        "e9f9fa2d9f7a4fadad3b9993dec35d79": {
          "model_module": "@jupyter-widgets/controls",
          "model_name": "HTMLModel",
          "model_module_version": "1.5.0",
          "state": {
            "_dom_classes": [],
            "_model_module": "@jupyter-widgets/controls",
            "_model_module_version": "1.5.0",
            "_model_name": "HTMLModel",
            "_view_count": null,
            "_view_module": "@jupyter-widgets/controls",
            "_view_module_version": "1.5.0",
            "_view_name": "HTMLView",
            "description": "",
            "description_tooltip": null,
            "layout": "IPY_MODEL_b9914fde0cab4034a80c457e5d3f1cc9",
            "placeholder": "​",
            "style": "IPY_MODEL_50bdc1b9341a4a6faa5551bcc02cbfbc",
            "value": "tokenizer.json: 100%"
          }
        },
        "402334cb0c6a42fa87cda7a32542e0b2": {
          "model_module": "@jupyter-widgets/controls",
          "model_name": "FloatProgressModel",
          "model_module_version": "1.5.0",
          "state": {
            "_dom_classes": [],
            "_model_module": "@jupyter-widgets/controls",
            "_model_module_version": "1.5.0",
            "_model_name": "FloatProgressModel",
            "_view_count": null,
            "_view_module": "@jupyter-widgets/controls",
            "_view_module_version": "1.5.0",
            "_view_name": "ProgressView",
            "bar_style": "success",
            "description": "",
            "description_tooltip": null,
            "layout": "IPY_MODEL_5cb4dbfc39b34ef5b26043543d118e5d",
            "max": 1389353,
            "min": 0,
            "orientation": "horizontal",
            "style": "IPY_MODEL_dd05fe798b3b43e681124f32ed5c0ee1",
            "value": 1389353
          }
        },
        "44e15f617a674872b263f8534e116ef1": {
          "model_module": "@jupyter-widgets/controls",
          "model_name": "HTMLModel",
          "model_module_version": "1.5.0",
          "state": {
            "_dom_classes": [],
            "_model_module": "@jupyter-widgets/controls",
            "_model_module_version": "1.5.0",
            "_model_name": "HTMLModel",
            "_view_count": null,
            "_view_module": "@jupyter-widgets/controls",
            "_view_module_version": "1.5.0",
            "_view_name": "HTMLView",
            "description": "",
            "description_tooltip": null,
            "layout": "IPY_MODEL_173fcd02148f40b8b15ecbd63007dbee",
            "placeholder": "​",
            "style": "IPY_MODEL_4b972bb770e24b5c9f52db72caa234c6",
            "value": " 1.39M/1.39M [00:00&lt;00:00, 4.50MB/s]"
          }
        },
        "6756bb81d28a4e078b0526d10ff99d88": {
          "model_module": "@jupyter-widgets/base",
          "model_name": "LayoutModel",
          "model_module_version": "1.2.0",
          "state": {
            "_model_module": "@jupyter-widgets/base",
            "_model_module_version": "1.2.0",
            "_model_name": "LayoutModel",
            "_view_count": null,
            "_view_module": "@jupyter-widgets/base",
            "_view_module_version": "1.2.0",
            "_view_name": "LayoutView",
            "align_content": null,
            "align_items": null,
            "align_self": null,
            "border": null,
            "bottom": null,
            "display": null,
            "flex": null,
            "flex_flow": null,
            "grid_area": null,
            "grid_auto_columns": null,
            "grid_auto_flow": null,
            "grid_auto_rows": null,
            "grid_column": null,
            "grid_gap": null,
            "grid_row": null,
            "grid_template_areas": null,
            "grid_template_columns": null,
            "grid_template_rows": null,
            "height": null,
            "justify_content": null,
            "justify_items": null,
            "left": null,
            "margin": null,
            "max_height": null,
            "max_width": null,
            "min_height": null,
            "min_width": null,
            "object_fit": null,
            "object_position": null,
            "order": null,
            "overflow": null,
            "overflow_x": null,
            "overflow_y": null,
            "padding": null,
            "right": null,
            "top": null,
            "visibility": null,
            "width": null
          }
        },
        "b9914fde0cab4034a80c457e5d3f1cc9": {
          "model_module": "@jupyter-widgets/base",
          "model_name": "LayoutModel",
          "model_module_version": "1.2.0",
          "state": {
            "_model_module": "@jupyter-widgets/base",
            "_model_module_version": "1.2.0",
            "_model_name": "LayoutModel",
            "_view_count": null,
            "_view_module": "@jupyter-widgets/base",
            "_view_module_version": "1.2.0",
            "_view_name": "LayoutView",
            "align_content": null,
            "align_items": null,
            "align_self": null,
            "border": null,
            "bottom": null,
            "display": null,
            "flex": null,
            "flex_flow": null,
            "grid_area": null,
            "grid_auto_columns": null,
            "grid_auto_flow": null,
            "grid_auto_rows": null,
            "grid_column": null,
            "grid_gap": null,
            "grid_row": null,
            "grid_template_areas": null,
            "grid_template_columns": null,
            "grid_template_rows": null,
            "height": null,
            "justify_content": null,
            "justify_items": null,
            "left": null,
            "margin": null,
            "max_height": null,
            "max_width": null,
            "min_height": null,
            "min_width": null,
            "object_fit": null,
            "object_position": null,
            "order": null,
            "overflow": null,
            "overflow_x": null,
            "overflow_y": null,
            "padding": null,
            "right": null,
            "top": null,
            "visibility": null,
            "width": null
          }
        },
        "50bdc1b9341a4a6faa5551bcc02cbfbc": {
          "model_module": "@jupyter-widgets/controls",
          "model_name": "DescriptionStyleModel",
          "model_module_version": "1.5.0",
          "state": {
            "_model_module": "@jupyter-widgets/controls",
            "_model_module_version": "1.5.0",
            "_model_name": "DescriptionStyleModel",
            "_view_count": null,
            "_view_module": "@jupyter-widgets/base",
            "_view_module_version": "1.2.0",
            "_view_name": "StyleView",
            "description_width": ""
          }
        },
        "5cb4dbfc39b34ef5b26043543d118e5d": {
          "model_module": "@jupyter-widgets/base",
          "model_name": "LayoutModel",
          "model_module_version": "1.2.0",
          "state": {
            "_model_module": "@jupyter-widgets/base",
            "_model_module_version": "1.2.0",
            "_model_name": "LayoutModel",
            "_view_count": null,
            "_view_module": "@jupyter-widgets/base",
            "_view_module_version": "1.2.0",
            "_view_name": "LayoutView",
            "align_content": null,
            "align_items": null,
            "align_self": null,
            "border": null,
            "bottom": null,
            "display": null,
            "flex": null,
            "flex_flow": null,
            "grid_area": null,
            "grid_auto_columns": null,
            "grid_auto_flow": null,
            "grid_auto_rows": null,
            "grid_column": null,
            "grid_gap": null,
            "grid_row": null,
            "grid_template_areas": null,
            "grid_template_columns": null,
            "grid_template_rows": null,
            "height": null,
            "justify_content": null,
            "justify_items": null,
            "left": null,
            "margin": null,
            "max_height": null,
            "max_width": null,
            "min_height": null,
            "min_width": null,
            "object_fit": null,
            "object_position": null,
            "order": null,
            "overflow": null,
            "overflow_x": null,
            "overflow_y": null,
            "padding": null,
            "right": null,
            "top": null,
            "visibility": null,
            "width": null
          }
        },
        "dd05fe798b3b43e681124f32ed5c0ee1": {
          "model_module": "@jupyter-widgets/controls",
          "model_name": "ProgressStyleModel",
          "model_module_version": "1.5.0",
          "state": {
            "_model_module": "@jupyter-widgets/controls",
            "_model_module_version": "1.5.0",
            "_model_name": "ProgressStyleModel",
            "_view_count": null,
            "_view_module": "@jupyter-widgets/base",
            "_view_module_version": "1.2.0",
            "_view_name": "StyleView",
            "bar_color": null,
            "description_width": ""
          }
        },
        "173fcd02148f40b8b15ecbd63007dbee": {
          "model_module": "@jupyter-widgets/base",
          "model_name": "LayoutModel",
          "model_module_version": "1.2.0",
          "state": {
            "_model_module": "@jupyter-widgets/base",
            "_model_module_version": "1.2.0",
            "_model_name": "LayoutModel",
            "_view_count": null,
            "_view_module": "@jupyter-widgets/base",
            "_view_module_version": "1.2.0",
            "_view_name": "LayoutView",
            "align_content": null,
            "align_items": null,
            "align_self": null,
            "border": null,
            "bottom": null,
            "display": null,
            "flex": null,
            "flex_flow": null,
            "grid_area": null,
            "grid_auto_columns": null,
            "grid_auto_flow": null,
            "grid_auto_rows": null,
            "grid_column": null,
            "grid_gap": null,
            "grid_row": null,
            "grid_template_areas": null,
            "grid_template_columns": null,
            "grid_template_rows": null,
            "height": null,
            "justify_content": null,
            "justify_items": null,
            "left": null,
            "margin": null,
            "max_height": null,
            "max_width": null,
            "min_height": null,
            "min_width": null,
            "object_fit": null,
            "object_position": null,
            "order": null,
            "overflow": null,
            "overflow_x": null,
            "overflow_y": null,
            "padding": null,
            "right": null,
            "top": null,
            "visibility": null,
            "width": null
          }
        },
        "4b972bb770e24b5c9f52db72caa234c6": {
          "model_module": "@jupyter-widgets/controls",
          "model_name": "DescriptionStyleModel",
          "model_module_version": "1.5.0",
          "state": {
            "_model_module": "@jupyter-widgets/controls",
            "_model_module_version": "1.5.0",
            "_model_name": "DescriptionStyleModel",
            "_view_count": null,
            "_view_module": "@jupyter-widgets/base",
            "_view_module_version": "1.2.0",
            "_view_name": "StyleView",
            "description_width": ""
          }
        },
        "0caaff1fb1a64791b33d2662360ed34e": {
          "model_module": "@jupyter-widgets/controls",
          "model_name": "HBoxModel",
          "model_module_version": "1.5.0",
          "state": {
            "_dom_classes": [],
            "_model_module": "@jupyter-widgets/controls",
            "_model_module_version": "1.5.0",
            "_model_name": "HBoxModel",
            "_view_count": null,
            "_view_module": "@jupyter-widgets/controls",
            "_view_module_version": "1.5.0",
            "_view_name": "HBoxView",
            "box_style": "",
            "children": [
              "IPY_MODEL_1245094168aa48af962836c766a634c1",
              "IPY_MODEL_9574757e2ed44435856106f5c4d1789a",
              "IPY_MODEL_3f645a0a47134c6a95fa102d3c9f5da6"
            ],
            "layout": "IPY_MODEL_6bfcba0a61e544d8a05e9161951b056a"
          }
        },
        "1245094168aa48af962836c766a634c1": {
          "model_module": "@jupyter-widgets/controls",
          "model_name": "HTMLModel",
          "model_module_version": "1.5.0",
          "state": {
            "_dom_classes": [],
            "_model_module": "@jupyter-widgets/controls",
            "_model_module_version": "1.5.0",
            "_model_name": "HTMLModel",
            "_view_count": null,
            "_view_module": "@jupyter-widgets/controls",
            "_view_module_version": "1.5.0",
            "_view_name": "HTMLView",
            "description": "",
            "description_tooltip": null,
            "layout": "IPY_MODEL_cd6859be4fdd4ff6851cb398d266b15d",
            "placeholder": "​",
            "style": "IPY_MODEL_c00890322b5f40b1965887010e48e6f7",
            "value": "config.json: 100%"
          }
        },
        "9574757e2ed44435856106f5c4d1789a": {
          "model_module": "@jupyter-widgets/controls",
          "model_name": "FloatProgressModel",
          "model_module_version": "1.5.0",
          "state": {
            "_dom_classes": [],
            "_model_module": "@jupyter-widgets/controls",
            "_model_module_version": "1.5.0",
            "_model_name": "FloatProgressModel",
            "_view_count": null,
            "_view_module": "@jupyter-widgets/controls",
            "_view_module_version": "1.5.0",
            "_view_name": "ProgressView",
            "bar_style": "success",
            "description": "",
            "description_tooltip": null,
            "layout": "IPY_MODEL_40430bc96b4c41c19b736b6622f83fb2",
            "max": 768,
            "min": 0,
            "orientation": "horizontal",
            "style": "IPY_MODEL_cc44cd9106424993b2db4f2e00c43dd6",
            "value": 768
          }
        },
        "3f645a0a47134c6a95fa102d3c9f5da6": {
          "model_module": "@jupyter-widgets/controls",
          "model_name": "HTMLModel",
          "model_module_version": "1.5.0",
          "state": {
            "_dom_classes": [],
            "_model_module": "@jupyter-widgets/controls",
            "_model_module_version": "1.5.0",
            "_model_name": "HTMLModel",
            "_view_count": null,
            "_view_module": "@jupyter-widgets/controls",
            "_view_module_version": "1.5.0",
            "_view_name": "HTMLView",
            "description": "",
            "description_tooltip": null,
            "layout": "IPY_MODEL_4e0f5df477704a798582dc4a2a9a138a",
            "placeholder": "​",
            "style": "IPY_MODEL_26b3bba59db54012ba25b1b72e294da4",
            "value": " 768/768 [00:00&lt;00:00, 38.2kB/s]"
          }
        },
        "6bfcba0a61e544d8a05e9161951b056a": {
          "model_module": "@jupyter-widgets/base",
          "model_name": "LayoutModel",
          "model_module_version": "1.2.0",
          "state": {
            "_model_module": "@jupyter-widgets/base",
            "_model_module_version": "1.2.0",
            "_model_name": "LayoutModel",
            "_view_count": null,
            "_view_module": "@jupyter-widgets/base",
            "_view_module_version": "1.2.0",
            "_view_name": "LayoutView",
            "align_content": null,
            "align_items": null,
            "align_self": null,
            "border": null,
            "bottom": null,
            "display": null,
            "flex": null,
            "flex_flow": null,
            "grid_area": null,
            "grid_auto_columns": null,
            "grid_auto_flow": null,
            "grid_auto_rows": null,
            "grid_column": null,
            "grid_gap": null,
            "grid_row": null,
            "grid_template_areas": null,
            "grid_template_columns": null,
            "grid_template_rows": null,
            "height": null,
            "justify_content": null,
            "justify_items": null,
            "left": null,
            "margin": null,
            "max_height": null,
            "max_width": null,
            "min_height": null,
            "min_width": null,
            "object_fit": null,
            "object_position": null,
            "order": null,
            "overflow": null,
            "overflow_x": null,
            "overflow_y": null,
            "padding": null,
            "right": null,
            "top": null,
            "visibility": null,
            "width": null
          }
        },
        "cd6859be4fdd4ff6851cb398d266b15d": {
          "model_module": "@jupyter-widgets/base",
          "model_name": "LayoutModel",
          "model_module_version": "1.2.0",
          "state": {
            "_model_module": "@jupyter-widgets/base",
            "_model_module_version": "1.2.0",
            "_model_name": "LayoutModel",
            "_view_count": null,
            "_view_module": "@jupyter-widgets/base",
            "_view_module_version": "1.2.0",
            "_view_name": "LayoutView",
            "align_content": null,
            "align_items": null,
            "align_self": null,
            "border": null,
            "bottom": null,
            "display": null,
            "flex": null,
            "flex_flow": null,
            "grid_area": null,
            "grid_auto_columns": null,
            "grid_auto_flow": null,
            "grid_auto_rows": null,
            "grid_column": null,
            "grid_gap": null,
            "grid_row": null,
            "grid_template_areas": null,
            "grid_template_columns": null,
            "grid_template_rows": null,
            "height": null,
            "justify_content": null,
            "justify_items": null,
            "left": null,
            "margin": null,
            "max_height": null,
            "max_width": null,
            "min_height": null,
            "min_width": null,
            "object_fit": null,
            "object_position": null,
            "order": null,
            "overflow": null,
            "overflow_x": null,
            "overflow_y": null,
            "padding": null,
            "right": null,
            "top": null,
            "visibility": null,
            "width": null
          }
        },
        "c00890322b5f40b1965887010e48e6f7": {
          "model_module": "@jupyter-widgets/controls",
          "model_name": "DescriptionStyleModel",
          "model_module_version": "1.5.0",
          "state": {
            "_model_module": "@jupyter-widgets/controls",
            "_model_module_version": "1.5.0",
            "_model_name": "DescriptionStyleModel",
            "_view_count": null,
            "_view_module": "@jupyter-widgets/base",
            "_view_module_version": "1.2.0",
            "_view_name": "StyleView",
            "description_width": ""
          }
        },
        "40430bc96b4c41c19b736b6622f83fb2": {
          "model_module": "@jupyter-widgets/base",
          "model_name": "LayoutModel",
          "model_module_version": "1.2.0",
          "state": {
            "_model_module": "@jupyter-widgets/base",
            "_model_module_version": "1.2.0",
            "_model_name": "LayoutModel",
            "_view_count": null,
            "_view_module": "@jupyter-widgets/base",
            "_view_module_version": "1.2.0",
            "_view_name": "LayoutView",
            "align_content": null,
            "align_items": null,
            "align_self": null,
            "border": null,
            "bottom": null,
            "display": null,
            "flex": null,
            "flex_flow": null,
            "grid_area": null,
            "grid_auto_columns": null,
            "grid_auto_flow": null,
            "grid_auto_rows": null,
            "grid_column": null,
            "grid_gap": null,
            "grid_row": null,
            "grid_template_areas": null,
            "grid_template_columns": null,
            "grid_template_rows": null,
            "height": null,
            "justify_content": null,
            "justify_items": null,
            "left": null,
            "margin": null,
            "max_height": null,
            "max_width": null,
            "min_height": null,
            "min_width": null,
            "object_fit": null,
            "object_position": null,
            "order": null,
            "overflow": null,
            "overflow_x": null,
            "overflow_y": null,
            "padding": null,
            "right": null,
            "top": null,
            "visibility": null,
            "width": null
          }
        },
        "cc44cd9106424993b2db4f2e00c43dd6": {
          "model_module": "@jupyter-widgets/controls",
          "model_name": "ProgressStyleModel",
          "model_module_version": "1.5.0",
          "state": {
            "_model_module": "@jupyter-widgets/controls",
            "_model_module_version": "1.5.0",
            "_model_name": "ProgressStyleModel",
            "_view_count": null,
            "_view_module": "@jupyter-widgets/base",
            "_view_module_version": "1.2.0",
            "_view_name": "StyleView",
            "bar_color": null,
            "description_width": ""
          }
        },
        "4e0f5df477704a798582dc4a2a9a138a": {
          "model_module": "@jupyter-widgets/base",
          "model_name": "LayoutModel",
          "model_module_version": "1.2.0",
          "state": {
            "_model_module": "@jupyter-widgets/base",
            "_model_module_version": "1.2.0",
            "_model_name": "LayoutModel",
            "_view_count": null,
            "_view_module": "@jupyter-widgets/base",
            "_view_module_version": "1.2.0",
            "_view_name": "LayoutView",
            "align_content": null,
            "align_items": null,
            "align_self": null,
            "border": null,
            "bottom": null,
            "display": null,
            "flex": null,
            "flex_flow": null,
            "grid_area": null,
            "grid_auto_columns": null,
            "grid_auto_flow": null,
            "grid_auto_rows": null,
            "grid_column": null,
            "grid_gap": null,
            "grid_row": null,
            "grid_template_areas": null,
            "grid_template_columns": null,
            "grid_template_rows": null,
            "height": null,
            "justify_content": null,
            "justify_items": null,
            "left": null,
            "margin": null,
            "max_height": null,
            "max_width": null,
            "min_height": null,
            "min_width": null,
            "object_fit": null,
            "object_position": null,
            "order": null,
            "overflow": null,
            "overflow_x": null,
            "overflow_y": null,
            "padding": null,
            "right": null,
            "top": null,
            "visibility": null,
            "width": null
          }
        },
        "26b3bba59db54012ba25b1b72e294da4": {
          "model_module": "@jupyter-widgets/controls",
          "model_name": "DescriptionStyleModel",
          "model_module_version": "1.5.0",
          "state": {
            "_model_module": "@jupyter-widgets/controls",
            "_model_module_version": "1.5.0",
            "_model_name": "DescriptionStyleModel",
            "_view_count": null,
            "_view_module": "@jupyter-widgets/base",
            "_view_module_version": "1.2.0",
            "_view_name": "StyleView",
            "description_width": ""
          }
        },
        "3f4ae2485b084b748f8afa4ef4d98958": {
          "model_module": "@jupyter-widgets/controls",
          "model_name": "HBoxModel",
          "model_module_version": "1.5.0",
          "state": {
            "_dom_classes": [],
            "_model_module": "@jupyter-widgets/controls",
            "_model_module_version": "1.5.0",
            "_model_name": "HBoxModel",
            "_view_count": null,
            "_view_module": "@jupyter-widgets/controls",
            "_view_module_version": "1.5.0",
            "_view_name": "HBoxView",
            "box_style": "",
            "children": [
              "IPY_MODEL_1a70b98b472a44ebbde172e1585121e6",
              "IPY_MODEL_86833e463f004a3c92e6dd8891fcee1b",
              "IPY_MODEL_012fb8284f224656adbe96b0f79fccec"
            ],
            "layout": "IPY_MODEL_8bd6a83bf1654df38202aebf69ea15ad"
          }
        },
        "1a70b98b472a44ebbde172e1585121e6": {
          "model_module": "@jupyter-widgets/controls",
          "model_name": "HTMLModel",
          "model_module_version": "1.5.0",
          "state": {
            "_dom_classes": [],
            "_model_module": "@jupyter-widgets/controls",
            "_model_module_version": "1.5.0",
            "_model_name": "HTMLModel",
            "_view_count": null,
            "_view_module": "@jupyter-widgets/controls",
            "_view_module_version": "1.5.0",
            "_view_name": "HTMLView",
            "description": "",
            "description_tooltip": null,
            "layout": "IPY_MODEL_9f410ce835a647e894748adca83c94fa",
            "placeholder": "​",
            "style": "IPY_MODEL_c921c1965bb944f6a8e296101ef14746",
            "value": "pytorch_model.bin: 100%"
          }
        },
        "86833e463f004a3c92e6dd8891fcee1b": {
          "model_module": "@jupyter-widgets/controls",
          "model_name": "FloatProgressModel",
          "model_module_version": "1.5.0",
          "state": {
            "_dom_classes": [],
            "_model_module": "@jupyter-widgets/controls",
            "_model_module_version": "1.5.0",
            "_model_name": "FloatProgressModel",
            "_view_count": null,
            "_view_module": "@jupyter-widgets/controls",
            "_view_module_version": "1.5.0",
            "_view_name": "ProgressView",
            "bar_style": "success",
            "description": "",
            "description_tooltip": null,
            "layout": "IPY_MODEL_16edbc1dfbd443c6b4de50d977ea46d2",
            "max": 267875479,
            "min": 0,
            "orientation": "horizontal",
            "style": "IPY_MODEL_c92b999fe9ef405dac58a2b682019122",
            "value": 267875479
          }
        },
        "012fb8284f224656adbe96b0f79fccec": {
          "model_module": "@jupyter-widgets/controls",
          "model_name": "HTMLModel",
          "model_module_version": "1.5.0",
          "state": {
            "_dom_classes": [],
            "_model_module": "@jupyter-widgets/controls",
            "_model_module_version": "1.5.0",
            "_model_name": "HTMLModel",
            "_view_count": null,
            "_view_module": "@jupyter-widgets/controls",
            "_view_module_version": "1.5.0",
            "_view_name": "HTMLView",
            "description": "",
            "description_tooltip": null,
            "layout": "IPY_MODEL_9a2f33d68914406ab4af5898294501b5",
            "placeholder": "​",
            "style": "IPY_MODEL_72502851e7c54ac6b0668df0d650ba0b",
            "value": " 268M/268M [00:02&lt;00:00, 140MB/s]"
          }
        },
        "8bd6a83bf1654df38202aebf69ea15ad": {
          "model_module": "@jupyter-widgets/base",
          "model_name": "LayoutModel",
          "model_module_version": "1.2.0",
          "state": {
            "_model_module": "@jupyter-widgets/base",
            "_model_module_version": "1.2.0",
            "_model_name": "LayoutModel",
            "_view_count": null,
            "_view_module": "@jupyter-widgets/base",
            "_view_module_version": "1.2.0",
            "_view_name": "LayoutView",
            "align_content": null,
            "align_items": null,
            "align_self": null,
            "border": null,
            "bottom": null,
            "display": null,
            "flex": null,
            "flex_flow": null,
            "grid_area": null,
            "grid_auto_columns": null,
            "grid_auto_flow": null,
            "grid_auto_rows": null,
            "grid_column": null,
            "grid_gap": null,
            "grid_row": null,
            "grid_template_areas": null,
            "grid_template_columns": null,
            "grid_template_rows": null,
            "height": null,
            "justify_content": null,
            "justify_items": null,
            "left": null,
            "margin": null,
            "max_height": null,
            "max_width": null,
            "min_height": null,
            "min_width": null,
            "object_fit": null,
            "object_position": null,
            "order": null,
            "overflow": null,
            "overflow_x": null,
            "overflow_y": null,
            "padding": null,
            "right": null,
            "top": null,
            "visibility": null,
            "width": null
          }
        },
        "9f410ce835a647e894748adca83c94fa": {
          "model_module": "@jupyter-widgets/base",
          "model_name": "LayoutModel",
          "model_module_version": "1.2.0",
          "state": {
            "_model_module": "@jupyter-widgets/base",
            "_model_module_version": "1.2.0",
            "_model_name": "LayoutModel",
            "_view_count": null,
            "_view_module": "@jupyter-widgets/base",
            "_view_module_version": "1.2.0",
            "_view_name": "LayoutView",
            "align_content": null,
            "align_items": null,
            "align_self": null,
            "border": null,
            "bottom": null,
            "display": null,
            "flex": null,
            "flex_flow": null,
            "grid_area": null,
            "grid_auto_columns": null,
            "grid_auto_flow": null,
            "grid_auto_rows": null,
            "grid_column": null,
            "grid_gap": null,
            "grid_row": null,
            "grid_template_areas": null,
            "grid_template_columns": null,
            "grid_template_rows": null,
            "height": null,
            "justify_content": null,
            "justify_items": null,
            "left": null,
            "margin": null,
            "max_height": null,
            "max_width": null,
            "min_height": null,
            "min_width": null,
            "object_fit": null,
            "object_position": null,
            "order": null,
            "overflow": null,
            "overflow_x": null,
            "overflow_y": null,
            "padding": null,
            "right": null,
            "top": null,
            "visibility": null,
            "width": null
          }
        },
        "c921c1965bb944f6a8e296101ef14746": {
          "model_module": "@jupyter-widgets/controls",
          "model_name": "DescriptionStyleModel",
          "model_module_version": "1.5.0",
          "state": {
            "_model_module": "@jupyter-widgets/controls",
            "_model_module_version": "1.5.0",
            "_model_name": "DescriptionStyleModel",
            "_view_count": null,
            "_view_module": "@jupyter-widgets/base",
            "_view_module_version": "1.2.0",
            "_view_name": "StyleView",
            "description_width": ""
          }
        },
        "16edbc1dfbd443c6b4de50d977ea46d2": {
          "model_module": "@jupyter-widgets/base",
          "model_name": "LayoutModel",
          "model_module_version": "1.2.0",
          "state": {
            "_model_module": "@jupyter-widgets/base",
            "_model_module_version": "1.2.0",
            "_model_name": "LayoutModel",
            "_view_count": null,
            "_view_module": "@jupyter-widgets/base",
            "_view_module_version": "1.2.0",
            "_view_name": "LayoutView",
            "align_content": null,
            "align_items": null,
            "align_self": null,
            "border": null,
            "bottom": null,
            "display": null,
            "flex": null,
            "flex_flow": null,
            "grid_area": null,
            "grid_auto_columns": null,
            "grid_auto_flow": null,
            "grid_auto_rows": null,
            "grid_column": null,
            "grid_gap": null,
            "grid_row": null,
            "grid_template_areas": null,
            "grid_template_columns": null,
            "grid_template_rows": null,
            "height": null,
            "justify_content": null,
            "justify_items": null,
            "left": null,
            "margin": null,
            "max_height": null,
            "max_width": null,
            "min_height": null,
            "min_width": null,
            "object_fit": null,
            "object_position": null,
            "order": null,
            "overflow": null,
            "overflow_x": null,
            "overflow_y": null,
            "padding": null,
            "right": null,
            "top": null,
            "visibility": null,
            "width": null
          }
        },
        "c92b999fe9ef405dac58a2b682019122": {
          "model_module": "@jupyter-widgets/controls",
          "model_name": "ProgressStyleModel",
          "model_module_version": "1.5.0",
          "state": {
            "_model_module": "@jupyter-widgets/controls",
            "_model_module_version": "1.5.0",
            "_model_name": "ProgressStyleModel",
            "_view_count": null,
            "_view_module": "@jupyter-widgets/base",
            "_view_module_version": "1.2.0",
            "_view_name": "StyleView",
            "bar_color": null,
            "description_width": ""
          }
        },
        "9a2f33d68914406ab4af5898294501b5": {
          "model_module": "@jupyter-widgets/base",
          "model_name": "LayoutModel",
          "model_module_version": "1.2.0",
          "state": {
            "_model_module": "@jupyter-widgets/base",
            "_model_module_version": "1.2.0",
            "_model_name": "LayoutModel",
            "_view_count": null,
            "_view_module": "@jupyter-widgets/base",
            "_view_module_version": "1.2.0",
            "_view_name": "LayoutView",
            "align_content": null,
            "align_items": null,
            "align_self": null,
            "border": null,
            "bottom": null,
            "display": null,
            "flex": null,
            "flex_flow": null,
            "grid_area": null,
            "grid_auto_columns": null,
            "grid_auto_flow": null,
            "grid_auto_rows": null,
            "grid_column": null,
            "grid_gap": null,
            "grid_row": null,
            "grid_template_areas": null,
            "grid_template_columns": null,
            "grid_template_rows": null,
            "height": null,
            "justify_content": null,
            "justify_items": null,
            "left": null,
            "margin": null,
            "max_height": null,
            "max_width": null,
            "min_height": null,
            "min_width": null,
            "object_fit": null,
            "object_position": null,
            "order": null,
            "overflow": null,
            "overflow_x": null,
            "overflow_y": null,
            "padding": null,
            "right": null,
            "top": null,
            "visibility": null,
            "width": null
          }
        },
        "72502851e7c54ac6b0668df0d650ba0b": {
          "model_module": "@jupyter-widgets/controls",
          "model_name": "DescriptionStyleModel",
          "model_module_version": "1.5.0",
          "state": {
            "_model_module": "@jupyter-widgets/controls",
            "_model_module_version": "1.5.0",
            "_model_name": "DescriptionStyleModel",
            "_view_count": null,
            "_view_module": "@jupyter-widgets/base",
            "_view_module_version": "1.2.0",
            "_view_name": "StyleView",
            "description_width": ""
          }
        },
        "0dc90bee7b384515a991f4347a7c8a3a": {
          "model_module": "@jupyter-widgets/controls",
          "model_name": "HBoxModel",
          "model_module_version": "1.5.0",
          "state": {
            "_dom_classes": [],
            "_model_module": "@jupyter-widgets/controls",
            "_model_module_version": "1.5.0",
            "_model_name": "HBoxModel",
            "_view_count": null,
            "_view_module": "@jupyter-widgets/controls",
            "_view_module_version": "1.5.0",
            "_view_name": "HBoxView",
            "box_style": "",
            "children": [
              "IPY_MODEL_3024245d8b0040d486970cb405b85e61",
              "IPY_MODEL_aae4e246f79544d4892e2bf3556b89d4",
              "IPY_MODEL_83fa4ce9e9bd4da5ade0a102b4b383c4"
            ],
            "layout": "IPY_MODEL_ed4277e3b7c1488d87ce5c89f53c72fb"
          }
        },
        "3024245d8b0040d486970cb405b85e61": {
          "model_module": "@jupyter-widgets/controls",
          "model_name": "HTMLModel",
          "model_module_version": "1.5.0",
          "state": {
            "_dom_classes": [],
            "_model_module": "@jupyter-widgets/controls",
            "_model_module_version": "1.5.0",
            "_model_name": "HTMLModel",
            "_view_count": null,
            "_view_module": "@jupyter-widgets/controls",
            "_view_module_version": "1.5.0",
            "_view_name": "HTMLView",
            "description": "",
            "description_tooltip": null,
            "layout": "IPY_MODEL_c14eba7f93da44a4937f6d7673b4fb09",
            "placeholder": "​",
            "style": "IPY_MODEL_7c02e46f5b464f3493b1c84349a10ceb",
            "value": "tokenizer_config.json: 100%"
          }
        },
        "aae4e246f79544d4892e2bf3556b89d4": {
          "model_module": "@jupyter-widgets/controls",
          "model_name": "FloatProgressModel",
          "model_module_version": "1.5.0",
          "state": {
            "_dom_classes": [],
            "_model_module": "@jupyter-widgets/controls",
            "_model_module_version": "1.5.0",
            "_model_name": "FloatProgressModel",
            "_view_count": null,
            "_view_module": "@jupyter-widgets/controls",
            "_view_module_version": "1.5.0",
            "_view_name": "ProgressView",
            "bar_style": "success",
            "description": "",
            "description_tooltip": null,
            "layout": "IPY_MODEL_f05f0a3f71b142a094796876e49914ce",
            "max": 291,
            "min": 0,
            "orientation": "horizontal",
            "style": "IPY_MODEL_ca565d97e5424f15a15aa026a634fb7a",
            "value": 291
          }
        },
        "83fa4ce9e9bd4da5ade0a102b4b383c4": {
          "model_module": "@jupyter-widgets/controls",
          "model_name": "HTMLModel",
          "model_module_version": "1.5.0",
          "state": {
            "_dom_classes": [],
            "_model_module": "@jupyter-widgets/controls",
            "_model_module_version": "1.5.0",
            "_model_name": "HTMLModel",
            "_view_count": null,
            "_view_module": "@jupyter-widgets/controls",
            "_view_module_version": "1.5.0",
            "_view_name": "HTMLView",
            "description": "",
            "description_tooltip": null,
            "layout": "IPY_MODEL_51550e384fb942379a543037caaccb50",
            "placeholder": "​",
            "style": "IPY_MODEL_85f314d87d2d4226a6bf0d33ad081b78",
            "value": " 291/291 [00:00&lt;00:00, 19.5kB/s]"
          }
        },
        "ed4277e3b7c1488d87ce5c89f53c72fb": {
          "model_module": "@jupyter-widgets/base",
          "model_name": "LayoutModel",
          "model_module_version": "1.2.0",
          "state": {
            "_model_module": "@jupyter-widgets/base",
            "_model_module_version": "1.2.0",
            "_model_name": "LayoutModel",
            "_view_count": null,
            "_view_module": "@jupyter-widgets/base",
            "_view_module_version": "1.2.0",
            "_view_name": "LayoutView",
            "align_content": null,
            "align_items": null,
            "align_self": null,
            "border": null,
            "bottom": null,
            "display": null,
            "flex": null,
            "flex_flow": null,
            "grid_area": null,
            "grid_auto_columns": null,
            "grid_auto_flow": null,
            "grid_auto_rows": null,
            "grid_column": null,
            "grid_gap": null,
            "grid_row": null,
            "grid_template_areas": null,
            "grid_template_columns": null,
            "grid_template_rows": null,
            "height": null,
            "justify_content": null,
            "justify_items": null,
            "left": null,
            "margin": null,
            "max_height": null,
            "max_width": null,
            "min_height": null,
            "min_width": null,
            "object_fit": null,
            "object_position": null,
            "order": null,
            "overflow": null,
            "overflow_x": null,
            "overflow_y": null,
            "padding": null,
            "right": null,
            "top": null,
            "visibility": null,
            "width": null
          }
        },
        "c14eba7f93da44a4937f6d7673b4fb09": {
          "model_module": "@jupyter-widgets/base",
          "model_name": "LayoutModel",
          "model_module_version": "1.2.0",
          "state": {
            "_model_module": "@jupyter-widgets/base",
            "_model_module_version": "1.2.0",
            "_model_name": "LayoutModel",
            "_view_count": null,
            "_view_module": "@jupyter-widgets/base",
            "_view_module_version": "1.2.0",
            "_view_name": "LayoutView",
            "align_content": null,
            "align_items": null,
            "align_self": null,
            "border": null,
            "bottom": null,
            "display": null,
            "flex": null,
            "flex_flow": null,
            "grid_area": null,
            "grid_auto_columns": null,
            "grid_auto_flow": null,
            "grid_auto_rows": null,
            "grid_column": null,
            "grid_gap": null,
            "grid_row": null,
            "grid_template_areas": null,
            "grid_template_columns": null,
            "grid_template_rows": null,
            "height": null,
            "justify_content": null,
            "justify_items": null,
            "left": null,
            "margin": null,
            "max_height": null,
            "max_width": null,
            "min_height": null,
            "min_width": null,
            "object_fit": null,
            "object_position": null,
            "order": null,
            "overflow": null,
            "overflow_x": null,
            "overflow_y": null,
            "padding": null,
            "right": null,
            "top": null,
            "visibility": null,
            "width": null
          }
        },
        "7c02e46f5b464f3493b1c84349a10ceb": {
          "model_module": "@jupyter-widgets/controls",
          "model_name": "DescriptionStyleModel",
          "model_module_version": "1.5.0",
          "state": {
            "_model_module": "@jupyter-widgets/controls",
            "_model_module_version": "1.5.0",
            "_model_name": "DescriptionStyleModel",
            "_view_count": null,
            "_view_module": "@jupyter-widgets/base",
            "_view_module_version": "1.2.0",
            "_view_name": "StyleView",
            "description_width": ""
          }
        },
        "f05f0a3f71b142a094796876e49914ce": {
          "model_module": "@jupyter-widgets/base",
          "model_name": "LayoutModel",
          "model_module_version": "1.2.0",
          "state": {
            "_model_module": "@jupyter-widgets/base",
            "_model_module_version": "1.2.0",
            "_model_name": "LayoutModel",
            "_view_count": null,
            "_view_module": "@jupyter-widgets/base",
            "_view_module_version": "1.2.0",
            "_view_name": "LayoutView",
            "align_content": null,
            "align_items": null,
            "align_self": null,
            "border": null,
            "bottom": null,
            "display": null,
            "flex": null,
            "flex_flow": null,
            "grid_area": null,
            "grid_auto_columns": null,
            "grid_auto_flow": null,
            "grid_auto_rows": null,
            "grid_column": null,
            "grid_gap": null,
            "grid_row": null,
            "grid_template_areas": null,
            "grid_template_columns": null,
            "grid_template_rows": null,
            "height": null,
            "justify_content": null,
            "justify_items": null,
            "left": null,
            "margin": null,
            "max_height": null,
            "max_width": null,
            "min_height": null,
            "min_width": null,
            "object_fit": null,
            "object_position": null,
            "order": null,
            "overflow": null,
            "overflow_x": null,
            "overflow_y": null,
            "padding": null,
            "right": null,
            "top": null,
            "visibility": null,
            "width": null
          }
        },
        "ca565d97e5424f15a15aa026a634fb7a": {
          "model_module": "@jupyter-widgets/controls",
          "model_name": "ProgressStyleModel",
          "model_module_version": "1.5.0",
          "state": {
            "_model_module": "@jupyter-widgets/controls",
            "_model_module_version": "1.5.0",
            "_model_name": "ProgressStyleModel",
            "_view_count": null,
            "_view_module": "@jupyter-widgets/base",
            "_view_module_version": "1.2.0",
            "_view_name": "StyleView",
            "bar_color": null,
            "description_width": ""
          }
        },
        "51550e384fb942379a543037caaccb50": {
          "model_module": "@jupyter-widgets/base",
          "model_name": "LayoutModel",
          "model_module_version": "1.2.0",
          "state": {
            "_model_module": "@jupyter-widgets/base",
            "_model_module_version": "1.2.0",
            "_model_name": "LayoutModel",
            "_view_count": null,
            "_view_module": "@jupyter-widgets/base",
            "_view_module_version": "1.2.0",
            "_view_name": "LayoutView",
            "align_content": null,
            "align_items": null,
            "align_self": null,
            "border": null,
            "bottom": null,
            "display": null,
            "flex": null,
            "flex_flow": null,
            "grid_area": null,
            "grid_auto_columns": null,
            "grid_auto_flow": null,
            "grid_auto_rows": null,
            "grid_column": null,
            "grid_gap": null,
            "grid_row": null,
            "grid_template_areas": null,
            "grid_template_columns": null,
            "grid_template_rows": null,
            "height": null,
            "justify_content": null,
            "justify_items": null,
            "left": null,
            "margin": null,
            "max_height": null,
            "max_width": null,
            "min_height": null,
            "min_width": null,
            "object_fit": null,
            "object_position": null,
            "order": null,
            "overflow": null,
            "overflow_x": null,
            "overflow_y": null,
            "padding": null,
            "right": null,
            "top": null,
            "visibility": null,
            "width": null
          }
        },
        "85f314d87d2d4226a6bf0d33ad081b78": {
          "model_module": "@jupyter-widgets/controls",
          "model_name": "DescriptionStyleModel",
          "model_module_version": "1.5.0",
          "state": {
            "_model_module": "@jupyter-widgets/controls",
            "_model_module_version": "1.5.0",
            "_model_name": "DescriptionStyleModel",
            "_view_count": null,
            "_view_module": "@jupyter-widgets/base",
            "_view_module_version": "1.2.0",
            "_view_name": "StyleView",
            "description_width": ""
          }
        },
        "95a07220cc0e4166b1d9dffb159cf58b": {
          "model_module": "@jupyter-widgets/controls",
          "model_name": "HBoxModel",
          "model_module_version": "1.5.0",
          "state": {
            "_dom_classes": [],
            "_model_module": "@jupyter-widgets/controls",
            "_model_module_version": "1.5.0",
            "_model_name": "HBoxModel",
            "_view_count": null,
            "_view_module": "@jupyter-widgets/controls",
            "_view_module_version": "1.5.0",
            "_view_name": "HBoxView",
            "box_style": "",
            "children": [
              "IPY_MODEL_91e8dccb84024dc6aaa22ec9b18a68bb",
              "IPY_MODEL_d0b7f3a135c446c5ba53a9c0d542f2d5",
              "IPY_MODEL_27af4c54db41414586a82c15a0adc679"
            ],
            "layout": "IPY_MODEL_e73028a4d6da4c949291abfc10d70212"
          }
        },
        "91e8dccb84024dc6aaa22ec9b18a68bb": {
          "model_module": "@jupyter-widgets/controls",
          "model_name": "HTMLModel",
          "model_module_version": "1.5.0",
          "state": {
            "_dom_classes": [],
            "_model_module": "@jupyter-widgets/controls",
            "_model_module_version": "1.5.0",
            "_model_name": "HTMLModel",
            "_view_count": null,
            "_view_module": "@jupyter-widgets/controls",
            "_view_module_version": "1.5.0",
            "_view_name": "HTMLView",
            "description": "",
            "description_tooltip": null,
            "layout": "IPY_MODEL_2ddb0b80f1aa4f3e9319ef356d526a97",
            "placeholder": "​",
            "style": "IPY_MODEL_a3005ec6ca4643728b5bbfc3e4023aa2",
            "value": "vocab.txt: 100%"
          }
        },
        "d0b7f3a135c446c5ba53a9c0d542f2d5": {
          "model_module": "@jupyter-widgets/controls",
          "model_name": "FloatProgressModel",
          "model_module_version": "1.5.0",
          "state": {
            "_dom_classes": [],
            "_model_module": "@jupyter-widgets/controls",
            "_model_module_version": "1.5.0",
            "_model_name": "FloatProgressModel",
            "_view_count": null,
            "_view_module": "@jupyter-widgets/controls",
            "_view_module_version": "1.5.0",
            "_view_name": "ProgressView",
            "bar_style": "success",
            "description": "",
            "description_tooltip": null,
            "layout": "IPY_MODEL_7060427aed9e4218aa84551014b17516",
            "max": 231508,
            "min": 0,
            "orientation": "horizontal",
            "style": "IPY_MODEL_780b706f658c49478b7ccd67f82052c1",
            "value": 231508
          }
        },
        "27af4c54db41414586a82c15a0adc679": {
          "model_module": "@jupyter-widgets/controls",
          "model_name": "HTMLModel",
          "model_module_version": "1.5.0",
          "state": {
            "_dom_classes": [],
            "_model_module": "@jupyter-widgets/controls",
            "_model_module_version": "1.5.0",
            "_model_name": "HTMLModel",
            "_view_count": null,
            "_view_module": "@jupyter-widgets/controls",
            "_view_module_version": "1.5.0",
            "_view_name": "HTMLView",
            "description": "",
            "description_tooltip": null,
            "layout": "IPY_MODEL_fdfdd13b527d4371a85b61f10064f565",
            "placeholder": "​",
            "style": "IPY_MODEL_c4af134c0995480bb70197af4d635db6",
            "value": " 232k/232k [00:00&lt;00:00, 1.89MB/s]"
          }
        },
        "e73028a4d6da4c949291abfc10d70212": {
          "model_module": "@jupyter-widgets/base",
          "model_name": "LayoutModel",
          "model_module_version": "1.2.0",
          "state": {
            "_model_module": "@jupyter-widgets/base",
            "_model_module_version": "1.2.0",
            "_model_name": "LayoutModel",
            "_view_count": null,
            "_view_module": "@jupyter-widgets/base",
            "_view_module_version": "1.2.0",
            "_view_name": "LayoutView",
            "align_content": null,
            "align_items": null,
            "align_self": null,
            "border": null,
            "bottom": null,
            "display": null,
            "flex": null,
            "flex_flow": null,
            "grid_area": null,
            "grid_auto_columns": null,
            "grid_auto_flow": null,
            "grid_auto_rows": null,
            "grid_column": null,
            "grid_gap": null,
            "grid_row": null,
            "grid_template_areas": null,
            "grid_template_columns": null,
            "grid_template_rows": null,
            "height": null,
            "justify_content": null,
            "justify_items": null,
            "left": null,
            "margin": null,
            "max_height": null,
            "max_width": null,
            "min_height": null,
            "min_width": null,
            "object_fit": null,
            "object_position": null,
            "order": null,
            "overflow": null,
            "overflow_x": null,
            "overflow_y": null,
            "padding": null,
            "right": null,
            "top": null,
            "visibility": null,
            "width": null
          }
        },
        "2ddb0b80f1aa4f3e9319ef356d526a97": {
          "model_module": "@jupyter-widgets/base",
          "model_name": "LayoutModel",
          "model_module_version": "1.2.0",
          "state": {
            "_model_module": "@jupyter-widgets/base",
            "_model_module_version": "1.2.0",
            "_model_name": "LayoutModel",
            "_view_count": null,
            "_view_module": "@jupyter-widgets/base",
            "_view_module_version": "1.2.0",
            "_view_name": "LayoutView",
            "align_content": null,
            "align_items": null,
            "align_self": null,
            "border": null,
            "bottom": null,
            "display": null,
            "flex": null,
            "flex_flow": null,
            "grid_area": null,
            "grid_auto_columns": null,
            "grid_auto_flow": null,
            "grid_auto_rows": null,
            "grid_column": null,
            "grid_gap": null,
            "grid_row": null,
            "grid_template_areas": null,
            "grid_template_columns": null,
            "grid_template_rows": null,
            "height": null,
            "justify_content": null,
            "justify_items": null,
            "left": null,
            "margin": null,
            "max_height": null,
            "max_width": null,
            "min_height": null,
            "min_width": null,
            "object_fit": null,
            "object_position": null,
            "order": null,
            "overflow": null,
            "overflow_x": null,
            "overflow_y": null,
            "padding": null,
            "right": null,
            "top": null,
            "visibility": null,
            "width": null
          }
        },
        "a3005ec6ca4643728b5bbfc3e4023aa2": {
          "model_module": "@jupyter-widgets/controls",
          "model_name": "DescriptionStyleModel",
          "model_module_version": "1.5.0",
          "state": {
            "_model_module": "@jupyter-widgets/controls",
            "_model_module_version": "1.5.0",
            "_model_name": "DescriptionStyleModel",
            "_view_count": null,
            "_view_module": "@jupyter-widgets/base",
            "_view_module_version": "1.2.0",
            "_view_name": "StyleView",
            "description_width": ""
          }
        },
        "7060427aed9e4218aa84551014b17516": {
          "model_module": "@jupyter-widgets/base",
          "model_name": "LayoutModel",
          "model_module_version": "1.2.0",
          "state": {
            "_model_module": "@jupyter-widgets/base",
            "_model_module_version": "1.2.0",
            "_model_name": "LayoutModel",
            "_view_count": null,
            "_view_module": "@jupyter-widgets/base",
            "_view_module_version": "1.2.0",
            "_view_name": "LayoutView",
            "align_content": null,
            "align_items": null,
            "align_self": null,
            "border": null,
            "bottom": null,
            "display": null,
            "flex": null,
            "flex_flow": null,
            "grid_area": null,
            "grid_auto_columns": null,
            "grid_auto_flow": null,
            "grid_auto_rows": null,
            "grid_column": null,
            "grid_gap": null,
            "grid_row": null,
            "grid_template_areas": null,
            "grid_template_columns": null,
            "grid_template_rows": null,
            "height": null,
            "justify_content": null,
            "justify_items": null,
            "left": null,
            "margin": null,
            "max_height": null,
            "max_width": null,
            "min_height": null,
            "min_width": null,
            "object_fit": null,
            "object_position": null,
            "order": null,
            "overflow": null,
            "overflow_x": null,
            "overflow_y": null,
            "padding": null,
            "right": null,
            "top": null,
            "visibility": null,
            "width": null
          }
        },
        "780b706f658c49478b7ccd67f82052c1": {
          "model_module": "@jupyter-widgets/controls",
          "model_name": "ProgressStyleModel",
          "model_module_version": "1.5.0",
          "state": {
            "_model_module": "@jupyter-widgets/controls",
            "_model_module_version": "1.5.0",
            "_model_name": "ProgressStyleModel",
            "_view_count": null,
            "_view_module": "@jupyter-widgets/base",
            "_view_module_version": "1.2.0",
            "_view_name": "StyleView",
            "bar_color": null,
            "description_width": ""
          }
        },
        "fdfdd13b527d4371a85b61f10064f565": {
          "model_module": "@jupyter-widgets/base",
          "model_name": "LayoutModel",
          "model_module_version": "1.2.0",
          "state": {
            "_model_module": "@jupyter-widgets/base",
            "_model_module_version": "1.2.0",
            "_model_name": "LayoutModel",
            "_view_count": null,
            "_view_module": "@jupyter-widgets/base",
            "_view_module_version": "1.2.0",
            "_view_name": "LayoutView",
            "align_content": null,
            "align_items": null,
            "align_self": null,
            "border": null,
            "bottom": null,
            "display": null,
            "flex": null,
            "flex_flow": null,
            "grid_area": null,
            "grid_auto_columns": null,
            "grid_auto_flow": null,
            "grid_auto_rows": null,
            "grid_column": null,
            "grid_gap": null,
            "grid_row": null,
            "grid_template_areas": null,
            "grid_template_columns": null,
            "grid_template_rows": null,
            "height": null,
            "justify_content": null,
            "justify_items": null,
            "left": null,
            "margin": null,
            "max_height": null,
            "max_width": null,
            "min_height": null,
            "min_width": null,
            "object_fit": null,
            "object_position": null,
            "order": null,
            "overflow": null,
            "overflow_x": null,
            "overflow_y": null,
            "padding": null,
            "right": null,
            "top": null,
            "visibility": null,
            "width": null
          }
        },
        "c4af134c0995480bb70197af4d635db6": {
          "model_module": "@jupyter-widgets/controls",
          "model_name": "DescriptionStyleModel",
          "model_module_version": "1.5.0",
          "state": {
            "_model_module": "@jupyter-widgets/controls",
            "_model_module_version": "1.5.0",
            "_model_name": "DescriptionStyleModel",
            "_view_count": null,
            "_view_module": "@jupyter-widgets/base",
            "_view_module_version": "1.2.0",
            "_view_name": "StyleView",
            "description_width": ""
          }
        },
        "09005816dcdc46ae971ee627d5a2d3f9": {
          "model_module": "@jupyter-widgets/controls",
          "model_name": "HBoxModel",
          "model_module_version": "1.5.0",
          "state": {
            "_dom_classes": [],
            "_model_module": "@jupyter-widgets/controls",
            "_model_module_version": "1.5.0",
            "_model_name": "HBoxModel",
            "_view_count": null,
            "_view_module": "@jupyter-widgets/controls",
            "_view_module_version": "1.5.0",
            "_view_name": "HBoxView",
            "box_style": "",
            "children": [
              "IPY_MODEL_91ba4e1838c94f9a85a6ad96c7428069",
              "IPY_MODEL_fd06a5884d7c465187bd8e3712e306d5",
              "IPY_MODEL_dee259e65c4b49bf8810de60feb3f7a7"
            ],
            "layout": "IPY_MODEL_985710f3ceb340f689f532814a648f64"
          }
        },
        "91ba4e1838c94f9a85a6ad96c7428069": {
          "model_module": "@jupyter-widgets/controls",
          "model_name": "HTMLModel",
          "model_module_version": "1.5.0",
          "state": {
            "_dom_classes": [],
            "_model_module": "@jupyter-widgets/controls",
            "_model_module_version": "1.5.0",
            "_model_name": "HTMLModel",
            "_view_count": null,
            "_view_module": "@jupyter-widgets/controls",
            "_view_module_version": "1.5.0",
            "_view_name": "HTMLView",
            "description": "",
            "description_tooltip": null,
            "layout": "IPY_MODEL_85635a31bcc34656abdd15022c0dbb29",
            "placeholder": "​",
            "style": "IPY_MODEL_09cc7d3bc75948f7b8b486f02f03f0df",
            "value": "special_tokens_map.json: 100%"
          }
        },
        "fd06a5884d7c465187bd8e3712e306d5": {
          "model_module": "@jupyter-widgets/controls",
          "model_name": "FloatProgressModel",
          "model_module_version": "1.5.0",
          "state": {
            "_dom_classes": [],
            "_model_module": "@jupyter-widgets/controls",
            "_model_module_version": "1.5.0",
            "_model_name": "FloatProgressModel",
            "_view_count": null,
            "_view_module": "@jupyter-widgets/controls",
            "_view_module_version": "1.5.0",
            "_view_name": "ProgressView",
            "bar_style": "success",
            "description": "",
            "description_tooltip": null,
            "layout": "IPY_MODEL_ac822c77afa24b12ad0d2bb2c3196330",
            "max": 112,
            "min": 0,
            "orientation": "horizontal",
            "style": "IPY_MODEL_957f7e2f41044fa8baf6121c485ce2cb",
            "value": 112
          }
        },
        "dee259e65c4b49bf8810de60feb3f7a7": {
          "model_module": "@jupyter-widgets/controls",
          "model_name": "HTMLModel",
          "model_module_version": "1.5.0",
          "state": {
            "_dom_classes": [],
            "_model_module": "@jupyter-widgets/controls",
            "_model_module_version": "1.5.0",
            "_model_name": "HTMLModel",
            "_view_count": null,
            "_view_module": "@jupyter-widgets/controls",
            "_view_module_version": "1.5.0",
            "_view_name": "HTMLView",
            "description": "",
            "description_tooltip": null,
            "layout": "IPY_MODEL_d54c8bb5f39449f489e3f4079d7ab51f",
            "placeholder": "​",
            "style": "IPY_MODEL_35e4fbbb8d974dae9287b3ff02297a03",
            "value": " 112/112 [00:00&lt;00:00, 5.59kB/s]"
          }
        },
        "985710f3ceb340f689f532814a648f64": {
          "model_module": "@jupyter-widgets/base",
          "model_name": "LayoutModel",
          "model_module_version": "1.2.0",
          "state": {
            "_model_module": "@jupyter-widgets/base",
            "_model_module_version": "1.2.0",
            "_model_name": "LayoutModel",
            "_view_count": null,
            "_view_module": "@jupyter-widgets/base",
            "_view_module_version": "1.2.0",
            "_view_name": "LayoutView",
            "align_content": null,
            "align_items": null,
            "align_self": null,
            "border": null,
            "bottom": null,
            "display": null,
            "flex": null,
            "flex_flow": null,
            "grid_area": null,
            "grid_auto_columns": null,
            "grid_auto_flow": null,
            "grid_auto_rows": null,
            "grid_column": null,
            "grid_gap": null,
            "grid_row": null,
            "grid_template_areas": null,
            "grid_template_columns": null,
            "grid_template_rows": null,
            "height": null,
            "justify_content": null,
            "justify_items": null,
            "left": null,
            "margin": null,
            "max_height": null,
            "max_width": null,
            "min_height": null,
            "min_width": null,
            "object_fit": null,
            "object_position": null,
            "order": null,
            "overflow": null,
            "overflow_x": null,
            "overflow_y": null,
            "padding": null,
            "right": null,
            "top": null,
            "visibility": null,
            "width": null
          }
        },
        "85635a31bcc34656abdd15022c0dbb29": {
          "model_module": "@jupyter-widgets/base",
          "model_name": "LayoutModel",
          "model_module_version": "1.2.0",
          "state": {
            "_model_module": "@jupyter-widgets/base",
            "_model_module_version": "1.2.0",
            "_model_name": "LayoutModel",
            "_view_count": null,
            "_view_module": "@jupyter-widgets/base",
            "_view_module_version": "1.2.0",
            "_view_name": "LayoutView",
            "align_content": null,
            "align_items": null,
            "align_self": null,
            "border": null,
            "bottom": null,
            "display": null,
            "flex": null,
            "flex_flow": null,
            "grid_area": null,
            "grid_auto_columns": null,
            "grid_auto_flow": null,
            "grid_auto_rows": null,
            "grid_column": null,
            "grid_gap": null,
            "grid_row": null,
            "grid_template_areas": null,
            "grid_template_columns": null,
            "grid_template_rows": null,
            "height": null,
            "justify_content": null,
            "justify_items": null,
            "left": null,
            "margin": null,
            "max_height": null,
            "max_width": null,
            "min_height": null,
            "min_width": null,
            "object_fit": null,
            "object_position": null,
            "order": null,
            "overflow": null,
            "overflow_x": null,
            "overflow_y": null,
            "padding": null,
            "right": null,
            "top": null,
            "visibility": null,
            "width": null
          }
        },
        "09cc7d3bc75948f7b8b486f02f03f0df": {
          "model_module": "@jupyter-widgets/controls",
          "model_name": "DescriptionStyleModel",
          "model_module_version": "1.5.0",
          "state": {
            "_model_module": "@jupyter-widgets/controls",
            "_model_module_version": "1.5.0",
            "_model_name": "DescriptionStyleModel",
            "_view_count": null,
            "_view_module": "@jupyter-widgets/base",
            "_view_module_version": "1.2.0",
            "_view_name": "StyleView",
            "description_width": ""
          }
        },
        "ac822c77afa24b12ad0d2bb2c3196330": {
          "model_module": "@jupyter-widgets/base",
          "model_name": "LayoutModel",
          "model_module_version": "1.2.0",
          "state": {
            "_model_module": "@jupyter-widgets/base",
            "_model_module_version": "1.2.0",
            "_model_name": "LayoutModel",
            "_view_count": null,
            "_view_module": "@jupyter-widgets/base",
            "_view_module_version": "1.2.0",
            "_view_name": "LayoutView",
            "align_content": null,
            "align_items": null,
            "align_self": null,
            "border": null,
            "bottom": null,
            "display": null,
            "flex": null,
            "flex_flow": null,
            "grid_area": null,
            "grid_auto_columns": null,
            "grid_auto_flow": null,
            "grid_auto_rows": null,
            "grid_column": null,
            "grid_gap": null,
            "grid_row": null,
            "grid_template_areas": null,
            "grid_template_columns": null,
            "grid_template_rows": null,
            "height": null,
            "justify_content": null,
            "justify_items": null,
            "left": null,
            "margin": null,
            "max_height": null,
            "max_width": null,
            "min_height": null,
            "min_width": null,
            "object_fit": null,
            "object_position": null,
            "order": null,
            "overflow": null,
            "overflow_x": null,
            "overflow_y": null,
            "padding": null,
            "right": null,
            "top": null,
            "visibility": null,
            "width": null
          }
        },
        "957f7e2f41044fa8baf6121c485ce2cb": {
          "model_module": "@jupyter-widgets/controls",
          "model_name": "ProgressStyleModel",
          "model_module_version": "1.5.0",
          "state": {
            "_model_module": "@jupyter-widgets/controls",
            "_model_module_version": "1.5.0",
            "_model_name": "ProgressStyleModel",
            "_view_count": null,
            "_view_module": "@jupyter-widgets/base",
            "_view_module_version": "1.2.0",
            "_view_name": "StyleView",
            "bar_color": null,
            "description_width": ""
          }
        },
        "d54c8bb5f39449f489e3f4079d7ab51f": {
          "model_module": "@jupyter-widgets/base",
          "model_name": "LayoutModel",
          "model_module_version": "1.2.0",
          "state": {
            "_model_module": "@jupyter-widgets/base",
            "_model_module_version": "1.2.0",
            "_model_name": "LayoutModel",
            "_view_count": null,
            "_view_module": "@jupyter-widgets/base",
            "_view_module_version": "1.2.0",
            "_view_name": "LayoutView",
            "align_content": null,
            "align_items": null,
            "align_self": null,
            "border": null,
            "bottom": null,
            "display": null,
            "flex": null,
            "flex_flow": null,
            "grid_area": null,
            "grid_auto_columns": null,
            "grid_auto_flow": null,
            "grid_auto_rows": null,
            "grid_column": null,
            "grid_gap": null,
            "grid_row": null,
            "grid_template_areas": null,
            "grid_template_columns": null,
            "grid_template_rows": null,
            "height": null,
            "justify_content": null,
            "justify_items": null,
            "left": null,
            "margin": null,
            "max_height": null,
            "max_width": null,
            "min_height": null,
            "min_width": null,
            "object_fit": null,
            "object_position": null,
            "order": null,
            "overflow": null,
            "overflow_x": null,
            "overflow_y": null,
            "padding": null,
            "right": null,
            "top": null,
            "visibility": null,
            "width": null
          }
        },
        "35e4fbbb8d974dae9287b3ff02297a03": {
          "model_module": "@jupyter-widgets/controls",
          "model_name": "DescriptionStyleModel",
          "model_module_version": "1.5.0",
          "state": {
            "_model_module": "@jupyter-widgets/controls",
            "_model_module_version": "1.5.0",
            "_model_name": "DescriptionStyleModel",
            "_view_count": null,
            "_view_module": "@jupyter-widgets/base",
            "_view_module_version": "1.2.0",
            "_view_name": "StyleView",
            "description_width": ""
          }
        }
      }
    }
  },
  "cells": [
    {
      "cell_type": "code",
      "source": [
        "import re\n",
        "import pandas as pd\n"
      ],
      "metadata": {
        "id": "AMykz9s0sD84"
      },
      "execution_count": 20,
      "outputs": []
    },
    {
      "cell_type": "code",
      "source": [
        "def process_filings(dataframe):\n",
        "\n",
        "    columns = columns_10K\n",
        "    header_mappings = header_mappings_10K\n",
        "\n",
        "    df = dataframe\n",
        "    items = pd.DataFrame(columns = columns, dtype=object)\n",
        "    for i in df.index:\n",
        "        form_text = df.text[i]\n",
        "        item_iter = get_form_items(form_text)\n",
        "        items.loc[i] = items_to_df_row(item_iter, columns)\n",
        "    items.rename(columns=header_mappings, inplace=True)\n",
        "    df = pd.merge(df, items, left_index=True, right_index=True)\n",
        "    return df"
      ],
      "metadata": {
        "id": "X80J4m5yrQ_z"
      },
      "execution_count": 23,
      "outputs": []
    },
    {
      "cell_type": "code",
      "source": [
        "pip install edgartools"
      ],
      "metadata": {
        "colab": {
          "base_uri": "https://localhost:8080/"
        },
        "id": "OlyWiXCTrTGr",
        "outputId": "73381710-292d-4296-c804-37f08edb2380"
      },
      "execution_count": 2,
      "outputs": [
        {
          "output_type": "stream",
          "name": "stdout",
          "text": [
            "Collecting edgartools\n",
            "  Downloading edgartools-2.21.1-py3-none-any.whl (1.1 MB)\n",
            "\u001b[2K     \u001b[90m━━━━━━━━━━━━━━━━━━━━━━━━━━━━━━━━━━━━━━━━\u001b[0m \u001b[32m1.1/1.1 MB\u001b[0m \u001b[31m6.0 MB/s\u001b[0m eta \u001b[36m0:00:00\u001b[0m\n",
            "\u001b[?25hRequirement already satisfied: beautifulsoup4>=4.10.0 in /usr/local/lib/python3.10/dist-packages (from edgartools) (4.12.3)\n",
            "Requirement already satisfied: charset-normalizer>=2.1.1 in /usr/local/lib/python3.10/dist-packages (from edgartools) (3.3.2)\n",
            "Requirement already satisfied: fastcore>=1.5.29 in /usr/local/lib/python3.10/dist-packages (from edgartools) (1.5.33)\n",
            "Collecting httpx>=0.25.0 (from edgartools)\n",
            "  Downloading httpx-0.27.0-py3-none-any.whl (75 kB)\n",
            "\u001b[2K     \u001b[90m━━━━━━━━━━━━━━━━━━━━━━━━━━━━━━━━━━━━━━━━\u001b[0m \u001b[32m75.6/75.6 kB\u001b[0m \u001b[31m2.1 MB/s\u001b[0m eta \u001b[36m0:00:00\u001b[0m\n",
            "\u001b[?25hRequirement already satisfied: humanize>=4.0.0 in /usr/local/lib/python3.10/dist-packages (from edgartools) (4.7.0)\n",
            "Requirement already satisfied: lxml>=4.4 in /usr/local/lib/python3.10/dist-packages (from edgartools) (4.9.4)\n",
            "Requirement already satisfied: pandas>=2.0.0 in /usr/local/lib/python3.10/dist-packages (from edgartools) (2.0.3)\n",
            "Requirement already satisfied: pyarrow>=14.0.0 in /usr/local/lib/python3.10/dist-packages (from edgartools) (14.0.2)\n",
            "Requirement already satisfied: pydantic>=2.0.0 in /usr/local/lib/python3.10/dist-packages (from edgartools) (2.7.1)\n",
            "Collecting rank-bm25==0.2.1 (from edgartools)\n",
            "  Downloading rank_bm25-0.2.1-py3-none-any.whl (8.5 kB)\n",
            "Collecting retry>=0.9.2 (from edgartools)\n",
            "  Downloading retry-0.9.2-py2.py3-none-any.whl (8.0 kB)\n",
            "Requirement already satisfied: rich>=13.0.0 in /usr/local/lib/python3.10/dist-packages (from edgartools) (13.7.1)\n",
            "Requirement already satisfied: tabulate>=0.9.0 in /usr/local/lib/python3.10/dist-packages (from edgartools) (0.9.0)\n",
            "Collecting textdistance>=4.5.0 (from edgartools)\n",
            "  Downloading textdistance-4.6.2-py3-none-any.whl (31 kB)\n",
            "Requirement already satisfied: numpy in /usr/local/lib/python3.10/dist-packages (from rank-bm25==0.2.1->edgartools) (1.25.2)\n",
            "Requirement already satisfied: soupsieve>1.2 in /usr/local/lib/python3.10/dist-packages (from beautifulsoup4>=4.10.0->edgartools) (2.5)\n",
            "Requirement already satisfied: packaging in /usr/local/lib/python3.10/dist-packages (from fastcore>=1.5.29->edgartools) (24.0)\n",
            "Requirement already satisfied: anyio in /usr/local/lib/python3.10/dist-packages (from httpx>=0.25.0->edgartools) (3.7.1)\n",
            "Requirement already satisfied: certifi in /usr/local/lib/python3.10/dist-packages (from httpx>=0.25.0->edgartools) (2024.2.2)\n",
            "Collecting httpcore==1.* (from httpx>=0.25.0->edgartools)\n",
            "  Downloading httpcore-1.0.5-py3-none-any.whl (77 kB)\n",
            "\u001b[2K     \u001b[90m━━━━━━━━━━━━━━━━━━━━━━━━━━━━━━━━━━━━━━━━\u001b[0m \u001b[32m77.9/77.9 kB\u001b[0m \u001b[31m3.4 MB/s\u001b[0m eta \u001b[36m0:00:00\u001b[0m\n",
            "\u001b[?25hRequirement already satisfied: idna in /usr/local/lib/python3.10/dist-packages (from httpx>=0.25.0->edgartools) (3.7)\n",
            "Requirement already satisfied: sniffio in /usr/local/lib/python3.10/dist-packages (from httpx>=0.25.0->edgartools) (1.3.1)\n",
            "Collecting h11<0.15,>=0.13 (from httpcore==1.*->httpx>=0.25.0->edgartools)\n",
            "  Downloading h11-0.14.0-py3-none-any.whl (58 kB)\n",
            "\u001b[2K     \u001b[90m━━━━━━━━━━━━━━━━━━━━━━━━━━━━━━━━━━━━━━━━\u001b[0m \u001b[32m58.3/58.3 kB\u001b[0m \u001b[31m1.7 MB/s\u001b[0m eta \u001b[36m0:00:00\u001b[0m\n",
            "\u001b[?25hRequirement already satisfied: python-dateutil>=2.8.2 in /usr/local/lib/python3.10/dist-packages (from pandas>=2.0.0->edgartools) (2.8.2)\n",
            "Requirement already satisfied: pytz>=2020.1 in /usr/local/lib/python3.10/dist-packages (from pandas>=2.0.0->edgartools) (2023.4)\n",
            "Requirement already satisfied: tzdata>=2022.1 in /usr/local/lib/python3.10/dist-packages (from pandas>=2.0.0->edgartools) (2024.1)\n",
            "Requirement already satisfied: annotated-types>=0.4.0 in /usr/local/lib/python3.10/dist-packages (from pydantic>=2.0.0->edgartools) (0.6.0)\n",
            "Requirement already satisfied: pydantic-core==2.18.2 in /usr/local/lib/python3.10/dist-packages (from pydantic>=2.0.0->edgartools) (2.18.2)\n",
            "Requirement already satisfied: typing-extensions>=4.6.1 in /usr/local/lib/python3.10/dist-packages (from pydantic>=2.0.0->edgartools) (4.11.0)\n",
            "Requirement already satisfied: decorator>=3.4.2 in /usr/local/lib/python3.10/dist-packages (from retry>=0.9.2->edgartools) (4.4.2)\n",
            "Collecting py<2.0.0,>=1.4.26 (from retry>=0.9.2->edgartools)\n",
            "  Downloading py-1.11.0-py2.py3-none-any.whl (98 kB)\n",
            "\u001b[2K     \u001b[90m━━━━━━━━━━━━━━━━━━━━━━━━━━━━━━━━━━━━━━━━\u001b[0m \u001b[32m98.7/98.7 kB\u001b[0m \u001b[31m3.1 MB/s\u001b[0m eta \u001b[36m0:00:00\u001b[0m\n",
            "\u001b[?25hRequirement already satisfied: markdown-it-py>=2.2.0 in /usr/local/lib/python3.10/dist-packages (from rich>=13.0.0->edgartools) (3.0.0)\n",
            "Requirement already satisfied: pygments<3.0.0,>=2.13.0 in /usr/local/lib/python3.10/dist-packages (from rich>=13.0.0->edgartools) (2.16.1)\n",
            "Requirement already satisfied: mdurl~=0.1 in /usr/local/lib/python3.10/dist-packages (from markdown-it-py>=2.2.0->rich>=13.0.0->edgartools) (0.1.2)\n",
            "Requirement already satisfied: six>=1.5 in /usr/local/lib/python3.10/dist-packages (from python-dateutil>=2.8.2->pandas>=2.0.0->edgartools) (1.16.0)\n",
            "Requirement already satisfied: exceptiongroup in /usr/local/lib/python3.10/dist-packages (from anyio->httpx>=0.25.0->edgartools) (1.2.1)\n",
            "Installing collected packages: textdistance, rank-bm25, py, h11, retry, httpcore, httpx, edgartools\n",
            "Successfully installed edgartools-2.21.1 h11-0.14.0 httpcore-1.0.5 httpx-0.27.0 py-1.11.0 rank-bm25-0.2.1 retry-0.9.2 textdistance-4.6.2\n"
          ]
        }
      ]
    },
    {
      "cell_type": "code",
      "source": [
        "import pandas as pd\n",
        "from edgar import Company\n",
        "\n",
        "# Define the company ticker\n",
        "ticker = \"AAPL\"\n",
        "\n",
        "# Define the range of years for which you want to retrieve 10-K filings\n",
        "start_year = 1995\n",
        "end_year = 2023\n",
        "\n",
        "# Initialize an empty DataFrame to store all items\n",
        "all_items_df = pd.DataFrame(columns=[\"Item\", \"Content\"])\n",
        "\n",
        "# Retrieve 10-K filings for the specified range of years\n",
        "filings = Company(ticker).get_filings(form=\"10-K\")\n",
        "filings.filter(date=f\"{start_year}-01-01:{end_year}-12-31\")\n",
        "\n",
        "# Iterate over each filing for the current year\n",
        "for filing in filings:\n",
        "    # Retrieve the HTML content of the filing\n",
        "    html = filing.html()\n",
        "\n",
        "    if html:\n",
        "        # Create a ChunkedDocument object from the HTML content\n",
        "        chunked_document = ChunkedDocument(html)\n",
        "\n",
        "        # Extract items (sections) from the filing based on a condition\n",
        "        items = chunked_document.show_items(\"Item.str.contains('ITEM', case=False)\", \"Item\")\n",
        "\n",
        "        # Initialize a dictionary to store content for each item\n",
        "        item_contents = {}\n",
        "\n",
        "        # Iterate over each item and extract content\n",
        "        for index, row in items.iterrows():\n",
        "            # Store the content in reverse order to correct the concatenation\n",
        "            item_contents[row[\"Item\"]] = item_contents.get(row[\"Item\"], \"\") + row[\"Text\"]\n",
        "\n",
        "        # Create a DataFrame from the item contents\n",
        "        filing_df = pd.DataFrame.from_dict(item_contents, orient=\"index\", columns=[\"Content\"])\n",
        "        filing_df.reset_index(inplace=True)\n",
        "        filing_df.columns = [\"Item\", \"Content\"]\n",
        "\n",
        "        # Concatenate the extracted items to the DataFrame containing all items\n",
        "        all_items_df = pd.concat([all_items_df, filing_df], ignore_index=True)\n",
        "\n",
        "# Print the DataFrame containing all items\n",
        "# Define the list of valid items\n",
        "valid_items = [\"Item 1\", \"Item 1A\", \"Item 7\"]\n",
        "\n",
        "# Filter the DataFrame to keep only the rows with valid items\n",
        "filtered_df = all_items_df[all_items_df['Item'].isin(valid_items)]\n",
        "\n",
        "# Print the filtered DataFrame\n",
        "print(filtered_df)"
      ],
      "metadata": {
        "colab": {
          "base_uri": "https://localhost:8080/"
        },
        "id": "ah4nNN4B0AaH",
        "outputId": "8e2a304d-d44a-4872-c6da-035d24ec999c"
      },
      "execution_count": 6,
      "outputs": [
        {
          "output_type": "stream",
          "name": "stdout",
          "text": [
            "        Item                                            Content\n",
            "0     Item 1  Item 1.    Business\\nCompany Background\\nThe C...\n",
            "1    Item 1A  Item 1A.    Risk Factors\\nThe Company’s busine...\n",
            "9     Item 7  Item 7.    Management’s Discussion and Analysi...\n",
            "23    Item 1  Item 1.    Business\\nCompany Background\\nThe C...\n",
            "24   Item 1A  Item 1A.    Risk Factors\\nThe Company’s busine...\n",
            "31    Item 7  Item 7.    Management’s Discussion and Analysi...\n",
            "45    Item 1  Item 1.    Business\\nCompany Background\\nThe C...\n",
            "46   Item 1A  Item 1A.    Risk Factors\\nThe Company’s busine...\n",
            "53    Item 7  Item 7.    Management’s Discussion and Analysi...\n",
            "67    Item 1  Item 1.    Business\\nCompany Background\\nThe C...\n",
            "68   Item 1A  Item 1A.    Risk Factors\\nThe following discus...\n",
            "75    Item 7  Item 7.    Management’s Discussion and Analysi...\n",
            "88    Item 1  Item 1. | BusinessCompany Background\\nThe Comp...\n",
            "89   Item 1A  Item 1A. | Risk FactorsThe following discussio...\n",
            "96    Item 7  Item 7. | Management’s Discussion and Analysis...\n",
            "109   Item 1  Item 1. | BusinessCompany Background\\nThe Comp...\n",
            "110  Item 1A  Item 1A. | Risk FactorsThe following discussio...\n",
            "117   Item 7  Item 7. | Management’s Discussion and Analysis...\n",
            "130   Item 1  Item 1. | BusinessCompany Background\\nThe Comp...\n",
            "131  Item 1A  Item 1A. | Risk FactorsThe following discussio...\n",
            "138   Item 7  Item 7. | Management’s Discussion and Analysis...\n",
            "151   Item 1  Item 1. | BusinessCompany Background\\nThe Comp...\n",
            "152  Item 1A  Item 1A. | Risk FactorsThe following discussio...\n",
            "159   Item 7  Item 7. | Management’s Discussion and Analysis...\n",
            "171   Item 1  Item 1. | Business\\n--------+---------Company ...\n",
            "172  Item 1A  Item 1A. | Risk Factors\\n---------+-----------...\n",
            "179   Item 7  Item 7. | Managements Discussion and Analysis...\n",
            "191   Item 1  Item 1. | Business\\n--------+---------Company ...\n",
            "192  Item 1A  Item 1A. | Risk Factors\\n---------+-----------...\n",
            "199   Item 7  Item 7. | Managements Discussion and Analysis...\n",
            "211   Item 1  Item 1. | Business\\n--------+---------Company ...\n",
            "212  Item 1A  Item 1A. | Risk Factors\\n---------+-----------...\n",
            "219   Item 7  Item 7. | Managements Discussion and Analysis...\n",
            "231   Item 1  Item 1. | Business\\n--------+---------Company ...\n",
            "232  Item 1A  Item 1A. | Risk Factors\\n---------+-----------...\n",
            "239   Item 7  Item 7. | Managements Discussion and Analysis...\n",
            "251   Item 1  Item 1. | Business\\n--------+---------Company ...\n",
            "252  Item 1A  Item 1A. | Risk Factors\\n---------+-----------...\n",
            "258   Item 7  Item 7. | Managements Discussion and Analysis...\n",
            "270   Item 1  Item 1. | Business\\n--------+---------Company ...\n",
            "271  Item 1A  Item 1A. | Risk Factors\\n---------+-----------...\n",
            "277   Item 7  Item 7. | Managements Discussion and Analysis...\n",
            "289   Item 1  Item 1. | Business\\n--------+---------Company ...\n",
            "290  Item 1A  Item 1A. | Risk Factors\\n---------+-----------...\n",
            "297   Item 7  Item 7. | Managements Discussion and Analysis...\n",
            "309   Item 1  Item 1. BusinessCompany Background \\n Apple In...\n",
            "310   Item 7  Item 7 of this Form 10-K under the heading Se...\n",
            "311  Item 1A  Item 1A. Risk FactorsBecause of the following ...\n",
            "329   Item 1  Item 1. BusinessCompany Background \\n Apple In...\n",
            "335   Item 7  Item 7. Management's Discussion and Analysis o...\n",
            "344   Item 1  Item 1. BusinessCompany Background\\n Apple Com...\n",
            "345  Item 1A  Item 1A. Risk FactorsBecause of the following ...\n",
            "352   Item 7  Item 7. Managements Discussion and Analysis o...\n",
            "364   Item 1  Item 1. BusinessCompany Background\\n Apple Com...\n",
            "370   Item 7  Item 7. Managements Discussion and Analysis o...\n",
            "385   Item 7  Item 7. Management's Discussion and Analysis o...\n",
            "398   Item 7  Item 7. Management's Discussion and Analysis o...\n",
            "412   Item 7  Item 7. Management's Discussion and Analysis o...\n"
          ]
        }
      ]
    },
    {
      "cell_type": "code",
      "source": [
        "import pandas as pd\n",
        "from rich import print\n",
        "\n",
        "from edgar import Filing\n",
        "from edgar import find\n",
        "from edgar.company_reports import TenK, TenQ, TwentyF, EightK\n",
        "from edgar.htmltools import ChunkedDocument\n",
        "\n",
        "# Find and retrieve the filing\n",
        "filing = find(\"0000320193-23-000106\")\n",
        "html = filing.html()\n",
        "\n",
        "# Create a ChunkedDocument object from the HTML content\n",
        "chunked_document = ChunkedDocument(html)\n",
        "\n",
        "# Extract items (sections) from the filing based on a condition\n",
        "items = chunked_document.show_items(\"Item.str.contains('ITEM', case=False)\", \"Item\")\n",
        "\n",
        "# Initialize a dictionary to store content for each item\n",
        "item_contents = {}\n",
        "\n",
        "# Iterate over each item and extract content\n",
        "for index, row in items.iterrows():\n",
        "    # Store the content in reverse order to correct the concatenation\n",
        "    item_contents[row[\"Item\"]] = item_contents.get(row[\"Item\"], \"\")+ row[\"Text\"]\n",
        "\n",
        "# Create a DataFrame from the item contents\n",
        "combined_df = pd.DataFrame.from_dict(item_contents, orient=\"index\", columns=[\"Content\"])\n",
        "\n",
        "# Reset index to make items a column\n",
        "combined_df.reset_index(inplace=True)\n",
        "combined_df.columns = [\"Item\", \"Content\"]\n",
        "\n",
        "# Print the DataFrame\n",
        "print(combined_df)"
      ],
      "metadata": {
        "colab": {
          "base_uri": "https://localhost:8080/",
          "height": 410
        },
        "id": "IZQp31ixgK7N",
        "outputId": "89322b56-bb19-469c-a5ba-2321ccaed1c1"
      },
      "execution_count": 243,
      "outputs": [
        {
          "output_type": "display_data",
          "data": {
            "text/plain": [
              "       Item                                            Content\n",
              "\u001b[1;36m0\u001b[0m    Item \u001b[1;36m1\u001b[0m  Item \u001b[1;36m1\u001b[0m.    Business\\nCompany Background\\nThe C\u001b[33m...\u001b[0m\n",
              "\u001b[1;36m1\u001b[0m   Item 1A  Item 1A.    Risk Factors\\nThe Company’s busine\u001b[33m...\u001b[0m\n",
              "\u001b[1;36m2\u001b[0m   Item 1B       Item 1B.    Unresolved Staff Comments\\nNone.\n",
              "\u001b[1;36m3\u001b[0m   Item 1C  Item 1C.    CybersecurityNot applicable.Apple \u001b[33m...\u001b[0m\n",
              "\u001b[1;36m4\u001b[0m    Item \u001b[1;36m2\u001b[0m  Item \u001b[1;36m2\u001b[0m.    Properties\\nThe Company’s headquart\u001b[33m...\u001b[0m\n",
              "\u001b[1;36m5\u001b[0m    Item \u001b[1;36m3\u001b[0m  Item \u001b[1;36m3\u001b[0m.    Legal Proceedings\\nEpic Games\\nEpic\u001b[33m...\u001b[0m\n",
              "\u001b[1;36m6\u001b[0m    Item \u001b[1;36m4\u001b[0m  Item \u001b[1;36m4\u001b[0m.    Mine Safety DisclosuresNot applicab\u001b[33m...\u001b[0m\n",
              "\u001b[1;36m7\u001b[0m    Item \u001b[1;36m5\u001b[0m  Item \u001b[1;36m5\u001b[0m.    Market for Registrant’s Common Equi\u001b[33m...\u001b[0m\n",
              "\u001b[1;36m8\u001b[0m    Item \u001b[1;36m6\u001b[0m  Item \u001b[1;36m6\u001b[0m.    \u001b[1m[\u001b[0mReserved\u001b[1m]\u001b[0m\\nApple Inc. | \u001b[1;36m2023\u001b[0m Form \u001b[33m...\u001b[0m\n",
              "\u001b[1;36m9\u001b[0m    Item \u001b[1;36m7\u001b[0m  Item \u001b[1;36m7\u001b[0m.    Management’s Discussion and Analysi\u001b[33m...\u001b[0m\n",
              "\u001b[1;36m10\u001b[0m  Item 7A  Item 7A.    Quantitative and Qualitative Discl\u001b[33m...\u001b[0m\n",
              "\u001b[1;36m11\u001b[0m   Item \u001b[1;36m8\u001b[0m  Item \u001b[1;36m8\u001b[0m.    Financial Statements and Supplement\u001b[33m...\u001b[0m\n",
              "\u001b[1;36m12\u001b[0m   Item \u001b[1;36m9\u001b[0m  Item \u001b[1;36m9\u001b[0m.    Changes in and Disagreements with A\u001b[33m...\u001b[0m\n",
              "\u001b[1;36m13\u001b[0m  Item 9A  Item 9A.    Controls and Procedures\\nEvaluatio\u001b[33m...\u001b[0m\n",
              "\u001b[1;36m14\u001b[0m  Item 9B  Item 9B.    Other Information\\nInsider Trading\u001b[33m...\u001b[0m\n",
              "\u001b[1;36m15\u001b[0m  Item 9C  Item 9C.    Disclosure Regarding Foreign Juris\u001b[33m...\u001b[0m\n",
              "\u001b[1;36m16\u001b[0m  Item \u001b[1;36m10\u001b[0m  Item \u001b[1;36m10\u001b[0m.    Directors, Executive Officers and \u001b[33m...\u001b[0m\n",
              "\u001b[1;36m17\u001b[0m  Item \u001b[1;36m11\u001b[0m  Item \u001b[1;36m11\u001b[0m.    Executive CompensationThe informat\u001b[33m...\u001b[0m\n",
              "\u001b[1;36m18\u001b[0m  Item \u001b[1;36m12\u001b[0m  Item \u001b[1;36m12\u001b[0m.    Security Ownership of Certain Bene\u001b[33m...\u001b[0m\n",
              "\u001b[1;36m19\u001b[0m  Item \u001b[1;36m13\u001b[0m  Item \u001b[1;36m13\u001b[0m.    Certain Relationships and Related \u001b[33m...\u001b[0m\n",
              "\u001b[1;36m20\u001b[0m  Item \u001b[1;36m14\u001b[0m  Item \u001b[1;36m14\u001b[0m.    Principal Accountant Fees and Serv\u001b[33m...\u001b[0m\n",
              "\u001b[1;36m21\u001b[0m  Item \u001b[1;36m15\u001b[0m  Item \u001b[1;36m15\u001b[0m.    Exhibit and Financial Statement Sc\u001b[33m...\u001b[0m\n",
              "\u001b[1;36m22\u001b[0m  Item \u001b[1;36m16\u001b[0m  Item \u001b[1;36m16\u001b[0m.    Form \u001b[1;36m10\u001b[0m-K Summary\\nNone.Apple Inc\u001b[33m...\u001b[0m.\n"
            ],
            "text/html": [
              "<pre style=\"white-space:pre;overflow-x:auto;line-height:normal;font-family:Menlo,'DejaVu Sans Mono',consolas,'Courier New',monospace\">       Item                                            Content\n",
              "<span style=\"color: #008080; text-decoration-color: #008080; font-weight: bold\">0</span>    Item <span style=\"color: #008080; text-decoration-color: #008080; font-weight: bold\">1</span>  Item <span style=\"color: #008080; text-decoration-color: #008080; font-weight: bold\">1</span>.    Business\\nCompany Background\\nThe C<span style=\"color: #808000; text-decoration-color: #808000\">...</span>\n",
              "<span style=\"color: #008080; text-decoration-color: #008080; font-weight: bold\">1</span>   Item 1A  Item 1A.    Risk Factors\\nThe Company’s busine<span style=\"color: #808000; text-decoration-color: #808000\">...</span>\n",
              "<span style=\"color: #008080; text-decoration-color: #008080; font-weight: bold\">2</span>   Item 1B       Item 1B.    Unresolved Staff Comments\\nNone.\n",
              "<span style=\"color: #008080; text-decoration-color: #008080; font-weight: bold\">3</span>   Item 1C  Item 1C.    CybersecurityNot applicable.Apple <span style=\"color: #808000; text-decoration-color: #808000\">...</span>\n",
              "<span style=\"color: #008080; text-decoration-color: #008080; font-weight: bold\">4</span>    Item <span style=\"color: #008080; text-decoration-color: #008080; font-weight: bold\">2</span>  Item <span style=\"color: #008080; text-decoration-color: #008080; font-weight: bold\">2</span>.    Properties\\nThe Company’s headquart<span style=\"color: #808000; text-decoration-color: #808000\">...</span>\n",
              "<span style=\"color: #008080; text-decoration-color: #008080; font-weight: bold\">5</span>    Item <span style=\"color: #008080; text-decoration-color: #008080; font-weight: bold\">3</span>  Item <span style=\"color: #008080; text-decoration-color: #008080; font-weight: bold\">3</span>.    Legal Proceedings\\nEpic Games\\nEpic<span style=\"color: #808000; text-decoration-color: #808000\">...</span>\n",
              "<span style=\"color: #008080; text-decoration-color: #008080; font-weight: bold\">6</span>    Item <span style=\"color: #008080; text-decoration-color: #008080; font-weight: bold\">4</span>  Item <span style=\"color: #008080; text-decoration-color: #008080; font-weight: bold\">4</span>.    Mine Safety DisclosuresNot applicab<span style=\"color: #808000; text-decoration-color: #808000\">...</span>\n",
              "<span style=\"color: #008080; text-decoration-color: #008080; font-weight: bold\">7</span>    Item <span style=\"color: #008080; text-decoration-color: #008080; font-weight: bold\">5</span>  Item <span style=\"color: #008080; text-decoration-color: #008080; font-weight: bold\">5</span>.    Market for Registrant’s Common Equi<span style=\"color: #808000; text-decoration-color: #808000\">...</span>\n",
              "<span style=\"color: #008080; text-decoration-color: #008080; font-weight: bold\">8</span>    Item <span style=\"color: #008080; text-decoration-color: #008080; font-weight: bold\">6</span>  Item <span style=\"color: #008080; text-decoration-color: #008080; font-weight: bold\">6</span>.    <span style=\"font-weight: bold\">[</span>Reserved<span style=\"font-weight: bold\">]</span>\\nApple Inc. | <span style=\"color: #008080; text-decoration-color: #008080; font-weight: bold\">2023</span> Form <span style=\"color: #808000; text-decoration-color: #808000\">...</span>\n",
              "<span style=\"color: #008080; text-decoration-color: #008080; font-weight: bold\">9</span>    Item <span style=\"color: #008080; text-decoration-color: #008080; font-weight: bold\">7</span>  Item <span style=\"color: #008080; text-decoration-color: #008080; font-weight: bold\">7</span>.    Management’s Discussion and Analysi<span style=\"color: #808000; text-decoration-color: #808000\">...</span>\n",
              "<span style=\"color: #008080; text-decoration-color: #008080; font-weight: bold\">10</span>  Item 7A  Item 7A.    Quantitative and Qualitative Discl<span style=\"color: #808000; text-decoration-color: #808000\">...</span>\n",
              "<span style=\"color: #008080; text-decoration-color: #008080; font-weight: bold\">11</span>   Item <span style=\"color: #008080; text-decoration-color: #008080; font-weight: bold\">8</span>  Item <span style=\"color: #008080; text-decoration-color: #008080; font-weight: bold\">8</span>.    Financial Statements and Supplement<span style=\"color: #808000; text-decoration-color: #808000\">...</span>\n",
              "<span style=\"color: #008080; text-decoration-color: #008080; font-weight: bold\">12</span>   Item <span style=\"color: #008080; text-decoration-color: #008080; font-weight: bold\">9</span>  Item <span style=\"color: #008080; text-decoration-color: #008080; font-weight: bold\">9</span>.    Changes in and Disagreements with A<span style=\"color: #808000; text-decoration-color: #808000\">...</span>\n",
              "<span style=\"color: #008080; text-decoration-color: #008080; font-weight: bold\">13</span>  Item 9A  Item 9A.    Controls and Procedures\\nEvaluatio<span style=\"color: #808000; text-decoration-color: #808000\">...</span>\n",
              "<span style=\"color: #008080; text-decoration-color: #008080; font-weight: bold\">14</span>  Item 9B  Item 9B.    Other Information\\nInsider Trading<span style=\"color: #808000; text-decoration-color: #808000\">...</span>\n",
              "<span style=\"color: #008080; text-decoration-color: #008080; font-weight: bold\">15</span>  Item 9C  Item 9C.    Disclosure Regarding Foreign Juris<span style=\"color: #808000; text-decoration-color: #808000\">...</span>\n",
              "<span style=\"color: #008080; text-decoration-color: #008080; font-weight: bold\">16</span>  Item <span style=\"color: #008080; text-decoration-color: #008080; font-weight: bold\">10</span>  Item <span style=\"color: #008080; text-decoration-color: #008080; font-weight: bold\">10</span>.    Directors, Executive Officers and <span style=\"color: #808000; text-decoration-color: #808000\">...</span>\n",
              "<span style=\"color: #008080; text-decoration-color: #008080; font-weight: bold\">17</span>  Item <span style=\"color: #008080; text-decoration-color: #008080; font-weight: bold\">11</span>  Item <span style=\"color: #008080; text-decoration-color: #008080; font-weight: bold\">11</span>.    Executive CompensationThe informat<span style=\"color: #808000; text-decoration-color: #808000\">...</span>\n",
              "<span style=\"color: #008080; text-decoration-color: #008080; font-weight: bold\">18</span>  Item <span style=\"color: #008080; text-decoration-color: #008080; font-weight: bold\">12</span>  Item <span style=\"color: #008080; text-decoration-color: #008080; font-weight: bold\">12</span>.    Security Ownership of Certain Bene<span style=\"color: #808000; text-decoration-color: #808000\">...</span>\n",
              "<span style=\"color: #008080; text-decoration-color: #008080; font-weight: bold\">19</span>  Item <span style=\"color: #008080; text-decoration-color: #008080; font-weight: bold\">13</span>  Item <span style=\"color: #008080; text-decoration-color: #008080; font-weight: bold\">13</span>.    Certain Relationships and Related <span style=\"color: #808000; text-decoration-color: #808000\">...</span>\n",
              "<span style=\"color: #008080; text-decoration-color: #008080; font-weight: bold\">20</span>  Item <span style=\"color: #008080; text-decoration-color: #008080; font-weight: bold\">14</span>  Item <span style=\"color: #008080; text-decoration-color: #008080; font-weight: bold\">14</span>.    Principal Accountant Fees and Serv<span style=\"color: #808000; text-decoration-color: #808000\">...</span>\n",
              "<span style=\"color: #008080; text-decoration-color: #008080; font-weight: bold\">21</span>  Item <span style=\"color: #008080; text-decoration-color: #008080; font-weight: bold\">15</span>  Item <span style=\"color: #008080; text-decoration-color: #008080; font-weight: bold\">15</span>.    Exhibit and Financial Statement Sc<span style=\"color: #808000; text-decoration-color: #808000\">...</span>\n",
              "<span style=\"color: #008080; text-decoration-color: #008080; font-weight: bold\">22</span>  Item <span style=\"color: #008080; text-decoration-color: #008080; font-weight: bold\">16</span>  Item <span style=\"color: #008080; text-decoration-color: #008080; font-weight: bold\">16</span>.    Form <span style=\"color: #008080; text-decoration-color: #008080; font-weight: bold\">10</span>-K Summary\\nNone.Apple Inc<span style=\"color: #808000; text-decoration-color: #808000\">...</span>.\n",
              "</pre>\n"
            ]
          },
          "metadata": {}
        }
      ]
    },
    {
      "cell_type": "code",
      "source": [
        "%pip -q install -q pandas nltk transformers"
      ],
      "metadata": {
        "id": "_lFF0QZP2eO8"
      },
      "execution_count": 7,
      "outputs": []
    },
    {
      "cell_type": "code",
      "source": [
        "import nltk\n",
        "import pandas as pd\n",
        "from transformers import pipeline"
      ],
      "metadata": {
        "id": "ZjlFXvaT2lIN"
      },
      "execution_count": 8,
      "outputs": []
    },
    {
      "cell_type": "code",
      "source": [
        "nltk.download('punkt')"
      ],
      "metadata": {
        "colab": {
          "base_uri": "https://localhost:8080/"
        },
        "id": "11SvImUE2q_I",
        "outputId": "b595ec34-6ffe-410c-ede5-e48bb97862a8"
      },
      "execution_count": 9,
      "outputs": [
        {
          "output_type": "stream",
          "name": "stderr",
          "text": [
            "[nltk_data] Downloading package punkt to /root/nltk_data...\n",
            "[nltk_data]   Unzipping tokenizers/punkt.zip.\n"
          ]
        },
        {
          "output_type": "execute_result",
          "data": {
            "text/plain": [
              "True"
            ]
          },
          "metadata": {},
          "execution_count": 9
        }
      ]
    },
    {
      "cell_type": "code",
      "source": [
        "summarizer = pipeline('summarization', model='t5-base')\n",
        "\n",
        "classifier_model_name = 'bhadresh-savani/distilbert-base-uncased-emotion'\n",
        "classifier_emotions = ['anger', 'disgust', 'fear', 'joy', 'sadness', 'surprise']\n",
        "\n",
        "classifier = pipeline('text-classification', model=classifier_model_name)"
      ],
      "metadata": {
        "colab": {
          "base_uri": "https://localhost:8080/",
          "height": 461,
          "referenced_widgets": [
            "edd5c34e3a40473b98b505c2585b770e",
            "4139ac096ad34ea786b286580a5b1cc8",
            "e27a254a5f5045b392a7d7f9c4fb7212",
            "bb2a67dc14f34f66950362c6a61d60a2",
            "de69c8fa48da4ece838e7c6b1cc1b738",
            "1315f7f5ca724529be02b8e5f86ad67f",
            "1fcd191ccd964efd95b9848088276149",
            "5c122f3f41e54cc1b7c0ff9f9cd2adb9",
            "c54a88dd9278468297e414ffb8f99d80",
            "d88f20965c0143b7a07cc4f6ceae1fbe",
            "aee88d205cde4b9684fe16e20b3d868a",
            "90932bf478c840f891260b0bb2e3910b",
            "92d4c658b6934f2883ffa17bd47be0ea",
            "76bbfdce5b3e4c06bb168f0429334a54",
            "61e3a8c165af4c77a2c2523e7f7ca5b0",
            "a1d948346d514ac4bd4aac90d4399d11",
            "e0e00e414fbc4e02aede47328d04d275",
            "2d3d081daa13421fb13e601bcbdada39",
            "110aa14228f7427284e5f0be7f926ff5",
            "fcc5f4f678864cd2a680023a6e662581",
            "6f21e5f0cfd94fcf8f2592ce6f1e8fb7",
            "2b731c8440a54ccfa27d0859b9651454",
            "d12ef7826ff34db1aafef397f5d4eed6",
            "4226377ab61e4151bc3bacaa7d92caf9",
            "1753131c912c4560a3a4ccd08c65e8bb",
            "4abb51dde41c464d8bfede2b57a1ec68",
            "b0c6d957609e43bdb218026f6691df3e",
            "547b71ba5fc34e94b3d473bb447dcf4f",
            "a5128731ca3f4a7b9e2640857856967e",
            "0f24d57ba8dc4d22beca944248df9bf8",
            "4d216aeb9e134e91871dc987677aed34",
            "f40ebaa358ef45a99369200079a50a4d",
            "090e7133f8f048f995f63c19c71e4fbd",
            "d6254196764048f4a5c0edd0c9ca3c60",
            "6e56d74f16124d4ebb22d7c646c70cb8",
            "2cdd56b974dc443eb54f606112e553b7",
            "1c0f0539637b4a9aa7d626071650c45e",
            "523d62239451413bb98b17bf763d92f8",
            "138786966ea647bdb12830b9055f775c",
            "4c23f1c7b93e49409bf57d5079bc8796",
            "553ca3e8665446aca1cef84803a3b748",
            "5a74eac422444d53ba2e36e4cdb8e058",
            "79f1889b71e44b4497ec543d4f471b18",
            "6ac204f30e3346249eff7be2e68cc727",
            "6d597b4edbbb4bc580d519819d162121",
            "e9f9fa2d9f7a4fadad3b9993dec35d79",
            "402334cb0c6a42fa87cda7a32542e0b2",
            "44e15f617a674872b263f8534e116ef1",
            "6756bb81d28a4e078b0526d10ff99d88",
            "b9914fde0cab4034a80c457e5d3f1cc9",
            "50bdc1b9341a4a6faa5551bcc02cbfbc",
            "5cb4dbfc39b34ef5b26043543d118e5d",
            "dd05fe798b3b43e681124f32ed5c0ee1",
            "173fcd02148f40b8b15ecbd63007dbee",
            "4b972bb770e24b5c9f52db72caa234c6",
            "0caaff1fb1a64791b33d2662360ed34e",
            "1245094168aa48af962836c766a634c1",
            "9574757e2ed44435856106f5c4d1789a",
            "3f645a0a47134c6a95fa102d3c9f5da6",
            "6bfcba0a61e544d8a05e9161951b056a",
            "cd6859be4fdd4ff6851cb398d266b15d",
            "c00890322b5f40b1965887010e48e6f7",
            "40430bc96b4c41c19b736b6622f83fb2",
            "cc44cd9106424993b2db4f2e00c43dd6",
            "4e0f5df477704a798582dc4a2a9a138a",
            "26b3bba59db54012ba25b1b72e294da4",
            "3f4ae2485b084b748f8afa4ef4d98958",
            "1a70b98b472a44ebbde172e1585121e6",
            "86833e463f004a3c92e6dd8891fcee1b",
            "012fb8284f224656adbe96b0f79fccec",
            "8bd6a83bf1654df38202aebf69ea15ad",
            "9f410ce835a647e894748adca83c94fa",
            "c921c1965bb944f6a8e296101ef14746",
            "16edbc1dfbd443c6b4de50d977ea46d2",
            "c92b999fe9ef405dac58a2b682019122",
            "9a2f33d68914406ab4af5898294501b5",
            "72502851e7c54ac6b0668df0d650ba0b",
            "0dc90bee7b384515a991f4347a7c8a3a",
            "3024245d8b0040d486970cb405b85e61",
            "aae4e246f79544d4892e2bf3556b89d4",
            "83fa4ce9e9bd4da5ade0a102b4b383c4",
            "ed4277e3b7c1488d87ce5c89f53c72fb",
            "c14eba7f93da44a4937f6d7673b4fb09",
            "7c02e46f5b464f3493b1c84349a10ceb",
            "f05f0a3f71b142a094796876e49914ce",
            "ca565d97e5424f15a15aa026a634fb7a",
            "51550e384fb942379a543037caaccb50",
            "85f314d87d2d4226a6bf0d33ad081b78",
            "95a07220cc0e4166b1d9dffb159cf58b",
            "91e8dccb84024dc6aaa22ec9b18a68bb",
            "d0b7f3a135c446c5ba53a9c0d542f2d5",
            "27af4c54db41414586a82c15a0adc679",
            "e73028a4d6da4c949291abfc10d70212",
            "2ddb0b80f1aa4f3e9319ef356d526a97",
            "a3005ec6ca4643728b5bbfc3e4023aa2",
            "7060427aed9e4218aa84551014b17516",
            "780b706f658c49478b7ccd67f82052c1",
            "fdfdd13b527d4371a85b61f10064f565",
            "c4af134c0995480bb70197af4d635db6",
            "09005816dcdc46ae971ee627d5a2d3f9",
            "91ba4e1838c94f9a85a6ad96c7428069",
            "fd06a5884d7c465187bd8e3712e306d5",
            "dee259e65c4b49bf8810de60feb3f7a7",
            "985710f3ceb340f689f532814a648f64",
            "85635a31bcc34656abdd15022c0dbb29",
            "09cc7d3bc75948f7b8b486f02f03f0df",
            "ac822c77afa24b12ad0d2bb2c3196330",
            "957f7e2f41044fa8baf6121c485ce2cb",
            "d54c8bb5f39449f489e3f4079d7ab51f",
            "35e4fbbb8d974dae9287b3ff02297a03"
          ]
        },
        "id": "ze_9Pw4p2tOe",
        "outputId": "655b74e6-8aff-4d76-c3c4-830267fdefe4"
      },
      "execution_count": 10,
      "outputs": [
        {
          "output_type": "stream",
          "name": "stderr",
          "text": [
            "/usr/local/lib/python3.10/dist-packages/huggingface_hub/utils/_token.py:88: UserWarning: \n",
            "The secret `HF_TOKEN` does not exist in your Colab secrets.\n",
            "To authenticate with the Hugging Face Hub, create a token in your settings tab (https://huggingface.co/settings/tokens), set it as secret in your Google Colab and restart your session.\n",
            "You will be able to reuse this secret in all of your notebooks.\n",
            "Please note that authentication is recommended but still optional to access public models or datasets.\n",
            "  warnings.warn(\n"
          ]
        },
        {
          "output_type": "display_data",
          "data": {
            "text/plain": [
              "config.json:   0%|          | 0.00/1.21k [00:00<?, ?B/s]"
            ],
            "application/vnd.jupyter.widget-view+json": {
              "version_major": 2,
              "version_minor": 0,
              "model_id": "edd5c34e3a40473b98b505c2585b770e"
            }
          },
          "metadata": {}
        },
        {
          "output_type": "display_data",
          "data": {
            "text/plain": [
              "model.safetensors:   0%|          | 0.00/892M [00:00<?, ?B/s]"
            ],
            "application/vnd.jupyter.widget-view+json": {
              "version_major": 2,
              "version_minor": 0,
              "model_id": "90932bf478c840f891260b0bb2e3910b"
            }
          },
          "metadata": {}
        },
        {
          "output_type": "display_data",
          "data": {
            "text/plain": [
              "generation_config.json:   0%|          | 0.00/147 [00:00<?, ?B/s]"
            ],
            "application/vnd.jupyter.widget-view+json": {
              "version_major": 2,
              "version_minor": 0,
              "model_id": "d12ef7826ff34db1aafef397f5d4eed6"
            }
          },
          "metadata": {}
        },
        {
          "output_type": "display_data",
          "data": {
            "text/plain": [
              "spiece.model:   0%|          | 0.00/792k [00:00<?, ?B/s]"
            ],
            "application/vnd.jupyter.widget-view+json": {
              "version_major": 2,
              "version_minor": 0,
              "model_id": "d6254196764048f4a5c0edd0c9ca3c60"
            }
          },
          "metadata": {}
        },
        {
          "output_type": "display_data",
          "data": {
            "text/plain": [
              "tokenizer.json:   0%|          | 0.00/1.39M [00:00<?, ?B/s]"
            ],
            "application/vnd.jupyter.widget-view+json": {
              "version_major": 2,
              "version_minor": 0,
              "model_id": "6d597b4edbbb4bc580d519819d162121"
            }
          },
          "metadata": {}
        },
        {
          "output_type": "display_data",
          "data": {
            "text/plain": [
              "config.json:   0%|          | 0.00/768 [00:00<?, ?B/s]"
            ],
            "application/vnd.jupyter.widget-view+json": {
              "version_major": 2,
              "version_minor": 0,
              "model_id": "0caaff1fb1a64791b33d2662360ed34e"
            }
          },
          "metadata": {}
        },
        {
          "output_type": "display_data",
          "data": {
            "text/plain": [
              "pytorch_model.bin:   0%|          | 0.00/268M [00:00<?, ?B/s]"
            ],
            "application/vnd.jupyter.widget-view+json": {
              "version_major": 2,
              "version_minor": 0,
              "model_id": "3f4ae2485b084b748f8afa4ef4d98958"
            }
          },
          "metadata": {}
        },
        {
          "output_type": "display_data",
          "data": {
            "text/plain": [
              "tokenizer_config.json:   0%|          | 0.00/291 [00:00<?, ?B/s]"
            ],
            "application/vnd.jupyter.widget-view+json": {
              "version_major": 2,
              "version_minor": 0,
              "model_id": "0dc90bee7b384515a991f4347a7c8a3a"
            }
          },
          "metadata": {}
        },
        {
          "output_type": "display_data",
          "data": {
            "text/plain": [
              "vocab.txt:   0%|          | 0.00/232k [00:00<?, ?B/s]"
            ],
            "application/vnd.jupyter.widget-view+json": {
              "version_major": 2,
              "version_minor": 0,
              "model_id": "95a07220cc0e4166b1d9dffb159cf58b"
            }
          },
          "metadata": {}
        },
        {
          "output_type": "display_data",
          "data": {
            "text/plain": [
              "special_tokens_map.json:   0%|          | 0.00/112 [00:00<?, ?B/s]"
            ],
            "application/vnd.jupyter.widget-view+json": {
              "version_major": 2,
              "version_minor": 0,
              "model_id": "09005816dcdc46ae971ee627d5a2d3f9"
            }
          },
          "metadata": {}
        }
      ]
    },
    {
      "cell_type": "code",
      "source": [
        "def find_emotional_sentences(text, emotions, threshold):\n",
        "    sentences_by_emotion = {}\n",
        "    for e in emotions:\n",
        "        sentences_by_emotion[e]=[]\n",
        "    sentences = nltk.sent_tokenize(text)\n",
        "    print(f'Document has {len(text)} characters and {len(sentences)} sentences.')\n",
        "    for s in sentences:\n",
        "        prediction = classifier(s)\n",
        "        if (prediction[0]['label']!='neutral' and prediction[0]['score']>threshold):\n",
        "            #print (f'Sentence #{sentences.index(s)}: {prediction} {s}')\n",
        "            sentences_by_emotion[prediction[0]['label']].append(s)\n",
        "    for e in emotions:\n",
        "        print(f'{e}: {len(sentences_by_emotion[e])} sentences')\n",
        "    return sentences_by_emotion"
      ],
      "metadata": {
        "id": "GKUIL4Cp4H9N"
      },
      "execution_count": 11,
      "outputs": []
    },
    {
      "cell_type": "code",
      "source": [
        "def summarize_sentences(sentences_by_emotion, min_length, max_length):\n",
        "    all_summaries = []\n",
        "    for k in sentences_by_emotion.keys():\n",
        "        if len(sentences_by_emotion[k]) != 0:\n",
        "            text = ' '.join(sentences_by_emotion[k])\n",
        "            summary = summarizer(text, min_length=min_length, max_length=max_length)\n",
        "            all_summaries.append(summary[0]['summary_text'])  # Append the summary to the list\n",
        "    return all_summaries"
      ],
      "metadata": {
        "id": "0Q1PEWcW4grG"
      },
      "execution_count": 16,
      "outputs": []
    },
    {
      "cell_type": "code",
      "source": [
        "#1 Row Example\n",
        "text = filtered_df.iloc[0]['Content']\n",
        "\n",
        "sentences_by_emotion = find_emotional_sentences(text, classifier_emotions, 0.7)\n",
        "summarize_sentences(sentences_by_emotion, min_length=20, max_length=50)"
      ],
      "metadata": {
        "colab": {
          "base_uri": "https://localhost:8080/"
        },
        "id": "hejftcnw7Y7E",
        "outputId": "b085e319-d90c-4f15-8df4-a7f0505714a7"
      },
      "execution_count": 13,
      "outputs": [
        {
          "output_type": "stream",
          "name": "stdout",
          "text": [
            "Document has 15090 characters and 79 sentences.\n",
            "anger: 4 sentences\n",
            "disgust: 0 sentences\n",
            "fear: 0 sentences\n",
            "joy: 65 sentences\n",
            "sadness: 2 sentences\n",
            "surprise: 0 sentences\n",
            "ANGER: competition has been particularly intense as competitors have aggressively cut prices and lowered product margins . many of the Company’s competitors seek to compete primarily through aggressive pricing and very low cost structures .\n",
            "\n",
            "JOY: the company designs, manufactures and markets smartphones, personal computers, tablets, wearables and accessories, and sells a variety of related services . the company’s fiscal year is the 52- or 53-week period that ends\n",
            "\n",
            "SADNESS: many components used by the Company, including those that are available from multiple sources, are at times subject to industry-wide shortage and significant commodity pricing fluctuations . further, the Company’s references to website URLs are intended to be inactive\n",
            "\n"
          ]
        }
      ]
    },
    {
      "cell_type": "code",
      "source": [
        "# Initialize dictionaries to store aggregated emotional sentences and their summaries\n",
        "all_sentences_by_emotion = {emotion: [] for emotion in classifier_emotions}\n",
        "all_summaries = []\n",
        "\n",
        "# Iterate over each row in the filtered DataFrame\n",
        "for index, row in filtered_df.iterrows():\n",
        "    # Get the content from the current row\n",
        "    text = row['Content']\n",
        "\n",
        "    # Find emotional sentences in the text\n",
        "    sentences_by_emotion = find_emotional_sentences(text, classifier_emotions, 0.7)\n",
        "\n",
        "    # Summarize emotional sentences\n",
        "    summaries = summarize_sentences(sentences_by_emotion, min_length=20, max_length=50)\n",
        "\n",
        "    # Aggregate emotional sentences and summaries\n",
        "    for emotion, sentences in sentences_by_emotion.items():\n",
        "        all_sentences_by_emotion[emotion].extend(sentences)\n",
        "\n",
        "    # Aggregate summaries\n",
        "    all_summaries.extend(summaries)\n",
        "\n",
        "# Generate final insight based on aggregated data\n",
        "final_insight = {\n",
        "    \"emotional_sentences\": all_sentences_by_emotion,\n",
        "    \"summaries\": all_summaries\n",
        "}\n",
        "\n",
        "# Print or return the final insight\n",
        "print(final_insight)"
      ],
      "metadata": {
        "colab": {
          "base_uri": "https://localhost:8080/",
          "height": 1000
        },
        "id": "38vUs7iOFHl9",
        "outputId": "4d2d19b3-b64f-417d-caf0-c1dcc214c14d"
      },
      "execution_count": 17,
      "outputs": [
        {
          "output_type": "stream",
          "name": "stdout",
          "text": [
            "Document has 15090 characters and 79 sentences.\n",
            "anger: 4 sentences\n",
            "disgust: 0 sentences\n",
            "fear: 0 sentences\n",
            "joy: 65 sentences\n",
            "sadness: 2 sentences\n",
            "surprise: 0 sentences\n",
            "Document has 67874 characters and 292 sentences.\n",
            "anger: 19 sentences\n",
            "disgust: 0 sentences\n",
            "fear: 23 sentences\n",
            "joy: 103 sentences\n",
            "sadness: 19 sentences\n",
            "surprise: 0 sentences\n",
            "Document has 16187 characters and 63 sentences.\n",
            "anger: 0 sentences\n",
            "disgust: 0 sentences\n",
            "fear: 4 sentences\n",
            "joy: 34 sentences\n",
            "sadness: 5 sentences\n",
            "surprise: 0 sentences\n",
            "Document has 14638 characters and 72 sentences.\n",
            "anger: 4 sentences\n",
            "disgust: 0 sentences\n",
            "fear: 1 sentences\n",
            "joy: 58 sentences\n",
            "sadness: 2 sentences\n",
            "surprise: 0 sentences\n"
          ]
        },
        {
          "output_type": "stream",
          "name": "stderr",
          "text": [
            "Your max_length is set to 50, but your input_length is only 23. Since this is a summarization task, where outputs shorter than the input are typically wanted, you might consider decreasing max_length manually, e.g. summarizer('...', max_length=11)\n"
          ]
        },
        {
          "output_type": "stream",
          "name": "stdout",
          "text": [
            "Document has 70786 characters and 318 sentences.\n",
            "anger: 20 sentences\n",
            "disgust: 0 sentences\n",
            "fear: 24 sentences\n",
            "joy: 109 sentences\n",
            "sadness: 20 sentences\n",
            "surprise: 0 sentences\n",
            "Document has 18341 characters and 67 sentences.\n"
          ]
        },
        {
          "output_type": "stream",
          "name": "stderr",
          "text": [
            "Token indices sequence length is longer than the specified maximum sequence length for this model (693 > 512). Running this sequence through the model will result in indexing errors\n"
          ]
        },
        {
          "output_type": "error",
          "ename": "RuntimeError",
          "evalue": "The size of tensor a (693) must match the size of tensor b (512) at non-singleton dimension 1",
          "traceback": [
            "\u001b[0;31m---------------------------------------------------------------------------\u001b[0m",
            "\u001b[0;31mRuntimeError\u001b[0m                              Traceback (most recent call last)",
            "\u001b[0;32m<ipython-input-17-9c8cda7139da>\u001b[0m in \u001b[0;36m<cell line: 6>\u001b[0;34m()\u001b[0m\n\u001b[1;32m      9\u001b[0m \u001b[0;34m\u001b[0m\u001b[0m\n\u001b[1;32m     10\u001b[0m     \u001b[0;31m# Find emotional sentences in the text\u001b[0m\u001b[0;34m\u001b[0m\u001b[0;34m\u001b[0m\u001b[0m\n\u001b[0;32m---> 11\u001b[0;31m     \u001b[0msentences_by_emotion\u001b[0m \u001b[0;34m=\u001b[0m \u001b[0mfind_emotional_sentences\u001b[0m\u001b[0;34m(\u001b[0m\u001b[0mtext\u001b[0m\u001b[0;34m,\u001b[0m \u001b[0mclassifier_emotions\u001b[0m\u001b[0;34m,\u001b[0m \u001b[0;36m0.7\u001b[0m\u001b[0;34m)\u001b[0m\u001b[0;34m\u001b[0m\u001b[0;34m\u001b[0m\u001b[0m\n\u001b[0m\u001b[1;32m     12\u001b[0m \u001b[0;34m\u001b[0m\u001b[0m\n\u001b[1;32m     13\u001b[0m     \u001b[0;31m# Summarize emotional sentences\u001b[0m\u001b[0;34m\u001b[0m\u001b[0;34m\u001b[0m\u001b[0m\n",
            "\u001b[0;32m<ipython-input-11-e8b481acb4e5>\u001b[0m in \u001b[0;36mfind_emotional_sentences\u001b[0;34m(text, emotions, threshold)\u001b[0m\n\u001b[1;32m      6\u001b[0m     \u001b[0mprint\u001b[0m\u001b[0;34m(\u001b[0m\u001b[0;34mf'Document has {len(text)} characters and {len(sentences)} sentences.'\u001b[0m\u001b[0;34m)\u001b[0m\u001b[0;34m\u001b[0m\u001b[0;34m\u001b[0m\u001b[0m\n\u001b[1;32m      7\u001b[0m     \u001b[0;32mfor\u001b[0m \u001b[0ms\u001b[0m \u001b[0;32min\u001b[0m \u001b[0msentences\u001b[0m\u001b[0;34m:\u001b[0m\u001b[0;34m\u001b[0m\u001b[0;34m\u001b[0m\u001b[0m\n\u001b[0;32m----> 8\u001b[0;31m         \u001b[0mprediction\u001b[0m \u001b[0;34m=\u001b[0m \u001b[0mclassifier\u001b[0m\u001b[0;34m(\u001b[0m\u001b[0ms\u001b[0m\u001b[0;34m)\u001b[0m\u001b[0;34m\u001b[0m\u001b[0;34m\u001b[0m\u001b[0m\n\u001b[0m\u001b[1;32m      9\u001b[0m         \u001b[0;32mif\u001b[0m \u001b[0;34m(\u001b[0m\u001b[0mprediction\u001b[0m\u001b[0;34m[\u001b[0m\u001b[0;36m0\u001b[0m\u001b[0;34m]\u001b[0m\u001b[0;34m[\u001b[0m\u001b[0;34m'label'\u001b[0m\u001b[0;34m]\u001b[0m\u001b[0;34m!=\u001b[0m\u001b[0;34m'neutral'\u001b[0m \u001b[0;32mand\u001b[0m \u001b[0mprediction\u001b[0m\u001b[0;34m[\u001b[0m\u001b[0;36m0\u001b[0m\u001b[0;34m]\u001b[0m\u001b[0;34m[\u001b[0m\u001b[0;34m'score'\u001b[0m\u001b[0;34m]\u001b[0m\u001b[0;34m>\u001b[0m\u001b[0mthreshold\u001b[0m\u001b[0;34m)\u001b[0m\u001b[0;34m:\u001b[0m\u001b[0;34m\u001b[0m\u001b[0;34m\u001b[0m\u001b[0m\n\u001b[1;32m     10\u001b[0m             \u001b[0;31m#print (f'Sentence #{sentences.index(s)}: {prediction} {s}')\u001b[0m\u001b[0;34m\u001b[0m\u001b[0;34m\u001b[0m\u001b[0m\n",
            "\u001b[0;32m/usr/local/lib/python3.10/dist-packages/transformers/pipelines/text_classification.py\u001b[0m in \u001b[0;36m__call__\u001b[0;34m(self, inputs, **kwargs)\u001b[0m\n\u001b[1;32m    154\u001b[0m         \"\"\"\n\u001b[1;32m    155\u001b[0m         \u001b[0minputs\u001b[0m \u001b[0;34m=\u001b[0m \u001b[0;34m(\u001b[0m\u001b[0minputs\u001b[0m\u001b[0;34m,\u001b[0m\u001b[0;34m)\u001b[0m\u001b[0;34m\u001b[0m\u001b[0;34m\u001b[0m\u001b[0m\n\u001b[0;32m--> 156\u001b[0;31m         \u001b[0mresult\u001b[0m \u001b[0;34m=\u001b[0m \u001b[0msuper\u001b[0m\u001b[0;34m(\u001b[0m\u001b[0;34m)\u001b[0m\u001b[0;34m.\u001b[0m\u001b[0m__call__\u001b[0m\u001b[0;34m(\u001b[0m\u001b[0;34m*\u001b[0m\u001b[0minputs\u001b[0m\u001b[0;34m,\u001b[0m \u001b[0;34m**\u001b[0m\u001b[0mkwargs\u001b[0m\u001b[0;34m)\u001b[0m\u001b[0;34m\u001b[0m\u001b[0;34m\u001b[0m\u001b[0m\n\u001b[0m\u001b[1;32m    157\u001b[0m         \u001b[0;31m# TODO try and retrieve it in a nicer way from _sanitize_parameters.\u001b[0m\u001b[0;34m\u001b[0m\u001b[0;34m\u001b[0m\u001b[0m\n\u001b[1;32m    158\u001b[0m         \u001b[0m_legacy\u001b[0m \u001b[0;34m=\u001b[0m \u001b[0;34m\"top_k\"\u001b[0m \u001b[0;32mnot\u001b[0m \u001b[0;32min\u001b[0m \u001b[0mkwargs\u001b[0m\u001b[0;34m\u001b[0m\u001b[0;34m\u001b[0m\u001b[0m\n",
            "\u001b[0;32m/usr/local/lib/python3.10/dist-packages/transformers/pipelines/base.py\u001b[0m in \u001b[0;36m__call__\u001b[0;34m(self, inputs, num_workers, batch_size, *args, **kwargs)\u001b[0m\n\u001b[1;32m   1240\u001b[0m             )\n\u001b[1;32m   1241\u001b[0m         \u001b[0;32melse\u001b[0m\u001b[0;34m:\u001b[0m\u001b[0;34m\u001b[0m\u001b[0;34m\u001b[0m\u001b[0m\n\u001b[0;32m-> 1242\u001b[0;31m             \u001b[0;32mreturn\u001b[0m \u001b[0mself\u001b[0m\u001b[0;34m.\u001b[0m\u001b[0mrun_single\u001b[0m\u001b[0;34m(\u001b[0m\u001b[0minputs\u001b[0m\u001b[0;34m,\u001b[0m \u001b[0mpreprocess_params\u001b[0m\u001b[0;34m,\u001b[0m \u001b[0mforward_params\u001b[0m\u001b[0;34m,\u001b[0m \u001b[0mpostprocess_params\u001b[0m\u001b[0;34m)\u001b[0m\u001b[0;34m\u001b[0m\u001b[0;34m\u001b[0m\u001b[0m\n\u001b[0m\u001b[1;32m   1243\u001b[0m \u001b[0;34m\u001b[0m\u001b[0m\n\u001b[1;32m   1244\u001b[0m     \u001b[0;32mdef\u001b[0m \u001b[0mrun_multi\u001b[0m\u001b[0;34m(\u001b[0m\u001b[0mself\u001b[0m\u001b[0;34m,\u001b[0m \u001b[0minputs\u001b[0m\u001b[0;34m,\u001b[0m \u001b[0mpreprocess_params\u001b[0m\u001b[0;34m,\u001b[0m \u001b[0mforward_params\u001b[0m\u001b[0;34m,\u001b[0m \u001b[0mpostprocess_params\u001b[0m\u001b[0;34m)\u001b[0m\u001b[0;34m:\u001b[0m\u001b[0;34m\u001b[0m\u001b[0;34m\u001b[0m\u001b[0m\n",
            "\u001b[0;32m/usr/local/lib/python3.10/dist-packages/transformers/pipelines/base.py\u001b[0m in \u001b[0;36mrun_single\u001b[0;34m(self, inputs, preprocess_params, forward_params, postprocess_params)\u001b[0m\n\u001b[1;32m   1247\u001b[0m     \u001b[0;32mdef\u001b[0m \u001b[0mrun_single\u001b[0m\u001b[0;34m(\u001b[0m\u001b[0mself\u001b[0m\u001b[0;34m,\u001b[0m \u001b[0minputs\u001b[0m\u001b[0;34m,\u001b[0m \u001b[0mpreprocess_params\u001b[0m\u001b[0;34m,\u001b[0m \u001b[0mforward_params\u001b[0m\u001b[0;34m,\u001b[0m \u001b[0mpostprocess_params\u001b[0m\u001b[0;34m)\u001b[0m\u001b[0;34m:\u001b[0m\u001b[0;34m\u001b[0m\u001b[0;34m\u001b[0m\u001b[0m\n\u001b[1;32m   1248\u001b[0m         \u001b[0mmodel_inputs\u001b[0m \u001b[0;34m=\u001b[0m \u001b[0mself\u001b[0m\u001b[0;34m.\u001b[0m\u001b[0mpreprocess\u001b[0m\u001b[0;34m(\u001b[0m\u001b[0minputs\u001b[0m\u001b[0;34m,\u001b[0m \u001b[0;34m**\u001b[0m\u001b[0mpreprocess_params\u001b[0m\u001b[0;34m)\u001b[0m\u001b[0;34m\u001b[0m\u001b[0;34m\u001b[0m\u001b[0m\n\u001b[0;32m-> 1249\u001b[0;31m         \u001b[0mmodel_outputs\u001b[0m \u001b[0;34m=\u001b[0m \u001b[0mself\u001b[0m\u001b[0;34m.\u001b[0m\u001b[0mforward\u001b[0m\u001b[0;34m(\u001b[0m\u001b[0mmodel_inputs\u001b[0m\u001b[0;34m,\u001b[0m \u001b[0;34m**\u001b[0m\u001b[0mforward_params\u001b[0m\u001b[0;34m)\u001b[0m\u001b[0;34m\u001b[0m\u001b[0;34m\u001b[0m\u001b[0m\n\u001b[0m\u001b[1;32m   1250\u001b[0m         \u001b[0moutputs\u001b[0m \u001b[0;34m=\u001b[0m \u001b[0mself\u001b[0m\u001b[0;34m.\u001b[0m\u001b[0mpostprocess\u001b[0m\u001b[0;34m(\u001b[0m\u001b[0mmodel_outputs\u001b[0m\u001b[0;34m,\u001b[0m \u001b[0;34m**\u001b[0m\u001b[0mpostprocess_params\u001b[0m\u001b[0;34m)\u001b[0m\u001b[0;34m\u001b[0m\u001b[0;34m\u001b[0m\u001b[0m\n\u001b[1;32m   1251\u001b[0m         \u001b[0;32mreturn\u001b[0m \u001b[0moutputs\u001b[0m\u001b[0;34m\u001b[0m\u001b[0;34m\u001b[0m\u001b[0m\n",
            "\u001b[0;32m/usr/local/lib/python3.10/dist-packages/transformers/pipelines/base.py\u001b[0m in \u001b[0;36mforward\u001b[0;34m(self, model_inputs, **forward_params)\u001b[0m\n\u001b[1;32m   1147\u001b[0m                 \u001b[0;32mwith\u001b[0m \u001b[0minference_context\u001b[0m\u001b[0;34m(\u001b[0m\u001b[0;34m)\u001b[0m\u001b[0;34m:\u001b[0m\u001b[0;34m\u001b[0m\u001b[0;34m\u001b[0m\u001b[0m\n\u001b[1;32m   1148\u001b[0m                     \u001b[0mmodel_inputs\u001b[0m \u001b[0;34m=\u001b[0m \u001b[0mself\u001b[0m\u001b[0;34m.\u001b[0m\u001b[0m_ensure_tensor_on_device\u001b[0m\u001b[0;34m(\u001b[0m\u001b[0mmodel_inputs\u001b[0m\u001b[0;34m,\u001b[0m \u001b[0mdevice\u001b[0m\u001b[0;34m=\u001b[0m\u001b[0mself\u001b[0m\u001b[0;34m.\u001b[0m\u001b[0mdevice\u001b[0m\u001b[0;34m)\u001b[0m\u001b[0;34m\u001b[0m\u001b[0;34m\u001b[0m\u001b[0m\n\u001b[0;32m-> 1149\u001b[0;31m                     \u001b[0mmodel_outputs\u001b[0m \u001b[0;34m=\u001b[0m \u001b[0mself\u001b[0m\u001b[0;34m.\u001b[0m\u001b[0m_forward\u001b[0m\u001b[0;34m(\u001b[0m\u001b[0mmodel_inputs\u001b[0m\u001b[0;34m,\u001b[0m \u001b[0;34m**\u001b[0m\u001b[0mforward_params\u001b[0m\u001b[0;34m)\u001b[0m\u001b[0;34m\u001b[0m\u001b[0;34m\u001b[0m\u001b[0m\n\u001b[0m\u001b[1;32m   1150\u001b[0m                     \u001b[0mmodel_outputs\u001b[0m \u001b[0;34m=\u001b[0m \u001b[0mself\u001b[0m\u001b[0;34m.\u001b[0m\u001b[0m_ensure_tensor_on_device\u001b[0m\u001b[0;34m(\u001b[0m\u001b[0mmodel_outputs\u001b[0m\u001b[0;34m,\u001b[0m \u001b[0mdevice\u001b[0m\u001b[0;34m=\u001b[0m\u001b[0mtorch\u001b[0m\u001b[0;34m.\u001b[0m\u001b[0mdevice\u001b[0m\u001b[0;34m(\u001b[0m\u001b[0;34m\"cpu\"\u001b[0m\u001b[0;34m)\u001b[0m\u001b[0;34m)\u001b[0m\u001b[0;34m\u001b[0m\u001b[0;34m\u001b[0m\u001b[0m\n\u001b[1;32m   1151\u001b[0m             \u001b[0;32melse\u001b[0m\u001b[0;34m:\u001b[0m\u001b[0;34m\u001b[0m\u001b[0;34m\u001b[0m\u001b[0m\n",
            "\u001b[0;32m/usr/local/lib/python3.10/dist-packages/transformers/pipelines/text_classification.py\u001b[0m in \u001b[0;36m_forward\u001b[0;34m(self, model_inputs)\u001b[0m\n\u001b[1;32m    185\u001b[0m         \u001b[0;32mif\u001b[0m \u001b[0;34m\"use_cache\"\u001b[0m \u001b[0;32min\u001b[0m \u001b[0minspect\u001b[0m\u001b[0;34m.\u001b[0m\u001b[0msignature\u001b[0m\u001b[0;34m(\u001b[0m\u001b[0mmodel_forward\u001b[0m\u001b[0;34m)\u001b[0m\u001b[0;34m.\u001b[0m\u001b[0mparameters\u001b[0m\u001b[0;34m.\u001b[0m\u001b[0mkeys\u001b[0m\u001b[0;34m(\u001b[0m\u001b[0;34m)\u001b[0m\u001b[0;34m:\u001b[0m\u001b[0;34m\u001b[0m\u001b[0;34m\u001b[0m\u001b[0m\n\u001b[1;32m    186\u001b[0m             \u001b[0mmodel_inputs\u001b[0m\u001b[0;34m[\u001b[0m\u001b[0;34m\"use_cache\"\u001b[0m\u001b[0;34m]\u001b[0m \u001b[0;34m=\u001b[0m \u001b[0;32mFalse\u001b[0m\u001b[0;34m\u001b[0m\u001b[0;34m\u001b[0m\u001b[0m\n\u001b[0;32m--> 187\u001b[0;31m         \u001b[0;32mreturn\u001b[0m \u001b[0mself\u001b[0m\u001b[0;34m.\u001b[0m\u001b[0mmodel\u001b[0m\u001b[0;34m(\u001b[0m\u001b[0;34m**\u001b[0m\u001b[0mmodel_inputs\u001b[0m\u001b[0;34m)\u001b[0m\u001b[0;34m\u001b[0m\u001b[0;34m\u001b[0m\u001b[0m\n\u001b[0m\u001b[1;32m    188\u001b[0m \u001b[0;34m\u001b[0m\u001b[0m\n\u001b[1;32m    189\u001b[0m     \u001b[0;32mdef\u001b[0m \u001b[0mpostprocess\u001b[0m\u001b[0;34m(\u001b[0m\u001b[0mself\u001b[0m\u001b[0;34m,\u001b[0m \u001b[0mmodel_outputs\u001b[0m\u001b[0;34m,\u001b[0m \u001b[0mfunction_to_apply\u001b[0m\u001b[0;34m=\u001b[0m\u001b[0;32mNone\u001b[0m\u001b[0;34m,\u001b[0m \u001b[0mtop_k\u001b[0m\u001b[0;34m=\u001b[0m\u001b[0;36m1\u001b[0m\u001b[0;34m,\u001b[0m \u001b[0m_legacy\u001b[0m\u001b[0;34m=\u001b[0m\u001b[0;32mTrue\u001b[0m\u001b[0;34m)\u001b[0m\u001b[0;34m:\u001b[0m\u001b[0;34m\u001b[0m\u001b[0;34m\u001b[0m\u001b[0m\n",
            "\u001b[0;32m/usr/local/lib/python3.10/dist-packages/torch/nn/modules/module.py\u001b[0m in \u001b[0;36m_wrapped_call_impl\u001b[0;34m(self, *args, **kwargs)\u001b[0m\n\u001b[1;32m   1509\u001b[0m             \u001b[0;32mreturn\u001b[0m \u001b[0mself\u001b[0m\u001b[0;34m.\u001b[0m\u001b[0m_compiled_call_impl\u001b[0m\u001b[0;34m(\u001b[0m\u001b[0;34m*\u001b[0m\u001b[0margs\u001b[0m\u001b[0;34m,\u001b[0m \u001b[0;34m**\u001b[0m\u001b[0mkwargs\u001b[0m\u001b[0;34m)\u001b[0m  \u001b[0;31m# type: ignore[misc]\u001b[0m\u001b[0;34m\u001b[0m\u001b[0;34m\u001b[0m\u001b[0m\n\u001b[1;32m   1510\u001b[0m         \u001b[0;32melse\u001b[0m\u001b[0;34m:\u001b[0m\u001b[0;34m\u001b[0m\u001b[0;34m\u001b[0m\u001b[0m\n\u001b[0;32m-> 1511\u001b[0;31m             \u001b[0;32mreturn\u001b[0m \u001b[0mself\u001b[0m\u001b[0;34m.\u001b[0m\u001b[0m_call_impl\u001b[0m\u001b[0;34m(\u001b[0m\u001b[0;34m*\u001b[0m\u001b[0margs\u001b[0m\u001b[0;34m,\u001b[0m \u001b[0;34m**\u001b[0m\u001b[0mkwargs\u001b[0m\u001b[0;34m)\u001b[0m\u001b[0;34m\u001b[0m\u001b[0;34m\u001b[0m\u001b[0m\n\u001b[0m\u001b[1;32m   1512\u001b[0m \u001b[0;34m\u001b[0m\u001b[0m\n\u001b[1;32m   1513\u001b[0m     \u001b[0;32mdef\u001b[0m \u001b[0m_call_impl\u001b[0m\u001b[0;34m(\u001b[0m\u001b[0mself\u001b[0m\u001b[0;34m,\u001b[0m \u001b[0;34m*\u001b[0m\u001b[0margs\u001b[0m\u001b[0;34m,\u001b[0m \u001b[0;34m**\u001b[0m\u001b[0mkwargs\u001b[0m\u001b[0;34m)\u001b[0m\u001b[0;34m:\u001b[0m\u001b[0;34m\u001b[0m\u001b[0;34m\u001b[0m\u001b[0m\n",
            "\u001b[0;32m/usr/local/lib/python3.10/dist-packages/torch/nn/modules/module.py\u001b[0m in \u001b[0;36m_call_impl\u001b[0;34m(self, *args, **kwargs)\u001b[0m\n\u001b[1;32m   1518\u001b[0m                 \u001b[0;32mor\u001b[0m \u001b[0m_global_backward_pre_hooks\u001b[0m \u001b[0;32mor\u001b[0m \u001b[0m_global_backward_hooks\u001b[0m\u001b[0;34m\u001b[0m\u001b[0;34m\u001b[0m\u001b[0m\n\u001b[1;32m   1519\u001b[0m                 or _global_forward_hooks or _global_forward_pre_hooks):\n\u001b[0;32m-> 1520\u001b[0;31m             \u001b[0;32mreturn\u001b[0m \u001b[0mforward_call\u001b[0m\u001b[0;34m(\u001b[0m\u001b[0;34m*\u001b[0m\u001b[0margs\u001b[0m\u001b[0;34m,\u001b[0m \u001b[0;34m**\u001b[0m\u001b[0mkwargs\u001b[0m\u001b[0;34m)\u001b[0m\u001b[0;34m\u001b[0m\u001b[0;34m\u001b[0m\u001b[0m\n\u001b[0m\u001b[1;32m   1521\u001b[0m \u001b[0;34m\u001b[0m\u001b[0m\n\u001b[1;32m   1522\u001b[0m         \u001b[0;32mtry\u001b[0m\u001b[0;34m:\u001b[0m\u001b[0;34m\u001b[0m\u001b[0;34m\u001b[0m\u001b[0m\n",
            "\u001b[0;32m/usr/local/lib/python3.10/dist-packages/transformers/models/distilbert/modeling_distilbert.py\u001b[0m in \u001b[0;36mforward\u001b[0;34m(self, input_ids, attention_mask, head_mask, inputs_embeds, labels, output_attentions, output_hidden_states, return_dict)\u001b[0m\n\u001b[1;32m    992\u001b[0m         \u001b[0mreturn_dict\u001b[0m \u001b[0;34m=\u001b[0m \u001b[0mreturn_dict\u001b[0m \u001b[0;32mif\u001b[0m \u001b[0mreturn_dict\u001b[0m \u001b[0;32mis\u001b[0m \u001b[0;32mnot\u001b[0m \u001b[0;32mNone\u001b[0m \u001b[0;32melse\u001b[0m \u001b[0mself\u001b[0m\u001b[0;34m.\u001b[0m\u001b[0mconfig\u001b[0m\u001b[0;34m.\u001b[0m\u001b[0muse_return_dict\u001b[0m\u001b[0;34m\u001b[0m\u001b[0;34m\u001b[0m\u001b[0m\n\u001b[1;32m    993\u001b[0m \u001b[0;34m\u001b[0m\u001b[0m\n\u001b[0;32m--> 994\u001b[0;31m         distilbert_output = self.distilbert(\n\u001b[0m\u001b[1;32m    995\u001b[0m             \u001b[0minput_ids\u001b[0m\u001b[0;34m=\u001b[0m\u001b[0minput_ids\u001b[0m\u001b[0;34m,\u001b[0m\u001b[0;34m\u001b[0m\u001b[0;34m\u001b[0m\u001b[0m\n\u001b[1;32m    996\u001b[0m             \u001b[0mattention_mask\u001b[0m\u001b[0;34m=\u001b[0m\u001b[0mattention_mask\u001b[0m\u001b[0;34m,\u001b[0m\u001b[0;34m\u001b[0m\u001b[0;34m\u001b[0m\u001b[0m\n",
            "\u001b[0;32m/usr/local/lib/python3.10/dist-packages/torch/nn/modules/module.py\u001b[0m in \u001b[0;36m_wrapped_call_impl\u001b[0;34m(self, *args, **kwargs)\u001b[0m\n\u001b[1;32m   1509\u001b[0m             \u001b[0;32mreturn\u001b[0m \u001b[0mself\u001b[0m\u001b[0;34m.\u001b[0m\u001b[0m_compiled_call_impl\u001b[0m\u001b[0;34m(\u001b[0m\u001b[0;34m*\u001b[0m\u001b[0margs\u001b[0m\u001b[0;34m,\u001b[0m \u001b[0;34m**\u001b[0m\u001b[0mkwargs\u001b[0m\u001b[0;34m)\u001b[0m  \u001b[0;31m# type: ignore[misc]\u001b[0m\u001b[0;34m\u001b[0m\u001b[0;34m\u001b[0m\u001b[0m\n\u001b[1;32m   1510\u001b[0m         \u001b[0;32melse\u001b[0m\u001b[0;34m:\u001b[0m\u001b[0;34m\u001b[0m\u001b[0;34m\u001b[0m\u001b[0m\n\u001b[0;32m-> 1511\u001b[0;31m             \u001b[0;32mreturn\u001b[0m \u001b[0mself\u001b[0m\u001b[0;34m.\u001b[0m\u001b[0m_call_impl\u001b[0m\u001b[0;34m(\u001b[0m\u001b[0;34m*\u001b[0m\u001b[0margs\u001b[0m\u001b[0;34m,\u001b[0m \u001b[0;34m**\u001b[0m\u001b[0mkwargs\u001b[0m\u001b[0;34m)\u001b[0m\u001b[0;34m\u001b[0m\u001b[0;34m\u001b[0m\u001b[0m\n\u001b[0m\u001b[1;32m   1512\u001b[0m \u001b[0;34m\u001b[0m\u001b[0m\n\u001b[1;32m   1513\u001b[0m     \u001b[0;32mdef\u001b[0m \u001b[0m_call_impl\u001b[0m\u001b[0;34m(\u001b[0m\u001b[0mself\u001b[0m\u001b[0;34m,\u001b[0m \u001b[0;34m*\u001b[0m\u001b[0margs\u001b[0m\u001b[0;34m,\u001b[0m \u001b[0;34m**\u001b[0m\u001b[0mkwargs\u001b[0m\u001b[0;34m)\u001b[0m\u001b[0;34m:\u001b[0m\u001b[0;34m\u001b[0m\u001b[0;34m\u001b[0m\u001b[0m\n",
            "\u001b[0;32m/usr/local/lib/python3.10/dist-packages/torch/nn/modules/module.py\u001b[0m in \u001b[0;36m_call_impl\u001b[0;34m(self, *args, **kwargs)\u001b[0m\n\u001b[1;32m   1518\u001b[0m                 \u001b[0;32mor\u001b[0m \u001b[0m_global_backward_pre_hooks\u001b[0m \u001b[0;32mor\u001b[0m \u001b[0m_global_backward_hooks\u001b[0m\u001b[0;34m\u001b[0m\u001b[0;34m\u001b[0m\u001b[0m\n\u001b[1;32m   1519\u001b[0m                 or _global_forward_hooks or _global_forward_pre_hooks):\n\u001b[0;32m-> 1520\u001b[0;31m             \u001b[0;32mreturn\u001b[0m \u001b[0mforward_call\u001b[0m\u001b[0;34m(\u001b[0m\u001b[0;34m*\u001b[0m\u001b[0margs\u001b[0m\u001b[0;34m,\u001b[0m \u001b[0;34m**\u001b[0m\u001b[0mkwargs\u001b[0m\u001b[0;34m)\u001b[0m\u001b[0;34m\u001b[0m\u001b[0;34m\u001b[0m\u001b[0m\n\u001b[0m\u001b[1;32m   1521\u001b[0m \u001b[0;34m\u001b[0m\u001b[0m\n\u001b[1;32m   1522\u001b[0m         \u001b[0;32mtry\u001b[0m\u001b[0;34m:\u001b[0m\u001b[0;34m\u001b[0m\u001b[0;34m\u001b[0m\u001b[0m\n",
            "\u001b[0;32m/usr/local/lib/python3.10/dist-packages/transformers/models/distilbert/modeling_distilbert.py\u001b[0m in \u001b[0;36mforward\u001b[0;34m(self, input_ids, attention_mask, head_mask, inputs_embeds, output_attentions, output_hidden_states, return_dict)\u001b[0m\n\u001b[1;32m    804\u001b[0m         \u001b[0mhead_mask\u001b[0m \u001b[0;34m=\u001b[0m \u001b[0mself\u001b[0m\u001b[0;34m.\u001b[0m\u001b[0mget_head_mask\u001b[0m\u001b[0;34m(\u001b[0m\u001b[0mhead_mask\u001b[0m\u001b[0;34m,\u001b[0m \u001b[0mself\u001b[0m\u001b[0;34m.\u001b[0m\u001b[0mconfig\u001b[0m\u001b[0;34m.\u001b[0m\u001b[0mnum_hidden_layers\u001b[0m\u001b[0;34m)\u001b[0m\u001b[0;34m\u001b[0m\u001b[0;34m\u001b[0m\u001b[0m\n\u001b[1;32m    805\u001b[0m \u001b[0;34m\u001b[0m\u001b[0m\n\u001b[0;32m--> 806\u001b[0;31m         \u001b[0membeddings\u001b[0m \u001b[0;34m=\u001b[0m \u001b[0mself\u001b[0m\u001b[0;34m.\u001b[0m\u001b[0membeddings\u001b[0m\u001b[0;34m(\u001b[0m\u001b[0minput_ids\u001b[0m\u001b[0;34m,\u001b[0m \u001b[0minputs_embeds\u001b[0m\u001b[0;34m)\u001b[0m  \u001b[0;31m# (bs, seq_length, dim)\u001b[0m\u001b[0;34m\u001b[0m\u001b[0;34m\u001b[0m\u001b[0m\n\u001b[0m\u001b[1;32m    807\u001b[0m \u001b[0;34m\u001b[0m\u001b[0m\n\u001b[1;32m    808\u001b[0m         \u001b[0;32mif\u001b[0m \u001b[0mself\u001b[0m\u001b[0;34m.\u001b[0m\u001b[0m_use_flash_attention_2\u001b[0m\u001b[0;34m:\u001b[0m\u001b[0;34m\u001b[0m\u001b[0;34m\u001b[0m\u001b[0m\n",
            "\u001b[0;32m/usr/local/lib/python3.10/dist-packages/torch/nn/modules/module.py\u001b[0m in \u001b[0;36m_wrapped_call_impl\u001b[0;34m(self, *args, **kwargs)\u001b[0m\n\u001b[1;32m   1509\u001b[0m             \u001b[0;32mreturn\u001b[0m \u001b[0mself\u001b[0m\u001b[0;34m.\u001b[0m\u001b[0m_compiled_call_impl\u001b[0m\u001b[0;34m(\u001b[0m\u001b[0;34m*\u001b[0m\u001b[0margs\u001b[0m\u001b[0;34m,\u001b[0m \u001b[0;34m**\u001b[0m\u001b[0mkwargs\u001b[0m\u001b[0;34m)\u001b[0m  \u001b[0;31m# type: ignore[misc]\u001b[0m\u001b[0;34m\u001b[0m\u001b[0;34m\u001b[0m\u001b[0m\n\u001b[1;32m   1510\u001b[0m         \u001b[0;32melse\u001b[0m\u001b[0;34m:\u001b[0m\u001b[0;34m\u001b[0m\u001b[0;34m\u001b[0m\u001b[0m\n\u001b[0;32m-> 1511\u001b[0;31m             \u001b[0;32mreturn\u001b[0m \u001b[0mself\u001b[0m\u001b[0;34m.\u001b[0m\u001b[0m_call_impl\u001b[0m\u001b[0;34m(\u001b[0m\u001b[0;34m*\u001b[0m\u001b[0margs\u001b[0m\u001b[0;34m,\u001b[0m \u001b[0;34m**\u001b[0m\u001b[0mkwargs\u001b[0m\u001b[0;34m)\u001b[0m\u001b[0;34m\u001b[0m\u001b[0;34m\u001b[0m\u001b[0m\n\u001b[0m\u001b[1;32m   1512\u001b[0m \u001b[0;34m\u001b[0m\u001b[0m\n\u001b[1;32m   1513\u001b[0m     \u001b[0;32mdef\u001b[0m \u001b[0m_call_impl\u001b[0m\u001b[0;34m(\u001b[0m\u001b[0mself\u001b[0m\u001b[0;34m,\u001b[0m \u001b[0;34m*\u001b[0m\u001b[0margs\u001b[0m\u001b[0;34m,\u001b[0m \u001b[0;34m**\u001b[0m\u001b[0mkwargs\u001b[0m\u001b[0;34m)\u001b[0m\u001b[0;34m:\u001b[0m\u001b[0;34m\u001b[0m\u001b[0;34m\u001b[0m\u001b[0m\n",
            "\u001b[0;32m/usr/local/lib/python3.10/dist-packages/torch/nn/modules/module.py\u001b[0m in \u001b[0;36m_call_impl\u001b[0;34m(self, *args, **kwargs)\u001b[0m\n\u001b[1;32m   1518\u001b[0m                 \u001b[0;32mor\u001b[0m \u001b[0m_global_backward_pre_hooks\u001b[0m \u001b[0;32mor\u001b[0m \u001b[0m_global_backward_hooks\u001b[0m\u001b[0;34m\u001b[0m\u001b[0;34m\u001b[0m\u001b[0m\n\u001b[1;32m   1519\u001b[0m                 or _global_forward_hooks or _global_forward_pre_hooks):\n\u001b[0;32m-> 1520\u001b[0;31m             \u001b[0;32mreturn\u001b[0m \u001b[0mforward_call\u001b[0m\u001b[0;34m(\u001b[0m\u001b[0;34m*\u001b[0m\u001b[0margs\u001b[0m\u001b[0;34m,\u001b[0m \u001b[0;34m**\u001b[0m\u001b[0mkwargs\u001b[0m\u001b[0;34m)\u001b[0m\u001b[0;34m\u001b[0m\u001b[0;34m\u001b[0m\u001b[0m\n\u001b[0m\u001b[1;32m   1521\u001b[0m \u001b[0;34m\u001b[0m\u001b[0m\n\u001b[1;32m   1522\u001b[0m         \u001b[0;32mtry\u001b[0m\u001b[0;34m:\u001b[0m\u001b[0;34m\u001b[0m\u001b[0;34m\u001b[0m\u001b[0m\n",
            "\u001b[0;32m/usr/local/lib/python3.10/dist-packages/transformers/models/distilbert/modeling_distilbert.py\u001b[0m in \u001b[0;36mforward\u001b[0;34m(self, input_ids, input_embeds)\u001b[0m\n\u001b[1;32m    142\u001b[0m         \u001b[0mposition_embeddings\u001b[0m \u001b[0;34m=\u001b[0m \u001b[0mself\u001b[0m\u001b[0;34m.\u001b[0m\u001b[0mposition_embeddings\u001b[0m\u001b[0;34m(\u001b[0m\u001b[0mposition_ids\u001b[0m\u001b[0;34m)\u001b[0m  \u001b[0;31m# (bs, max_seq_length, dim)\u001b[0m\u001b[0;34m\u001b[0m\u001b[0;34m\u001b[0m\u001b[0m\n\u001b[1;32m    143\u001b[0m \u001b[0;34m\u001b[0m\u001b[0m\n\u001b[0;32m--> 144\u001b[0;31m         \u001b[0membeddings\u001b[0m \u001b[0;34m=\u001b[0m \u001b[0minput_embeds\u001b[0m \u001b[0;34m+\u001b[0m \u001b[0mposition_embeddings\u001b[0m  \u001b[0;31m# (bs, max_seq_length, dim)\u001b[0m\u001b[0;34m\u001b[0m\u001b[0;34m\u001b[0m\u001b[0m\n\u001b[0m\u001b[1;32m    145\u001b[0m         \u001b[0membeddings\u001b[0m \u001b[0;34m=\u001b[0m \u001b[0mself\u001b[0m\u001b[0;34m.\u001b[0m\u001b[0mLayerNorm\u001b[0m\u001b[0;34m(\u001b[0m\u001b[0membeddings\u001b[0m\u001b[0;34m)\u001b[0m  \u001b[0;31m# (bs, max_seq_length, dim)\u001b[0m\u001b[0;34m\u001b[0m\u001b[0;34m\u001b[0m\u001b[0m\n\u001b[1;32m    146\u001b[0m         \u001b[0membeddings\u001b[0m \u001b[0;34m=\u001b[0m \u001b[0mself\u001b[0m\u001b[0;34m.\u001b[0m\u001b[0mdropout\u001b[0m\u001b[0;34m(\u001b[0m\u001b[0membeddings\u001b[0m\u001b[0;34m)\u001b[0m  \u001b[0;31m# (bs, max_seq_length, dim)\u001b[0m\u001b[0;34m\u001b[0m\u001b[0;34m\u001b[0m\u001b[0m\n",
            "\u001b[0;31mRuntimeError\u001b[0m: The size of tensor a (693) must match the size of tensor b (512) at non-singleton dimension 1"
          ]
        }
      ]
    },
    {
      "cell_type": "code",
      "source": [
        "pip install -U sec-edgar-downloader"
      ],
      "metadata": {
        "colab": {
          "base_uri": "https://localhost:8080/"
        },
        "id": "Josmb_hyKBrL",
        "outputId": "4988ddba-5d7f-4788-a9dc-a909a2d391b2"
      },
      "execution_count": 251,
      "outputs": [
        {
          "output_type": "stream",
          "name": "stdout",
          "text": [
            "Collecting sec-edgar-downloader\n",
            "  Downloading sec_edgar_downloader-5.0.2-py3-none-any.whl (14 kB)\n",
            "Requirement already satisfied: requests in /usr/local/lib/python3.10/dist-packages (from sec-edgar-downloader) (2.31.0)\n",
            "Collecting pyrate-limiter>=3.1.0 (from sec-edgar-downloader)\n",
            "  Downloading pyrate_limiter-3.6.1-py3-none-any.whl (26 kB)\n",
            "Requirement already satisfied: charset-normalizer<4,>=2 in /usr/local/lib/python3.10/dist-packages (from requests->sec-edgar-downloader) (3.3.2)\n",
            "Requirement already satisfied: idna<4,>=2.5 in /usr/local/lib/python3.10/dist-packages (from requests->sec-edgar-downloader) (3.7)\n",
            "Requirement already satisfied: urllib3<3,>=1.21.1 in /usr/local/lib/python3.10/dist-packages (from requests->sec-edgar-downloader) (2.0.7)\n",
            "Requirement already satisfied: certifi>=2017.4.17 in /usr/local/lib/python3.10/dist-packages (from requests->sec-edgar-downloader) (2024.2.2)\n",
            "Installing collected packages: pyrate-limiter, sec-edgar-downloader\n",
            "Successfully installed pyrate-limiter-3.6.1 sec-edgar-downloader-5.0.2\n"
          ]
        }
      ]
    },
    {
      "cell_type": "code",
      "source": [
        "from sec_edgar_downloader import Downloader\n",
        "import re\n",
        "import os\n",
        "\n",
        "def extract_financial_data(text):\n",
        "    # Define regular expressions to match net income and EPS\n",
        "    net_income_regex = r\"CONSOLIDATED\\s+STATEMENTS\\s+OF\\s+OPERATIONS.*?Net\\s+income.*?(\\$\\s*\\d[\\d,.\\s]*\\d)\"\n",
        "    eps_regex = r\"CONSOLIDATED\\s+STATEMENTS\\s+OF\\s+OPERATIONS.*?Earnings\\s+per\\s+share.*?(\\$\\s*\\d[\\d,.\\s]*\\d)\"\n",
        "\n",
        "    # Search for net income and EPS in the text\n",
        "    net_income_matches = re.findall(net_income_regex, text, re.DOTALL)\n",
        "    eps_matches = re.findall(eps_regex, text, re.DOTALL)\n",
        "\n",
        "    # Process net income matches\n",
        "    net_income = None\n",
        "    for income_match in net_income_matches:\n",
        "        net_income_str = income_match.strip()  # Remove leading/trailing spaces\n",
        "        # Extract numeric value from the net income string\n",
        "        net_income = float(re.sub(r'[^\\d.]', '', net_income_str))\n",
        "        if net_income != 1e-05 and net_income != 205.0 and net_income>1000:\n",
        "            break  # Stop searching after finding a valid net income value\n",
        "\n",
        "    # Process EPS matches\n",
        "    eps = None\n",
        "    for eps_match in eps_matches:\n",
        "        eps_str = eps_match.strip()  # Remove leading/trailing spaces\n",
        "        # Extract numeric value from the EPS string\n",
        "        eps = float(re.sub(r'[^\\d.]', '', eps_str))\n",
        "        if eps != 1e-05 and eps != 205.0 and eps > 0 and eps <15:\n",
        "            break  # Stop searching after finding a valid EPS value\n",
        "\n",
        "    return net_income, eps\n",
        "\n",
        "def download_10k_filings(company_ticker):\n",
        "    downloader = Downloader(\"MaxTest\", \"mli751@gatech.edu\")\n",
        "    downloaded_filings = []\n",
        "    years_with_no_filings = []\n",
        "    net_income_list = []\n",
        "    eps_list = []\n",
        "\n",
        "\n",
        "\n",
        "    filings = downloader.get(\"10-K\", company_ticker, after=f\"{1995}-01-01\", before=f\"{2024}-01-01\")\n",
        "    # Download filings for each year in the specified range\n",
        "            # Attempt to download filings for the given year\n",
        "\n",
        "    if filings:\n",
        "        # If filings were found, extract financial data from each filing\n",
        "        directory = f\"sec-edgar-filings/{company_ticker.upper()}/10-K/\"\n",
        "\n",
        "    # Loop over files in the directory\n",
        "        for root, dirs, files in os.walk(directory):\n",
        "            for filename in files:\n",
        "                if filename == \"full-submission.txt\":\n",
        "                    filepath = os.path.join(root, filename)\n",
        "                    # Read the contents of the file\n",
        "                    with open(filepath, \"r\") as file:\n",
        "                        text = file.read()\n",
        "                        # Process the content as needed\n",
        "                        net_income, eps = extract_financial_data(text)\n",
        "                        if net_income is not None and eps is not None:\n",
        "                            net_income_list.append(net_income)\n",
        "                            eps_list.append(eps)\n",
        "                            print(f\"Extracted financial data from {company_ticker} filing in {filepath}: Net Income = {net_income}, EPS = {eps}\")\n",
        "                        else:\n",
        "                            print(f\"No financial data found in {company_ticker} filing in{filepath}\")\n",
        "\n",
        "    return net_income_list, eps_list\n",
        "\n",
        "if __name__ == \"__main__\":\n",
        "    company_tickers = [\"AAPL\"]  # Add your desired tickers here\n",
        "    final_net_income_list = []\n",
        "    final_eps_list = []\n",
        "    for ticker in company_tickers:\n",
        "        print(f\"Downloading 10-K filings for {ticker}...\")\n",
        "        net_income_list, eps_list = download_10k_filings(ticker)\n",
        "        final_net_income_list.extend(net_income_list)\n",
        "        final_eps_list.extend(eps_list)\n",
        "\n",
        "    print(\"Final Net Income List:\", final_net_income_list)\n",
        "    print(\"Final EPS List:\", final_eps_list)"
      ],
      "metadata": {
        "colab": {
          "base_uri": "https://localhost:8080/",
          "height": 1000
        },
        "id": "tmqknrbSJsxj",
        "outputId": "c4b5e09c-b691-487a-d152-17061e17d738"
      },
      "execution_count": 255,
      "outputs": [
        {
          "output_type": "display_data",
          "data": {
            "text/plain": [
              "Downloading \u001b[1;36m10\u001b[0m-K filings for AAPL\u001b[33m...\u001b[0m\n"
            ],
            "text/html": [
              "<pre style=\"white-space:pre;overflow-x:auto;line-height:normal;font-family:Menlo,'DejaVu Sans Mono',consolas,'Courier New',monospace\">Downloading <span style=\"color: #008080; text-decoration-color: #008080; font-weight: bold\">10</span>-K filings for AAPL<span style=\"color: #808000; text-decoration-color: #808000\">...</span>\n",
              "</pre>\n"
            ]
          },
          "metadata": {}
        },
        {
          "output_type": "display_data",
          "data": {
            "text/plain": [
              "Extracted financial data from AAPL filing in sec-edgar-filings/AAPL/\u001b[1;36m10\u001b[0m-K/\u001b[1;36m0000320193\u001b[0m-\u001b[1;36m20\u001b[0m-\u001b[1;36m000096\u001b[0m/full-submission.txt: \n",
              "Net Income = \u001b[1;36m57411.0\u001b[0m, EPS = \u001b[1;36m3.31\u001b[0m\n"
            ],
            "text/html": [
              "<pre style=\"white-space:pre;overflow-x:auto;line-height:normal;font-family:Menlo,'DejaVu Sans Mono',consolas,'Courier New',monospace\">Extracted financial data from AAPL filing in sec-edgar-filings/AAPL/<span style=\"color: #008080; text-decoration-color: #008080; font-weight: bold\">10</span>-K/<span style=\"color: #008080; text-decoration-color: #008080; font-weight: bold\">0000320193</span>-<span style=\"color: #008080; text-decoration-color: #008080; font-weight: bold\">20</span>-<span style=\"color: #008080; text-decoration-color: #008080; font-weight: bold\">000096</span>/full-submission.txt: \n",
              "Net Income = <span style=\"color: #008080; text-decoration-color: #008080; font-weight: bold\">57411.0</span>, EPS = <span style=\"color: #008080; text-decoration-color: #008080; font-weight: bold\">3.31</span>\n",
              "</pre>\n"
            ]
          },
          "metadata": {}
        },
        {
          "output_type": "display_data",
          "data": {
            "text/plain": [
              "No financial data found in AAPL filing insec-edgar-filings/AAPL/\u001b[1;36m10\u001b[0m-K/\u001b[1;36m0000320193\u001b[0m-\u001b[1;36m95\u001b[0m-\u001b[1;36m000016\u001b[0m/full-submission.txt\n"
            ],
            "text/html": [
              "<pre style=\"white-space:pre;overflow-x:auto;line-height:normal;font-family:Menlo,'DejaVu Sans Mono',consolas,'Courier New',monospace\">No financial data found in AAPL filing insec-edgar-filings/AAPL/<span style=\"color: #008080; text-decoration-color: #008080; font-weight: bold\">10</span>-K/<span style=\"color: #008080; text-decoration-color: #008080; font-weight: bold\">0000320193</span>-<span style=\"color: #008080; text-decoration-color: #008080; font-weight: bold\">95</span>-<span style=\"color: #008080; text-decoration-color: #008080; font-weight: bold\">000016</span>/full-submission.txt\n",
              "</pre>\n"
            ]
          },
          "metadata": {}
        },
        {
          "output_type": "display_data",
          "data": {
            "text/plain": [
              "Extracted financial data from AAPL filing in sec-edgar-filings/AAPL/\u001b[1;36m10\u001b[0m-K/\u001b[1;36m0001193125\u001b[0m-\u001b[1;36m13\u001b[0m-\u001b[1;36m416534\u001b[0m/full-submission.txt: \n",
              "Net Income = \u001b[1;36m35.0\u001b[0m, EPS = \u001b[1;36m35.0\u001b[0m\n"
            ],
            "text/html": [
              "<pre style=\"white-space:pre;overflow-x:auto;line-height:normal;font-family:Menlo,'DejaVu Sans Mono',consolas,'Courier New',monospace\">Extracted financial data from AAPL filing in sec-edgar-filings/AAPL/<span style=\"color: #008080; text-decoration-color: #008080; font-weight: bold\">10</span>-K/<span style=\"color: #008080; text-decoration-color: #008080; font-weight: bold\">0001193125</span>-<span style=\"color: #008080; text-decoration-color: #008080; font-weight: bold\">13</span>-<span style=\"color: #008080; text-decoration-color: #008080; font-weight: bold\">416534</span>/full-submission.txt: \n",
              "Net Income = <span style=\"color: #008080; text-decoration-color: #008080; font-weight: bold\">35.0</span>, EPS = <span style=\"color: #008080; text-decoration-color: #008080; font-weight: bold\">35.0</span>\n",
              "</pre>\n"
            ]
          },
          "metadata": {}
        },
        {
          "output_type": "display_data",
          "data": {
            "text/plain": [
              "Extracted financial data from AAPL filing in sec-edgar-filings/AAPL/\u001b[1;36m10\u001b[0m-K/\u001b[1;36m0000320193\u001b[0m-\u001b[1;36m22\u001b[0m-\u001b[1;36m000108\u001b[0m/full-submission.txt: \n",
              "Net Income = \u001b[1;36m99803.0\u001b[0m, EPS = \u001b[1;36m6.15\u001b[0m\n"
            ],
            "text/html": [
              "<pre style=\"white-space:pre;overflow-x:auto;line-height:normal;font-family:Menlo,'DejaVu Sans Mono',consolas,'Courier New',monospace\">Extracted financial data from AAPL filing in sec-edgar-filings/AAPL/<span style=\"color: #008080; text-decoration-color: #008080; font-weight: bold\">10</span>-K/<span style=\"color: #008080; text-decoration-color: #008080; font-weight: bold\">0000320193</span>-<span style=\"color: #008080; text-decoration-color: #008080; font-weight: bold\">22</span>-<span style=\"color: #008080; text-decoration-color: #008080; font-weight: bold\">000108</span>/full-submission.txt: \n",
              "Net Income = <span style=\"color: #008080; text-decoration-color: #008080; font-weight: bold\">99803.0</span>, EPS = <span style=\"color: #008080; text-decoration-color: #008080; font-weight: bold\">6.15</span>\n",
              "</pre>\n"
            ]
          },
          "metadata": {}
        },
        {
          "output_type": "display_data",
          "data": {
            "text/plain": [
              "No financial data found in AAPL filing insec-edgar-filings/AAPL/\u001b[1;36m10\u001b[0m-K/\u001b[1;36m0000912057\u001b[0m-\u001b[1;36m99\u001b[0m-\u001b[1;36m010244\u001b[0m/full-submission.txt\n"
            ],
            "text/html": [
              "<pre style=\"white-space:pre;overflow-x:auto;line-height:normal;font-family:Menlo,'DejaVu Sans Mono',consolas,'Courier New',monospace\">No financial data found in AAPL filing insec-edgar-filings/AAPL/<span style=\"color: #008080; text-decoration-color: #008080; font-weight: bold\">10</span>-K/<span style=\"color: #008080; text-decoration-color: #008080; font-weight: bold\">0000912057</span>-<span style=\"color: #008080; text-decoration-color: #008080; font-weight: bold\">99</span>-<span style=\"color: #008080; text-decoration-color: #008080; font-weight: bold\">010244</span>/full-submission.txt\n",
              "</pre>\n"
            ]
          },
          "metadata": {}
        },
        {
          "output_type": "display_data",
          "data": {
            "text/plain": [
              "No financial data found in AAPL filing insec-edgar-filings/AAPL/\u001b[1;36m10\u001b[0m-K/\u001b[1;36m0001193125\u001b[0m-\u001b[1;36m09\u001b[0m-\u001b[1;36m214859\u001b[0m/full-submission.txt\n"
            ],
            "text/html": [
              "<pre style=\"white-space:pre;overflow-x:auto;line-height:normal;font-family:Menlo,'DejaVu Sans Mono',consolas,'Courier New',monospace\">No financial data found in AAPL filing insec-edgar-filings/AAPL/<span style=\"color: #008080; text-decoration-color: #008080; font-weight: bold\">10</span>-K/<span style=\"color: #008080; text-decoration-color: #008080; font-weight: bold\">0001193125</span>-<span style=\"color: #008080; text-decoration-color: #008080; font-weight: bold\">09</span>-<span style=\"color: #008080; text-decoration-color: #008080; font-weight: bold\">214859</span>/full-submission.txt\n",
              "</pre>\n"
            ]
          },
          "metadata": {}
        },
        {
          "output_type": "display_data",
          "data": {
            "text/plain": [
              "Extracted financial data from AAPL filing in sec-edgar-filings/AAPL/\u001b[1;36m10\u001b[0m-K/\u001b[1;36m0001193125\u001b[0m-\u001b[1;36m15\u001b[0m-\u001b[1;36m356351\u001b[0m/full-submission.txt: \n",
              "Net Income = \u001b[1;36m53394.0\u001b[0m, EPS = \u001b[1;36m9.28\u001b[0m\n"
            ],
            "text/html": [
              "<pre style=\"white-space:pre;overflow-x:auto;line-height:normal;font-family:Menlo,'DejaVu Sans Mono',consolas,'Courier New',monospace\">Extracted financial data from AAPL filing in sec-edgar-filings/AAPL/<span style=\"color: #008080; text-decoration-color: #008080; font-weight: bold\">10</span>-K/<span style=\"color: #008080; text-decoration-color: #008080; font-weight: bold\">0001193125</span>-<span style=\"color: #008080; text-decoration-color: #008080; font-weight: bold\">15</span>-<span style=\"color: #008080; text-decoration-color: #008080; font-weight: bold\">356351</span>/full-submission.txt: \n",
              "Net Income = <span style=\"color: #008080; text-decoration-color: #008080; font-weight: bold\">53394.0</span>, EPS = <span style=\"color: #008080; text-decoration-color: #008080; font-weight: bold\">9.28</span>\n",
              "</pre>\n"
            ]
          },
          "metadata": {}
        },
        {
          "output_type": "display_data",
          "data": {
            "text/plain": [
              "No financial data found in AAPL filing insec-edgar-filings/AAPL/\u001b[1;36m10\u001b[0m-K/\u001b[1;36m0001047469\u001b[0m-\u001b[1;36m03\u001b[0m-\u001b[1;36m041604\u001b[0m/full-submission.txt\n"
            ],
            "text/html": [
              "<pre style=\"white-space:pre;overflow-x:auto;line-height:normal;font-family:Menlo,'DejaVu Sans Mono',consolas,'Courier New',monospace\">No financial data found in AAPL filing insec-edgar-filings/AAPL/<span style=\"color: #008080; text-decoration-color: #008080; font-weight: bold\">10</span>-K/<span style=\"color: #008080; text-decoration-color: #008080; font-weight: bold\">0001047469</span>-<span style=\"color: #008080; text-decoration-color: #008080; font-weight: bold\">03</span>-<span style=\"color: #008080; text-decoration-color: #008080; font-weight: bold\">041604</span>/full-submission.txt\n",
              "</pre>\n"
            ]
          },
          "metadata": {}
        },
        {
          "output_type": "display_data",
          "data": {
            "text/plain": [
              "No financial data found in AAPL filing insec-edgar-filings/AAPL/\u001b[1;36m10\u001b[0m-K/\u001b[1;36m0001193125\u001b[0m-\u001b[1;36m08\u001b[0m-\u001b[1;36m224958\u001b[0m/full-submission.txt\n"
            ],
            "text/html": [
              "<pre style=\"white-space:pre;overflow-x:auto;line-height:normal;font-family:Menlo,'DejaVu Sans Mono',consolas,'Courier New',monospace\">No financial data found in AAPL filing insec-edgar-filings/AAPL/<span style=\"color: #008080; text-decoration-color: #008080; font-weight: bold\">10</span>-K/<span style=\"color: #008080; text-decoration-color: #008080; font-weight: bold\">0001193125</span>-<span style=\"color: #008080; text-decoration-color: #008080; font-weight: bold\">08</span>-<span style=\"color: #008080; text-decoration-color: #008080; font-weight: bold\">224958</span>/full-submission.txt\n",
              "</pre>\n"
            ]
          },
          "metadata": {}
        },
        {
          "output_type": "display_data",
          "data": {
            "text/plain": [
              "Extracted financial data from AAPL filing in sec-edgar-filings/AAPL/\u001b[1;36m10\u001b[0m-K/\u001b[1;36m0000320193\u001b[0m-\u001b[1;36m19\u001b[0m-\u001b[1;36m000119\u001b[0m/full-submission.txt: \n",
              "Net Income = \u001b[1;36m13686.0\u001b[0m, EPS = \u001b[1;36m3.05\u001b[0m\n"
            ],
            "text/html": [
              "<pre style=\"white-space:pre;overflow-x:auto;line-height:normal;font-family:Menlo,'DejaVu Sans Mono',consolas,'Courier New',monospace\">Extracted financial data from AAPL filing in sec-edgar-filings/AAPL/<span style=\"color: #008080; text-decoration-color: #008080; font-weight: bold\">10</span>-K/<span style=\"color: #008080; text-decoration-color: #008080; font-weight: bold\">0000320193</span>-<span style=\"color: #008080; text-decoration-color: #008080; font-weight: bold\">19</span>-<span style=\"color: #008080; text-decoration-color: #008080; font-weight: bold\">000119</span>/full-submission.txt: \n",
              "Net Income = <span style=\"color: #008080; text-decoration-color: #008080; font-weight: bold\">13686.0</span>, EPS = <span style=\"color: #008080; text-decoration-color: #008080; font-weight: bold\">3.05</span>\n",
              "</pre>\n"
            ]
          },
          "metadata": {}
        },
        {
          "output_type": "display_data",
          "data": {
            "text/plain": [
              "Extracted financial data from AAPL filing in sec-edgar-filings/AAPL/\u001b[1;36m10\u001b[0m-K/\u001b[1;36m0000320193\u001b[0m-\u001b[1;36m17\u001b[0m-\u001b[1;36m000070\u001b[0m/full-submission.txt: \n",
              "Net Income = \u001b[1;36m48351.0\u001b[0m, EPS = \u001b[1;36m9.27\u001b[0m\n"
            ],
            "text/html": [
              "<pre style=\"white-space:pre;overflow-x:auto;line-height:normal;font-family:Menlo,'DejaVu Sans Mono',consolas,'Courier New',monospace\">Extracted financial data from AAPL filing in sec-edgar-filings/AAPL/<span style=\"color: #008080; text-decoration-color: #008080; font-weight: bold\">10</span>-K/<span style=\"color: #008080; text-decoration-color: #008080; font-weight: bold\">0000320193</span>-<span style=\"color: #008080; text-decoration-color: #008080; font-weight: bold\">17</span>-<span style=\"color: #008080; text-decoration-color: #008080; font-weight: bold\">000070</span>/full-submission.txt: \n",
              "Net Income = <span style=\"color: #008080; text-decoration-color: #008080; font-weight: bold\">48351.0</span>, EPS = <span style=\"color: #008080; text-decoration-color: #008080; font-weight: bold\">9.27</span>\n",
              "</pre>\n"
            ]
          },
          "metadata": {}
        },
        {
          "output_type": "display_data",
          "data": {
            "text/plain": [
              "No financial data found in AAPL filing insec-edgar-filings/AAPL/\u001b[1;36m10\u001b[0m-K/\u001b[1;36m0001193125\u001b[0m-\u001b[1;36m10\u001b[0m-\u001b[1;36m238044\u001b[0m/full-submission.txt\n"
            ],
            "text/html": [
              "<pre style=\"white-space:pre;overflow-x:auto;line-height:normal;font-family:Menlo,'DejaVu Sans Mono',consolas,'Courier New',monospace\">No financial data found in AAPL filing insec-edgar-filings/AAPL/<span style=\"color: #008080; text-decoration-color: #008080; font-weight: bold\">10</span>-K/<span style=\"color: #008080; text-decoration-color: #008080; font-weight: bold\">0001193125</span>-<span style=\"color: #008080; text-decoration-color: #008080; font-weight: bold\">10</span>-<span style=\"color: #008080; text-decoration-color: #008080; font-weight: bold\">238044</span>/full-submission.txt\n",
              "</pre>\n"
            ]
          },
          "metadata": {}
        },
        {
          "output_type": "display_data",
          "data": {
            "text/plain": [
              "No financial data found in AAPL filing insec-edgar-filings/AAPL/\u001b[1;36m10\u001b[0m-K/\u001b[1;36m0001047469\u001b[0m-\u001b[1;36m04\u001b[0m-\u001b[1;36m035975\u001b[0m/full-submission.txt\n"
            ],
            "text/html": [
              "<pre style=\"white-space:pre;overflow-x:auto;line-height:normal;font-family:Menlo,'DejaVu Sans Mono',consolas,'Courier New',monospace\">No financial data found in AAPL filing insec-edgar-filings/AAPL/<span style=\"color: #008080; text-decoration-color: #008080; font-weight: bold\">10</span>-K/<span style=\"color: #008080; text-decoration-color: #008080; font-weight: bold\">0001047469</span>-<span style=\"color: #008080; text-decoration-color: #008080; font-weight: bold\">04</span>-<span style=\"color: #008080; text-decoration-color: #008080; font-weight: bold\">035975</span>/full-submission.txt\n",
              "</pre>\n"
            ]
          },
          "metadata": {}
        },
        {
          "output_type": "display_data",
          "data": {
            "text/plain": [
              "No financial data found in AAPL filing insec-edgar-filings/AAPL/\u001b[1;36m10\u001b[0m-K/\u001b[1;36m0001047469\u001b[0m-\u001b[1;36m07\u001b[0m-\u001b[1;36m009340\u001b[0m/full-submission.txt\n"
            ],
            "text/html": [
              "<pre style=\"white-space:pre;overflow-x:auto;line-height:normal;font-family:Menlo,'DejaVu Sans Mono',consolas,'Courier New',monospace\">No financial data found in AAPL filing insec-edgar-filings/AAPL/<span style=\"color: #008080; text-decoration-color: #008080; font-weight: bold\">10</span>-K/<span style=\"color: #008080; text-decoration-color: #008080; font-weight: bold\">0001047469</span>-<span style=\"color: #008080; text-decoration-color: #008080; font-weight: bold\">07</span>-<span style=\"color: #008080; text-decoration-color: #008080; font-weight: bold\">009340</span>/full-submission.txt\n",
              "</pre>\n"
            ]
          },
          "metadata": {}
        },
        {
          "output_type": "display_data",
          "data": {
            "text/plain": [
              "No financial data found in AAPL filing insec-edgar-filings/AAPL/\u001b[1;36m10\u001b[0m-K/\u001b[1;36m0001193125\u001b[0m-\u001b[1;36m11\u001b[0m-\u001b[1;36m282113\u001b[0m/full-submission.txt\n"
            ],
            "text/html": [
              "<pre style=\"white-space:pre;overflow-x:auto;line-height:normal;font-family:Menlo,'DejaVu Sans Mono',consolas,'Courier New',monospace\">No financial data found in AAPL filing insec-edgar-filings/AAPL/<span style=\"color: #008080; text-decoration-color: #008080; font-weight: bold\">10</span>-K/<span style=\"color: #008080; text-decoration-color: #008080; font-weight: bold\">0001193125</span>-<span style=\"color: #008080; text-decoration-color: #008080; font-weight: bold\">11</span>-<span style=\"color: #008080; text-decoration-color: #008080; font-weight: bold\">282113</span>/full-submission.txt\n",
              "</pre>\n"
            ]
          },
          "metadata": {}
        },
        {
          "output_type": "display_data",
          "data": {
            "text/plain": [
              "Extracted financial data from AAPL filing in sec-edgar-filings/AAPL/\u001b[1;36m10\u001b[0m-K/\u001b[1;36m0001193125\u001b[0m-\u001b[1;36m12\u001b[0m-\u001b[1;36m444068\u001b[0m/full-submission.txt: \n",
              "Net Income = \u001b[1;36m41733.0\u001b[0m, EPS = \u001b[1;36m44.64\u001b[0m\n"
            ],
            "text/html": [
              "<pre style=\"white-space:pre;overflow-x:auto;line-height:normal;font-family:Menlo,'DejaVu Sans Mono',consolas,'Courier New',monospace\">Extracted financial data from AAPL filing in sec-edgar-filings/AAPL/<span style=\"color: #008080; text-decoration-color: #008080; font-weight: bold\">10</span>-K/<span style=\"color: #008080; text-decoration-color: #008080; font-weight: bold\">0001193125</span>-<span style=\"color: #008080; text-decoration-color: #008080; font-weight: bold\">12</span>-<span style=\"color: #008080; text-decoration-color: #008080; font-weight: bold\">444068</span>/full-submission.txt: \n",
              "Net Income = <span style=\"color: #008080; text-decoration-color: #008080; font-weight: bold\">41733.0</span>, EPS = <span style=\"color: #008080; text-decoration-color: #008080; font-weight: bold\">44.64</span>\n",
              "</pre>\n"
            ]
          },
          "metadata": {}
        },
        {
          "output_type": "display_data",
          "data": {
            "text/plain": [
              "Extracted financial data from AAPL filing in sec-edgar-filings/AAPL/\u001b[1;36m10\u001b[0m-K/\u001b[1;36m0001628280\u001b[0m-\u001b[1;36m16\u001b[0m-\u001b[1;36m020309\u001b[0m/full-submission.txt: \n",
              "Net Income = \u001b[1;36m45687.0\u001b[0m, EPS = \u001b[1;36m8.35\u001b[0m\n"
            ],
            "text/html": [
              "<pre style=\"white-space:pre;overflow-x:auto;line-height:normal;font-family:Menlo,'DejaVu Sans Mono',consolas,'Courier New',monospace\">Extracted financial data from AAPL filing in sec-edgar-filings/AAPL/<span style=\"color: #008080; text-decoration-color: #008080; font-weight: bold\">10</span>-K/<span style=\"color: #008080; text-decoration-color: #008080; font-weight: bold\">0001628280</span>-<span style=\"color: #008080; text-decoration-color: #008080; font-weight: bold\">16</span>-<span style=\"color: #008080; text-decoration-color: #008080; font-weight: bold\">020309</span>/full-submission.txt: \n",
              "Net Income = <span style=\"color: #008080; text-decoration-color: #008080; font-weight: bold\">45687.0</span>, EPS = <span style=\"color: #008080; text-decoration-color: #008080; font-weight: bold\">8.35</span>\n",
              "</pre>\n"
            ]
          },
          "metadata": {}
        },
        {
          "output_type": "display_data",
          "data": {
            "text/plain": [
              "No financial data found in AAPL filing insec-edgar-filings/AAPL/\u001b[1;36m10\u001b[0m-K/\u001b[1;36m0001047469\u001b[0m-\u001b[1;36m97\u001b[0m-\u001b[1;36m006960\u001b[0m/full-submission.txt\n"
            ],
            "text/html": [
              "<pre style=\"white-space:pre;overflow-x:auto;line-height:normal;font-family:Menlo,'DejaVu Sans Mono',consolas,'Courier New',monospace\">No financial data found in AAPL filing insec-edgar-filings/AAPL/<span style=\"color: #008080; text-decoration-color: #008080; font-weight: bold\">10</span>-K/<span style=\"color: #008080; text-decoration-color: #008080; font-weight: bold\">0001047469</span>-<span style=\"color: #008080; text-decoration-color: #008080; font-weight: bold\">97</span>-<span style=\"color: #008080; text-decoration-color: #008080; font-weight: bold\">006960</span>/full-submission.txt\n",
              "</pre>\n"
            ]
          },
          "metadata": {}
        },
        {
          "output_type": "display_data",
          "data": {
            "text/plain": [
              "Extracted financial data from AAPL filing in sec-edgar-filings/AAPL/\u001b[1;36m10\u001b[0m-K/\u001b[1;36m0000320193\u001b[0m-\u001b[1;36m21\u001b[0m-\u001b[1;36m000105\u001b[0m/full-submission.txt: \n",
              "Net Income = \u001b[1;36m94680.0\u001b[0m, EPS = \u001b[1;36m5.67\u001b[0m\n"
            ],
            "text/html": [
              "<pre style=\"white-space:pre;overflow-x:auto;line-height:normal;font-family:Menlo,'DejaVu Sans Mono',consolas,'Courier New',monospace\">Extracted financial data from AAPL filing in sec-edgar-filings/AAPL/<span style=\"color: #008080; text-decoration-color: #008080; font-weight: bold\">10</span>-K/<span style=\"color: #008080; text-decoration-color: #008080; font-weight: bold\">0000320193</span>-<span style=\"color: #008080; text-decoration-color: #008080; font-weight: bold\">21</span>-<span style=\"color: #008080; text-decoration-color: #008080; font-weight: bold\">000105</span>/full-submission.txt: \n",
              "Net Income = <span style=\"color: #008080; text-decoration-color: #008080; font-weight: bold\">94680.0</span>, EPS = <span style=\"color: #008080; text-decoration-color: #008080; font-weight: bold\">5.67</span>\n",
              "</pre>\n"
            ]
          },
          "metadata": {}
        },
        {
          "output_type": "display_data",
          "data": {
            "text/plain": [
              "Extracted financial data from AAPL filing in sec-edgar-filings/AAPL/\u001b[1;36m10\u001b[0m-K/\u001b[1;36m0000320193\u001b[0m-\u001b[1;36m18\u001b[0m-\u001b[1;36m000145\u001b[0m/full-submission.txt: \n",
              "Net Income = \u001b[1;36m59531.0\u001b[0m, EPS = \u001b[1;36m12.01\u001b[0m\n"
            ],
            "text/html": [
              "<pre style=\"white-space:pre;overflow-x:auto;line-height:normal;font-family:Menlo,'DejaVu Sans Mono',consolas,'Courier New',monospace\">Extracted financial data from AAPL filing in sec-edgar-filings/AAPL/<span style=\"color: #008080; text-decoration-color: #008080; font-weight: bold\">10</span>-K/<span style=\"color: #008080; text-decoration-color: #008080; font-weight: bold\">0000320193</span>-<span style=\"color: #008080; text-decoration-color: #008080; font-weight: bold\">18</span>-<span style=\"color: #008080; text-decoration-color: #008080; font-weight: bold\">000145</span>/full-submission.txt: \n",
              "Net Income = <span style=\"color: #008080; text-decoration-color: #008080; font-weight: bold\">59531.0</span>, EPS = <span style=\"color: #008080; text-decoration-color: #008080; font-weight: bold\">12.01</span>\n",
              "</pre>\n"
            ]
          },
          "metadata": {}
        },
        {
          "output_type": "display_data",
          "data": {
            "text/plain": [
              "No financial data found in AAPL filing insec-edgar-filings/AAPL/\u001b[1;36m10\u001b[0m-K/\u001b[1;36m0001104659\u001b[0m-\u001b[1;36m06\u001b[0m-\u001b[1;36m084288\u001b[0m/full-submission.txt\n"
            ],
            "text/html": [
              "<pre style=\"white-space:pre;overflow-x:auto;line-height:normal;font-family:Menlo,'DejaVu Sans Mono',consolas,'Courier New',monospace\">No financial data found in AAPL filing insec-edgar-filings/AAPL/<span style=\"color: #008080; text-decoration-color: #008080; font-weight: bold\">10</span>-K/<span style=\"color: #008080; text-decoration-color: #008080; font-weight: bold\">0001104659</span>-<span style=\"color: #008080; text-decoration-color: #008080; font-weight: bold\">06</span>-<span style=\"color: #008080; text-decoration-color: #008080; font-weight: bold\">084288</span>/full-submission.txt\n",
              "</pre>\n"
            ]
          },
          "metadata": {}
        },
        {
          "output_type": "display_data",
          "data": {
            "text/plain": [
              "Extracted financial data from AAPL filing in sec-edgar-filings/AAPL/\u001b[1;36m10\u001b[0m-K/\u001b[1;36m0001193125\u001b[0m-\u001b[1;36m14\u001b[0m-\u001b[1;36m383437\u001b[0m/full-submission.txt: \n",
              "Net Income = \u001b[1;36m39510.0\u001b[0m, EPS = \u001b[1;36m6.49\u001b[0m\n"
            ],
            "text/html": [
              "<pre style=\"white-space:pre;overflow-x:auto;line-height:normal;font-family:Menlo,'DejaVu Sans Mono',consolas,'Courier New',monospace\">Extracted financial data from AAPL filing in sec-edgar-filings/AAPL/<span style=\"color: #008080; text-decoration-color: #008080; font-weight: bold\">10</span>-K/<span style=\"color: #008080; text-decoration-color: #008080; font-weight: bold\">0001193125</span>-<span style=\"color: #008080; text-decoration-color: #008080; font-weight: bold\">14</span>-<span style=\"color: #008080; text-decoration-color: #008080; font-weight: bold\">383437</span>/full-submission.txt: \n",
              "Net Income = <span style=\"color: #008080; text-decoration-color: #008080; font-weight: bold\">39510.0</span>, EPS = <span style=\"color: #008080; text-decoration-color: #008080; font-weight: bold\">6.49</span>\n",
              "</pre>\n"
            ]
          },
          "metadata": {}
        },
        {
          "output_type": "display_data",
          "data": {
            "text/plain": [
              "No financial data found in AAPL filing insec-edgar-filings/AAPL/\u001b[1;36m10\u001b[0m-K/\u001b[1;36m0001104659\u001b[0m-\u001b[1;36m05\u001b[0m-\u001b[1;36m058421\u001b[0m/full-submission.txt\n"
            ],
            "text/html": [
              "<pre style=\"white-space:pre;overflow-x:auto;line-height:normal;font-family:Menlo,'DejaVu Sans Mono',consolas,'Courier New',monospace\">No financial data found in AAPL filing insec-edgar-filings/AAPL/<span style=\"color: #008080; text-decoration-color: #008080; font-weight: bold\">10</span>-K/<span style=\"color: #008080; text-decoration-color: #008080; font-weight: bold\">0001104659</span>-<span style=\"color: #008080; text-decoration-color: #008080; font-weight: bold\">05</span>-<span style=\"color: #008080; text-decoration-color: #008080; font-weight: bold\">058421</span>/full-submission.txt\n",
              "</pre>\n"
            ]
          },
          "metadata": {}
        },
        {
          "output_type": "display_data",
          "data": {
            "text/plain": [
              "No financial data found in AAPL filing insec-edgar-filings/AAPL/\u001b[1;36m10\u001b[0m-K/\u001b[1;36m0000912057\u001b[0m-\u001b[1;36m00\u001b[0m-\u001b[1;36m053623\u001b[0m/full-submission.txt\n"
            ],
            "text/html": [
              "<pre style=\"white-space:pre;overflow-x:auto;line-height:normal;font-family:Menlo,'DejaVu Sans Mono',consolas,'Courier New',monospace\">No financial data found in AAPL filing insec-edgar-filings/AAPL/<span style=\"color: #008080; text-decoration-color: #008080; font-weight: bold\">10</span>-K/<span style=\"color: #008080; text-decoration-color: #008080; font-weight: bold\">0000912057</span>-<span style=\"color: #008080; text-decoration-color: #008080; font-weight: bold\">00</span>-<span style=\"color: #008080; text-decoration-color: #008080; font-weight: bold\">053623</span>/full-submission.txt\n",
              "</pre>\n"
            ]
          },
          "metadata": {}
        },
        {
          "output_type": "display_data",
          "data": {
            "text/plain": [
              "No financial data found in AAPL filing insec-edgar-filings/AAPL/\u001b[1;36m10\u001b[0m-K/\u001b[1;36m0000320193\u001b[0m-\u001b[1;36m96\u001b[0m-\u001b[1;36m000023\u001b[0m/full-submission.txt\n"
            ],
            "text/html": [
              "<pre style=\"white-space:pre;overflow-x:auto;line-height:normal;font-family:Menlo,'DejaVu Sans Mono',consolas,'Courier New',monospace\">No financial data found in AAPL filing insec-edgar-filings/AAPL/<span style=\"color: #008080; text-decoration-color: #008080; font-weight: bold\">10</span>-K/<span style=\"color: #008080; text-decoration-color: #008080; font-weight: bold\">0000320193</span>-<span style=\"color: #008080; text-decoration-color: #008080; font-weight: bold\">96</span>-<span style=\"color: #008080; text-decoration-color: #008080; font-weight: bold\">000023</span>/full-submission.txt\n",
              "</pre>\n"
            ]
          },
          "metadata": {}
        },
        {
          "output_type": "display_data",
          "data": {
            "text/plain": [
              "No financial data found in AAPL filing insec-edgar-filings/AAPL/\u001b[1;36m10\u001b[0m-K/\u001b[1;36m0001047469\u001b[0m-\u001b[1;36m02\u001b[0m-\u001b[1;36m007674\u001b[0m/full-submission.txt\n"
            ],
            "text/html": [
              "<pre style=\"white-space:pre;overflow-x:auto;line-height:normal;font-family:Menlo,'DejaVu Sans Mono',consolas,'Courier New',monospace\">No financial data found in AAPL filing insec-edgar-filings/AAPL/<span style=\"color: #008080; text-decoration-color: #008080; font-weight: bold\">10</span>-K/<span style=\"color: #008080; text-decoration-color: #008080; font-weight: bold\">0001047469</span>-<span style=\"color: #008080; text-decoration-color: #008080; font-weight: bold\">02</span>-<span style=\"color: #008080; text-decoration-color: #008080; font-weight: bold\">007674</span>/full-submission.txt\n",
              "</pre>\n"
            ]
          },
          "metadata": {}
        },
        {
          "output_type": "display_data",
          "data": {
            "text/plain": [
              "Extracted financial data from AAPL filing in sec-edgar-filings/AAPL/\u001b[1;36m10\u001b[0m-K/\u001b[1;36m0000320193\u001b[0m-\u001b[1;36m23\u001b[0m-\u001b[1;36m000106\u001b[0m/full-submission.txt: \n",
              "Net Income = \u001b[1;36m96995.0\u001b[0m, EPS = \u001b[1;36m6.16\u001b[0m\n"
            ],
            "text/html": [
              "<pre style=\"white-space:pre;overflow-x:auto;line-height:normal;font-family:Menlo,'DejaVu Sans Mono',consolas,'Courier New',monospace\">Extracted financial data from AAPL filing in sec-edgar-filings/AAPL/<span style=\"color: #008080; text-decoration-color: #008080; font-weight: bold\">10</span>-K/<span style=\"color: #008080; text-decoration-color: #008080; font-weight: bold\">0000320193</span>-<span style=\"color: #008080; text-decoration-color: #008080; font-weight: bold\">23</span>-<span style=\"color: #008080; text-decoration-color: #008080; font-weight: bold\">000106</span>/full-submission.txt: \n",
              "Net Income = <span style=\"color: #008080; text-decoration-color: #008080; font-weight: bold\">96995.0</span>, EPS = <span style=\"color: #008080; text-decoration-color: #008080; font-weight: bold\">6.16</span>\n",
              "</pre>\n"
            ]
          },
          "metadata": {}
        },
        {
          "output_type": "display_data",
          "data": {
            "text/plain": [
              "Final Net Income List:\n",
              "\u001b[1m[\u001b[0m\u001b[1;36m57411.0\u001b[0m, \u001b[1;36m35.0\u001b[0m, \u001b[1;36m99803.0\u001b[0m, \u001b[1;36m53394.0\u001b[0m, \u001b[1;36m13686.0\u001b[0m, \u001b[1;36m48351.0\u001b[0m, \u001b[1;36m41733.0\u001b[0m, \u001b[1;36m45687.0\u001b[0m, \u001b[1;36m94680.0\u001b[0m, \u001b[1;36m59531.0\u001b[0m, \u001b[1;36m39510.0\u001b[0m, \u001b[1;36m96995.0\u001b[0m\u001b[1m]\u001b[0m\n"
            ],
            "text/html": [
              "<pre style=\"white-space:pre;overflow-x:auto;line-height:normal;font-family:Menlo,'DejaVu Sans Mono',consolas,'Courier New',monospace\">Final Net Income List:\n",
              "<span style=\"font-weight: bold\">[</span><span style=\"color: #008080; text-decoration-color: #008080; font-weight: bold\">57411.0</span>, <span style=\"color: #008080; text-decoration-color: #008080; font-weight: bold\">35.0</span>, <span style=\"color: #008080; text-decoration-color: #008080; font-weight: bold\">99803.0</span>, <span style=\"color: #008080; text-decoration-color: #008080; font-weight: bold\">53394.0</span>, <span style=\"color: #008080; text-decoration-color: #008080; font-weight: bold\">13686.0</span>, <span style=\"color: #008080; text-decoration-color: #008080; font-weight: bold\">48351.0</span>, <span style=\"color: #008080; text-decoration-color: #008080; font-weight: bold\">41733.0</span>, <span style=\"color: #008080; text-decoration-color: #008080; font-weight: bold\">45687.0</span>, <span style=\"color: #008080; text-decoration-color: #008080; font-weight: bold\">94680.0</span>, <span style=\"color: #008080; text-decoration-color: #008080; font-weight: bold\">59531.0</span>, <span style=\"color: #008080; text-decoration-color: #008080; font-weight: bold\">39510.0</span>, <span style=\"color: #008080; text-decoration-color: #008080; font-weight: bold\">96995.0</span><span style=\"font-weight: bold\">]</span>\n",
              "</pre>\n"
            ]
          },
          "metadata": {}
        },
        {
          "output_type": "display_data",
          "data": {
            "text/plain": [
              "Final EPS List:\n",
              "\u001b[1m[\u001b[0m\u001b[1;36m3.31\u001b[0m, \u001b[1;36m35.0\u001b[0m, \u001b[1;36m6.15\u001b[0m, \u001b[1;36m9.28\u001b[0m, \u001b[1;36m3.05\u001b[0m, \u001b[1;36m9.27\u001b[0m, \u001b[1;36m44.64\u001b[0m, \u001b[1;36m8.35\u001b[0m, \u001b[1;36m5.67\u001b[0m, \u001b[1;36m12.01\u001b[0m, \u001b[1;36m6.49\u001b[0m, \u001b[1;36m6.16\u001b[0m\u001b[1m]\u001b[0m\n"
            ],
            "text/html": [
              "<pre style=\"white-space:pre;overflow-x:auto;line-height:normal;font-family:Menlo,'DejaVu Sans Mono',consolas,'Courier New',monospace\">Final EPS List:\n",
              "<span style=\"font-weight: bold\">[</span><span style=\"color: #008080; text-decoration-color: #008080; font-weight: bold\">3.31</span>, <span style=\"color: #008080; text-decoration-color: #008080; font-weight: bold\">35.0</span>, <span style=\"color: #008080; text-decoration-color: #008080; font-weight: bold\">6.15</span>, <span style=\"color: #008080; text-decoration-color: #008080; font-weight: bold\">9.28</span>, <span style=\"color: #008080; text-decoration-color: #008080; font-weight: bold\">3.05</span>, <span style=\"color: #008080; text-decoration-color: #008080; font-weight: bold\">9.27</span>, <span style=\"color: #008080; text-decoration-color: #008080; font-weight: bold\">44.64</span>, <span style=\"color: #008080; text-decoration-color: #008080; font-weight: bold\">8.35</span>, <span style=\"color: #008080; text-decoration-color: #008080; font-weight: bold\">5.67</span>, <span style=\"color: #008080; text-decoration-color: #008080; font-weight: bold\">12.01</span>, <span style=\"color: #008080; text-decoration-color: #008080; font-weight: bold\">6.49</span>, <span style=\"color: #008080; text-decoration-color: #008080; font-weight: bold\">6.16</span><span style=\"font-weight: bold\">]</span>\n",
              "</pre>\n"
            ]
          },
          "metadata": {}
        }
      ]
    }
  ]
}